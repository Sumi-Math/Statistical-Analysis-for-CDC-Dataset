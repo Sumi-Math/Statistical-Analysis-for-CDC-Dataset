{
  "nbformat": 4,
  "nbformat_minor": 0,
  "metadata": {
    "colab": {
      "provenance": [],
      "toc_visible": true,
      "include_colab_link": true
    },
    "kernelspec": {
      "name": "python3",
      "display_name": "Python 3"
    },
    "language_info": {
      "name": "python"
    }
  },
  "cells": [
    {
      "cell_type": "markdown",
      "metadata": {
        "id": "view-in-github",
        "colab_type": "text"
      },
      "source": [
        "<a href=\"https://colab.research.google.com/github/Sumi-Math/Statistical-Analysis-for-CDC-Dataset/blob/main/Group_4_CDC_Dataset_Analysis.ipynb\" target=\"_parent\"><img src=\"https://colab.research.google.com/assets/colab-badge.svg\" alt=\"Open In Colab\"/></a>"
      ]
    },
    {
      "cell_type": "code",
      "metadata": {
        "id": "EunBcc9PgIIq"
      },
      "source": [
        "#Install necessary packages\n"
      ],
      "execution_count": null,
      "outputs": []
    },
    {
      "cell_type": "markdown",
      "source": [
        "# 0.0 Import libraries"
      ],
      "metadata": {
        "id": "jzxU8Ac9mkeX"
      }
    },
    {
      "cell_type": "code",
      "metadata": {
        "id": "HEie--QSAniD",
        "colab": {
          "base_uri": "https://localhost:8080/"
        },
        "outputId": "7428a903-4ecf-49cd-9569-d107d37d970a"
      },
      "source": [
        "import re\n",
        "from re import search\n",
        "\n",
        "from matplotlib import pyplot as plt\n",
        "from matplotlib import rcParams\n",
        "import pandas as pd\n",
        "import math\n",
        "\n",
        "import seaborn as sns\n",
        "import numpy as np\n",
        "import scipy.stats as st\n",
        "import statsmodels.stats.multicomp as mc\n",
        "import statsmodels.formula.api as sm\n",
        "\n",
        "from statsmodels.discrete.discrete_model import Logit\n",
        "from scipy.special import logit\n",
        "\n",
        "from statsmodels.graphics.regressionplots import plot_regress_exog, plot_fit, plot_leverage_resid2, influence_plot"
      ],
      "execution_count": null,
      "outputs": [
        {
          "output_type": "stream",
          "name": "stderr",
          "text": [
            "/usr/local/lib/python3.7/dist-packages/statsmodels/tools/_testing.py:19: FutureWarning: pandas.util.testing is deprecated. Use the functions in the public API at pandas.testing instead.\n",
            "  import pandas.util.testing as tm\n"
          ]
        }
      ]
    },
    {
      "cell_type": "markdown",
      "source": [
        "## 0.1 Setup Variables and Functions"
      ],
      "metadata": {
        "id": "7If_OEqHzz6M"
      }
    },
    {
      "cell_type": "code",
      "source": [
        "#Set this to True when running from Google's Colab environment under group's shared drive\n",
        "gDriveUsed = True\n",
        "\n",
        "#Set this variable to True if the code is being executed in one full shot and cached data is used for processing\n",
        "continuous = True\n",
        "\n",
        "#To make plots have same look feel\n",
        "plt.style.use('seaborn-bright')\n",
        "\n",
        "def readProcessedData():\n",
        "  if ~continuous & gDriveUsed:\n",
        "    df = pd.read_csv('/content/drive/MyDrive/Stats for Data Science (Group 4)/CDC_data2019_processed_v2.csv')\n",
        "  else:\n",
        "    df = df_final.copy(True)\n",
        "\n",
        "  return df"
      ],
      "metadata": {
        "id": "-RsMvdmSzl1m"
      },
      "execution_count": null,
      "outputs": []
    },
    {
      "cell_type": "markdown",
      "source": [
        "## 0.2 Attach Google Drive"
      ],
      "metadata": {
        "id": "Zi2G1KVgmxSP"
      }
    },
    {
      "cell_type": "code",
      "metadata": {
        "colab": {
          "base_uri": "https://localhost:8080/"
        },
        "id": "b1D8KoZAAopp",
        "outputId": "d512f667-be24-4b03-e836-22d927e65784"
      },
      "source": [
        "if gDriveUsed:\n",
        "  from google.colab import drive\n",
        "  drive.mount('/content/drive')"
      ],
      "execution_count": null,
      "outputs": [
        {
          "output_type": "stream",
          "name": "stdout",
          "text": [
            "Drive already mounted at /content/drive; to attempt to forcibly remount, call drive.mount(\"/content/drive\", force_remount=True).\n"
          ]
        }
      ]
    },
    {
      "cell_type": "markdown",
      "source": [
        "# 1.0 EDA"
      ],
      "metadata": {
        "id": "pN2vLwQIrHYn"
      }
    },
    {
      "cell_type": "markdown",
      "source": [
        "## 1.1 Read Raw Data"
      ],
      "metadata": {
        "id": "gn45VEC-nQGR"
      }
    },
    {
      "cell_type": "code",
      "metadata": {
        "id": "MQLc5coZfRhN",
        "colab": {
          "base_uri": "https://localhost:8080/",
          "height": 542
        },
        "outputId": "c06b14aa-9087-49be-8e1d-5f881561ec01"
      },
      "source": [
        "#Read data from a google drive that is shared among the group\n",
        "if gDriveUsed:\n",
        "  df = pd.read_csv('/content/drive/MyDrive/Stats for Data Science (Group 4)/CDC_data2019.csv')\n",
        "#Use this line if dataset is loaded locally where the notebook is running from\n",
        "else:\n",
        "  df = pd.read_csv('CDC_data2019.csv')\n",
        "\n",
        "df.head(4)"
      ],
      "execution_count": null,
      "outputs": [
        {
          "output_type": "execute_result",
          "data": {
            "text/html": [
              "<div>\n",
              "<style scoped>\n",
              "    .dataframe tbody tr th:only-of-type {\n",
              "        vertical-align: middle;\n",
              "    }\n",
              "\n",
              "    .dataframe tbody tr th {\n",
              "        vertical-align: top;\n",
              "    }\n",
              "\n",
              "    .dataframe thead th {\n",
              "        text-align: right;\n",
              "    }\n",
              "</style>\n",
              "<table border=\"1\" class=\"dataframe\">\n",
              "  <thead>\n",
              "    <tr style=\"text-align: right;\">\n",
              "      <th></th>\n",
              "      <th>YearStart</th>\n",
              "      <th>YearEnd</th>\n",
              "      <th>LocationAbbr</th>\n",
              "      <th>LocationDesc</th>\n",
              "      <th>Datasource</th>\n",
              "      <th>Class</th>\n",
              "      <th>Topic</th>\n",
              "      <th>Question</th>\n",
              "      <th>Data_Value_Unit</th>\n",
              "      <th>Data_Value_Type</th>\n",
              "      <th>Data_Value</th>\n",
              "      <th>Data_Value_Alt</th>\n",
              "      <th>Data_Value_Footnote_Symbol</th>\n",
              "      <th>Data_Value_Footnote</th>\n",
              "      <th>Low_Confidence_Limit</th>\n",
              "      <th>High_Confidence_Limit</th>\n",
              "      <th>Sample_Size</th>\n",
              "      <th>Total</th>\n",
              "      <th>Age(years)</th>\n",
              "      <th>Education</th>\n",
              "      <th>Gender</th>\n",
              "      <th>Income</th>\n",
              "      <th>Race/Ethnicity</th>\n",
              "      <th>GeoLocation</th>\n",
              "      <th>ClassID</th>\n",
              "      <th>TopicID</th>\n",
              "      <th>QuestionID</th>\n",
              "      <th>DataValueTypeID</th>\n",
              "      <th>LocationID</th>\n",
              "      <th>StratificationCategory1</th>\n",
              "      <th>Stratification1</th>\n",
              "      <th>StratificationCategoryId1</th>\n",
              "      <th>StratificationID1</th>\n",
              "    </tr>\n",
              "  </thead>\n",
              "  <tbody>\n",
              "    <tr>\n",
              "      <th>0</th>\n",
              "      <td>2014</td>\n",
              "      <td>2014</td>\n",
              "      <td>GU</td>\n",
              "      <td>Guam</td>\n",
              "      <td>Behavioral Risk Factor Surveillance System</td>\n",
              "      <td>Obesity / Weight Status</td>\n",
              "      <td>Obesity / Weight Status</td>\n",
              "      <td>Percent of adults aged 18 years and older who ...</td>\n",
              "      <td>NaN</td>\n",
              "      <td>Value</td>\n",
              "      <td>29.3</td>\n",
              "      <td>29.3</td>\n",
              "      <td>NaN</td>\n",
              "      <td>NaN</td>\n",
              "      <td>25.7</td>\n",
              "      <td>33.3</td>\n",
              "      <td>842</td>\n",
              "      <td>NaN</td>\n",
              "      <td>NaN</td>\n",
              "      <td>High school graduate</td>\n",
              "      <td>NaN</td>\n",
              "      <td>NaN</td>\n",
              "      <td>NaN</td>\n",
              "      <td>(13.444304, 144.793731)</td>\n",
              "      <td>OWS</td>\n",
              "      <td>OWS1</td>\n",
              "      <td>Q036</td>\n",
              "      <td>VALUE</td>\n",
              "      <td>66</td>\n",
              "      <td>Education</td>\n",
              "      <td>High school graduate</td>\n",
              "      <td>EDU</td>\n",
              "      <td>EDUHSGRAD</td>\n",
              "    </tr>\n",
              "    <tr>\n",
              "      <th>1</th>\n",
              "      <td>2013</td>\n",
              "      <td>2013</td>\n",
              "      <td>US</td>\n",
              "      <td>National</td>\n",
              "      <td>Behavioral Risk Factor Surveillance System</td>\n",
              "      <td>Obesity / Weight Status</td>\n",
              "      <td>Obesity / Weight Status</td>\n",
              "      <td>Percent of adults aged 18 years and older who ...</td>\n",
              "      <td>NaN</td>\n",
              "      <td>Value</td>\n",
              "      <td>28.8</td>\n",
              "      <td>28.8</td>\n",
              "      <td>NaN</td>\n",
              "      <td>NaN</td>\n",
              "      <td>28.1</td>\n",
              "      <td>29.5</td>\n",
              "      <td>62,562</td>\n",
              "      <td>NaN</td>\n",
              "      <td>NaN</td>\n",
              "      <td>NaN</td>\n",
              "      <td>NaN</td>\n",
              "      <td>$50,000 - $74,999</td>\n",
              "      <td>NaN</td>\n",
              "      <td>NaN</td>\n",
              "      <td>OWS</td>\n",
              "      <td>OWS1</td>\n",
              "      <td>Q036</td>\n",
              "      <td>VALUE</td>\n",
              "      <td>59</td>\n",
              "      <td>Income</td>\n",
              "      <td>$50,000 - $74,999</td>\n",
              "      <td>INC</td>\n",
              "      <td>INC5075</td>\n",
              "    </tr>\n",
              "    <tr>\n",
              "      <th>2</th>\n",
              "      <td>2013</td>\n",
              "      <td>2013</td>\n",
              "      <td>US</td>\n",
              "      <td>National</td>\n",
              "      <td>Behavioral Risk Factor Surveillance System</td>\n",
              "      <td>Obesity / Weight Status</td>\n",
              "      <td>Obesity / Weight Status</td>\n",
              "      <td>Percent of adults aged 18 years and older who ...</td>\n",
              "      <td>NaN</td>\n",
              "      <td>Value</td>\n",
              "      <td>32.7</td>\n",
              "      <td>32.7</td>\n",
              "      <td>NaN</td>\n",
              "      <td>NaN</td>\n",
              "      <td>31.9</td>\n",
              "      <td>33.5</td>\n",
              "      <td>60,069</td>\n",
              "      <td>NaN</td>\n",
              "      <td>NaN</td>\n",
              "      <td>NaN</td>\n",
              "      <td>NaN</td>\n",
              "      <td>Data not reported</td>\n",
              "      <td>NaN</td>\n",
              "      <td>NaN</td>\n",
              "      <td>OWS</td>\n",
              "      <td>OWS1</td>\n",
              "      <td>Q037</td>\n",
              "      <td>VALUE</td>\n",
              "      <td>59</td>\n",
              "      <td>Income</td>\n",
              "      <td>Data not reported</td>\n",
              "      <td>INC</td>\n",
              "      <td>INCNR</td>\n",
              "    </tr>\n",
              "    <tr>\n",
              "      <th>3</th>\n",
              "      <td>2015</td>\n",
              "      <td>2015</td>\n",
              "      <td>US</td>\n",
              "      <td>National</td>\n",
              "      <td>Behavioral Risk Factor Surveillance System</td>\n",
              "      <td>Physical Activity</td>\n",
              "      <td>Physical Activity - Behavior</td>\n",
              "      <td>Percent of adults who achieve at least 300 min...</td>\n",
              "      <td>NaN</td>\n",
              "      <td>Value</td>\n",
              "      <td>26.6</td>\n",
              "      <td>26.6</td>\n",
              "      <td>NaN</td>\n",
              "      <td>NaN</td>\n",
              "      <td>25.6</td>\n",
              "      <td>27.6</td>\n",
              "      <td>30,904</td>\n",
              "      <td>NaN</td>\n",
              "      <td>NaN</td>\n",
              "      <td>NaN</td>\n",
              "      <td>NaN</td>\n",
              "      <td>Less than $15,000</td>\n",
              "      <td>NaN</td>\n",
              "      <td>NaN</td>\n",
              "      <td>PA</td>\n",
              "      <td>PA1</td>\n",
              "      <td>Q045</td>\n",
              "      <td>VALUE</td>\n",
              "      <td>59</td>\n",
              "      <td>Income</td>\n",
              "      <td>Less than $15,000</td>\n",
              "      <td>INC</td>\n",
              "      <td>INCLESS15</td>\n",
              "    </tr>\n",
              "  </tbody>\n",
              "</table>\n",
              "</div>"
            ],
            "text/plain": [
              "   YearStart  YearEnd  ... StratificationCategoryId1 StratificationID1\n",
              "0       2014     2014  ...                       EDU         EDUHSGRAD\n",
              "1       2013     2013  ...                       INC           INC5075\n",
              "2       2013     2013  ...                       INC             INCNR\n",
              "3       2015     2015  ...                       INC         INCLESS15\n",
              "\n",
              "[4 rows x 33 columns]"
            ]
          },
          "metadata": {},
          "execution_count": 5
        }
      ]
    },
    {
      "cell_type": "code",
      "metadata": {
        "colab": {
          "base_uri": "https://localhost:8080/",
          "height": 300
        },
        "id": "P03xNrnNgKw4",
        "outputId": "79451e98-119f-457e-e1fe-0ede8d9572d0"
      },
      "source": [
        "df.describe()"
      ],
      "execution_count": null,
      "outputs": [
        {
          "output_type": "execute_result",
          "data": {
            "text/html": [
              "<div>\n",
              "<style scoped>\n",
              "    .dataframe tbody tr th:only-of-type {\n",
              "        vertical-align: middle;\n",
              "    }\n",
              "\n",
              "    .dataframe tbody tr th {\n",
              "        vertical-align: top;\n",
              "    }\n",
              "\n",
              "    .dataframe thead th {\n",
              "        text-align: right;\n",
              "    }\n",
              "</style>\n",
              "<table border=\"1\" class=\"dataframe\">\n",
              "  <thead>\n",
              "    <tr style=\"text-align: right;\">\n",
              "      <th></th>\n",
              "      <th>YearStart</th>\n",
              "      <th>YearEnd</th>\n",
              "      <th>Data_Value_Unit</th>\n",
              "      <th>Data_Value</th>\n",
              "      <th>Data_Value_Alt</th>\n",
              "      <th>Low_Confidence_Limit</th>\n",
              "      <th>High_Confidence_Limit</th>\n",
              "      <th>LocationID</th>\n",
              "    </tr>\n",
              "  </thead>\n",
              "  <tbody>\n",
              "    <tr>\n",
              "      <th>count</th>\n",
              "      <td>76393.000000</td>\n",
              "      <td>76393.000000</td>\n",
              "      <td>0.0</td>\n",
              "      <td>68847.000000</td>\n",
              "      <td>68847.000000</td>\n",
              "      <td>68847.000000</td>\n",
              "      <td>68847.000000</td>\n",
              "      <td>76393.000000</td>\n",
              "    </tr>\n",
              "    <tr>\n",
              "      <th>mean</th>\n",
              "      <td>2015.271700</td>\n",
              "      <td>2015.271700</td>\n",
              "      <td>NaN</td>\n",
              "      <td>31.285089</td>\n",
              "      <td>31.285089</td>\n",
              "      <td>26.987843</td>\n",
              "      <td>36.145424</td>\n",
              "      <td>30.805362</td>\n",
              "    </tr>\n",
              "    <tr>\n",
              "      <th>std</th>\n",
              "      <td>2.702072</td>\n",
              "      <td>2.702072</td>\n",
              "      <td>NaN</td>\n",
              "      <td>10.268325</td>\n",
              "      <td>10.268325</td>\n",
              "      <td>10.070582</td>\n",
              "      <td>11.186505</td>\n",
              "      <td>17.390874</td>\n",
              "    </tr>\n",
              "    <tr>\n",
              "      <th>min</th>\n",
              "      <td>2011.000000</td>\n",
              "      <td>2011.000000</td>\n",
              "      <td>NaN</td>\n",
              "      <td>0.900000</td>\n",
              "      <td>0.900000</td>\n",
              "      <td>0.300000</td>\n",
              "      <td>3.000000</td>\n",
              "      <td>1.000000</td>\n",
              "    </tr>\n",
              "    <tr>\n",
              "      <th>25%</th>\n",
              "      <td>2013.000000</td>\n",
              "      <td>2013.000000</td>\n",
              "      <td>NaN</td>\n",
              "      <td>24.400000</td>\n",
              "      <td>24.400000</td>\n",
              "      <td>20.100000</td>\n",
              "      <td>28.600000</td>\n",
              "      <td>17.000000</td>\n",
              "    </tr>\n",
              "    <tr>\n",
              "      <th>50%</th>\n",
              "      <td>2015.000000</td>\n",
              "      <td>2015.000000</td>\n",
              "      <td>NaN</td>\n",
              "      <td>31.000000</td>\n",
              "      <td>31.000000</td>\n",
              "      <td>26.700000</td>\n",
              "      <td>35.700000</td>\n",
              "      <td>30.000000</td>\n",
              "    </tr>\n",
              "    <tr>\n",
              "      <th>75%</th>\n",
              "      <td>2017.000000</td>\n",
              "      <td>2017.000000</td>\n",
              "      <td>NaN</td>\n",
              "      <td>37.000000</td>\n",
              "      <td>37.000000</td>\n",
              "      <td>32.900000</td>\n",
              "      <td>42.100000</td>\n",
              "      <td>45.000000</td>\n",
              "    </tr>\n",
              "    <tr>\n",
              "      <th>max</th>\n",
              "      <td>2019.000000</td>\n",
              "      <td>2019.000000</td>\n",
              "      <td>NaN</td>\n",
              "      <td>77.600000</td>\n",
              "      <td>77.600000</td>\n",
              "      <td>70.200000</td>\n",
              "      <td>87.700000</td>\n",
              "      <td>78.000000</td>\n",
              "    </tr>\n",
              "  </tbody>\n",
              "</table>\n",
              "</div>"
            ],
            "text/plain": [
              "          YearStart       YearEnd  ...  High_Confidence_Limit     LocationID\n",
              "count  76393.000000  76393.000000  ...            68847.000000  76393.000000\n",
              "mean    2015.271700   2015.271700  ...               36.145424     30.805362\n",
              "std        2.702072      2.702072  ...               11.186505     17.390874\n",
              "min     2011.000000   2011.000000  ...                3.000000      1.000000\n",
              "25%     2013.000000   2013.000000  ...               28.600000     17.000000\n",
              "50%     2015.000000   2015.000000  ...               35.700000     30.000000\n",
              "75%     2017.000000   2017.000000  ...               42.100000     45.000000\n",
              "max     2019.000000   2019.000000  ...               87.700000     78.000000\n",
              "\n",
              "[8 rows x 8 columns]"
            ]
          },
          "metadata": {},
          "execution_count": 6
        }
      ]
    },
    {
      "cell_type": "code",
      "metadata": {
        "colab": {
          "base_uri": "https://localhost:8080/"
        },
        "id": "z2lrEcFvi8uL",
        "outputId": "05bd0cf6-413d-4241-8c05-b206242b9773"
      },
      "source": [
        "df.info()"
      ],
      "execution_count": null,
      "outputs": [
        {
          "output_type": "stream",
          "name": "stdout",
          "text": [
            "<class 'pandas.core.frame.DataFrame'>\n",
            "RangeIndex: 76393 entries, 0 to 76392\n",
            "Data columns (total 33 columns):\n",
            " #   Column                      Non-Null Count  Dtype  \n",
            "---  ------                      --------------  -----  \n",
            " 0   YearStart                   76393 non-null  int64  \n",
            " 1   YearEnd                     76393 non-null  int64  \n",
            " 2   LocationAbbr                76393 non-null  object \n",
            " 3   LocationDesc                76393 non-null  object \n",
            " 4   Datasource                  76393 non-null  object \n",
            " 5   Class                       76393 non-null  object \n",
            " 6   Topic                       76393 non-null  object \n",
            " 7   Question                    76393 non-null  object \n",
            " 8   Data_Value_Unit             0 non-null      float64\n",
            " 9   Data_Value_Type             76393 non-null  object \n",
            " 10  Data_Value                  68847 non-null  float64\n",
            " 11  Data_Value_Alt              68847 non-null  float64\n",
            " 12  Data_Value_Footnote_Symbol  7546 non-null   object \n",
            " 13  Data_Value_Footnote         7546 non-null   object \n",
            " 14  Low_Confidence_Limit        68847 non-null  float64\n",
            " 15  High_Confidence_Limit       68847 non-null  float64\n",
            " 16  Sample_Size                 68847 non-null  object \n",
            " 17  Total                       2728 non-null   object \n",
            " 18  Age(years)                  16368 non-null  object \n",
            " 19  Education                   10912 non-null  object \n",
            " 20  Gender                      5456 non-null   object \n",
            " 21  Income                      19096 non-null  object \n",
            " 22  Race/Ethnicity              21824 non-null  object \n",
            " 23  GeoLocation                 74965 non-null  object \n",
            " 24  ClassID                     76393 non-null  object \n",
            " 25  TopicID                     76393 non-null  object \n",
            " 26  QuestionID                  76393 non-null  object \n",
            " 27  DataValueTypeID             76393 non-null  object \n",
            " 28  LocationID                  76393 non-null  int64  \n",
            " 29  StratificationCategory1     76384 non-null  object \n",
            " 30  Stratification1             76384 non-null  object \n",
            " 31  StratificationCategoryId1   76384 non-null  object \n",
            " 32  StratificationID1           76384 non-null  object \n",
            "dtypes: float64(5), int64(3), object(25)\n",
            "memory usage: 19.2+ MB\n"
          ]
        }
      ]
    },
    {
      "cell_type": "code",
      "metadata": {
        "colab": {
          "base_uri": "https://localhost:8080/"
        },
        "id": "W-Q7fse4i_0w",
        "outputId": "710f5872-af5a-436d-b2c4-fd590228de00"
      },
      "source": [
        "df.YearStart.unique()"
      ],
      "execution_count": null,
      "outputs": [
        {
          "output_type": "execute_result",
          "data": {
            "text/plain": [
              "array([2014, 2013, 2015, 2012, 2011, 2017, 2016, 2018, 2019])"
            ]
          },
          "metadata": {},
          "execution_count": 8
        }
      ]
    },
    {
      "cell_type": "code",
      "metadata": {
        "colab": {
          "base_uri": "https://localhost:8080/"
        },
        "id": "UlQWHMpzjwju",
        "outputId": "65f465bb-ba8a-47c2-d68c-57a3a2ffc222"
      },
      "source": [
        "df.Question.unique(), len(df.Question.unique())"
      ],
      "execution_count": null,
      "outputs": [
        {
          "output_type": "execute_result",
          "data": {
            "text/plain": [
              "(array(['Percent of adults aged 18 years and older who have obesity',\n",
              "        'Percent of adults aged 18 years and older who have an overweight classification',\n",
              "        'Percent of adults who achieve at least 300 minutes a week of moderate-intensity aerobic physical activity or 150 minutes a week of vigorous-intensity aerobic activity (or an equivalent combination)',\n",
              "        'Percent of adults who achieve at least 150 minutes a week of moderate-intensity aerobic physical activity or 75 minutes a week of vigorous-intensity aerobic physical activity and engage in muscle-strengthening activities on 2 or more days a week',\n",
              "        'Percent of adults who engage in no leisure-time physical activity',\n",
              "        'Percent of adults who achieve at least 150 minutes a week of moderate-intensity aerobic physical activity or 75 minutes a week of vigorous-intensity aerobic activity (or an equivalent combination)',\n",
              "        'Percent of adults who engage in muscle-strengthening activities on 2 or more days a week',\n",
              "        'Percent of adults who report consuming fruit less than one time daily',\n",
              "        'Percent of adults who report consuming vegetables less than one time daily'],\n",
              "       dtype=object), 9)"
            ]
          },
          "metadata": {},
          "execution_count": 9
        }
      ]
    },
    {
      "cell_type": "code",
      "metadata": {
        "colab": {
          "base_uri": "https://localhost:8080/",
          "height": 397
        },
        "id": "f8Fsso2-TuVg",
        "outputId": "639814b2-455b-4482-a3f4-ac9459e37395"
      },
      "source": [
        "df[['Question','QuestionID']].groupby(['Question','QuestionID']).count()"
      ],
      "execution_count": null,
      "outputs": [
        {
          "output_type": "execute_result",
          "data": {
            "text/html": [
              "<div>\n",
              "<style scoped>\n",
              "    .dataframe tbody tr th:only-of-type {\n",
              "        vertical-align: middle;\n",
              "    }\n",
              "\n",
              "    .dataframe tbody tr th {\n",
              "        vertical-align: top;\n",
              "    }\n",
              "\n",
              "    .dataframe thead th {\n",
              "        text-align: right;\n",
              "    }\n",
              "</style>\n",
              "<table border=\"1\" class=\"dataframe\">\n",
              "  <thead>\n",
              "    <tr style=\"text-align: right;\">\n",
              "      <th></th>\n",
              "      <th></th>\n",
              "    </tr>\n",
              "    <tr>\n",
              "      <th>Question</th>\n",
              "      <th>QuestionID</th>\n",
              "    </tr>\n",
              "  </thead>\n",
              "  <tbody>\n",
              "    <tr>\n",
              "      <th>Percent of adults aged 18 years and older who have an overweight classification</th>\n",
              "      <th>Q037</th>\n",
              "    </tr>\n",
              "    <tr>\n",
              "      <th>Percent of adults aged 18 years and older who have obesity</th>\n",
              "      <th>Q036</th>\n",
              "    </tr>\n",
              "    <tr>\n",
              "      <th>Percent of adults who achieve at least 150 minutes a week of moderate-intensity aerobic physical activity or 75 minutes a week of vigorous-intensity aerobic activity (or an equivalent combination)</th>\n",
              "      <th>Q043</th>\n",
              "    </tr>\n",
              "    <tr>\n",
              "      <th>Percent of adults who achieve at least 150 minutes a week of moderate-intensity aerobic physical activity or 75 minutes a week of vigorous-intensity aerobic physical activity and engage in muscle-strengthening activities on 2 or more days a week</th>\n",
              "      <th>Q044</th>\n",
              "    </tr>\n",
              "    <tr>\n",
              "      <th>Percent of adults who achieve at least 300 minutes a week of moderate-intensity aerobic physical activity or 150 minutes a week of vigorous-intensity aerobic activity (or an equivalent combination)</th>\n",
              "      <th>Q045</th>\n",
              "    </tr>\n",
              "    <tr>\n",
              "      <th>Percent of adults who engage in muscle-strengthening activities on 2 or more days a week</th>\n",
              "      <th>Q046</th>\n",
              "    </tr>\n",
              "    <tr>\n",
              "      <th>Percent of adults who engage in no leisure-time physical activity</th>\n",
              "      <th>Q047</th>\n",
              "    </tr>\n",
              "    <tr>\n",
              "      <th>Percent of adults who report consuming fruit less than one time daily</th>\n",
              "      <th>Q018</th>\n",
              "    </tr>\n",
              "    <tr>\n",
              "      <th>Percent of adults who report consuming vegetables less than one time daily</th>\n",
              "      <th>Q019</th>\n",
              "    </tr>\n",
              "  </tbody>\n",
              "</table>\n",
              "</div>"
            ],
            "text/plain": [
              "Empty DataFrame\n",
              "Columns: []\n",
              "Index: [(Percent of adults aged 18 years and older who have an overweight classification, Q037), (Percent of adults aged 18 years and older who have obesity, Q036), (Percent of adults who achieve at least 150 minutes a week of moderate-intensity aerobic physical activity or 75 minutes a week of vigorous-intensity aerobic activity (or an equivalent combination), Q043), (Percent of adults who achieve at least 150 minutes a week of moderate-intensity aerobic physical activity or 75 minutes a week of vigorous-intensity aerobic physical activity and engage in muscle-strengthening activities on 2 or more days a week, Q044), (Percent of adults who achieve at least 300 minutes a week of moderate-intensity aerobic physical activity or 150 minutes a week of vigorous-intensity aerobic activity (or an equivalent combination), Q045), (Percent of adults who engage in muscle-strengthening activities on 2 or more days a week, Q046), (Percent of adults who engage in no leisure-time physical activity, Q047), (Percent of adults who report consuming fruit less than one time daily, Q018), (Percent of adults who report consuming vegetables less than one time daily, Q019)]"
            ]
          },
          "metadata": {},
          "execution_count": 10
        }
      ]
    },
    {
      "cell_type": "markdown",
      "source": [
        "### 1.1.1 Helper Function to Simplify Question Names and Topic Names"
      ],
      "metadata": {
        "id": "Z41xZgj3pGaq"
      }
    },
    {
      "cell_type": "code",
      "metadata": {
        "id": "NFIjn49fTVim"
      },
      "source": [
        "def qNameShorten(s):\n",
        "  if search('Q037', s, re.IGNORECASE):\n",
        "    return '% of 18+ are overweight'\n",
        "  if search('Q036', s, re.IGNORECASE):\n",
        "    return '% of 18+ are obese'\n",
        "  if search('Q043', s, re.IGNORECASE):\n",
        "    return 'Moderate aero per week'\n",
        "  if search('Q044', s, re.IGNORECASE):\n",
        "    return 'Moderate aero and muscle 2+ days per week'\n",
        "  if search('Q045', s, re.IGNORECASE):\n",
        "    return 'High aero per week'\n",
        "  if search('Q046', s, re.IGNORECASE):\n",
        "    return 'Muscle 2+ days per week'\n",
        "  if search('Q047', s, re.IGNORECASE):\n",
        "    return 'No activity'\n",
        "  if search('Q018', s, re.IGNORECASE):\n",
        "    return 'Not consuming fruits'\n",
        "  if search('Q019', s, re.IGNORECASE):\n",
        "    return 'Not consuming vegetables'\n",
        "  else:\n",
        "    return ''\n",
        ""
      ],
      "execution_count": null,
      "outputs": []
    },
    {
      "cell_type": "code",
      "metadata": {
        "id": "0bofVn7BWpu1"
      },
      "source": [
        "df['qName'] = df.QuestionID.apply(qNameShorten)"
      ],
      "execution_count": null,
      "outputs": []
    },
    {
      "cell_type": "code",
      "metadata": {
        "colab": {
          "base_uri": "https://localhost:8080/"
        },
        "id": "-rmzZb8UPKYo",
        "outputId": "98fde248-63a4-4ae1-edbb-1f1127548515"
      },
      "source": [
        "df.Topic.unique()"
      ],
      "execution_count": null,
      "outputs": [
        {
          "output_type": "execute_result",
          "data": {
            "text/plain": [
              "array(['Obesity / Weight Status', 'Physical Activity - Behavior',\n",
              "       'Fruits and Vegetables - Behavior'], dtype=object)"
            ]
          },
          "metadata": {},
          "execution_count": 13
        }
      ]
    },
    {
      "cell_type": "code",
      "metadata": {
        "id": "EQL3K5k2QfdA"
      },
      "source": [
        "def topicShortenName(s):\n",
        "  if search('obesity', s, re.IGNORECASE):\n",
        "    return 'Obesity'\n",
        "  if search('physical', s, re.IGNORECASE):\n",
        "    return 'Activity'\n",
        "  if search('fruits and vegetables', s, re.IGNORECASE):\n",
        "    return 'Food'\n",
        "  else:\n",
        "    return -1"
      ],
      "execution_count": null,
      "outputs": []
    },
    {
      "cell_type": "code",
      "metadata": {
        "id": "jwj_bVL2RTvJ"
      },
      "source": [
        "df['tName'] = df.Topic.apply(topicShortenName)"
      ],
      "execution_count": null,
      "outputs": []
    },
    {
      "cell_type": "markdown",
      "source": [
        "### 1.1.2 Discard records that have no values for Data_Value field"
      ],
      "metadata": {
        "id": "L3aIbPLFpSG9"
      }
    },
    {
      "cell_type": "code",
      "metadata": {
        "id": "YeJtm3U5H2FE"
      },
      "source": [
        "df=df.dropna(subset=['Data_Value'])"
      ],
      "execution_count": null,
      "outputs": []
    },
    {
      "cell_type": "code",
      "metadata": {
        "colab": {
          "base_uri": "https://localhost:8080/"
        },
        "id": "yvBU7h2UC2Z5",
        "outputId": "7bdd924f-362b-4f42-9bcc-75b8855b423a"
      },
      "source": [
        "df.count()"
      ],
      "execution_count": null,
      "outputs": [
        {
          "output_type": "execute_result",
          "data": {
            "text/plain": [
              "YearStart                     68847\n",
              "YearEnd                       68847\n",
              "LocationAbbr                  68847\n",
              "LocationDesc                  68847\n",
              "Datasource                    68847\n",
              "Class                         68847\n",
              "Topic                         68847\n",
              "Question                      68847\n",
              "Data_Value_Unit                   0\n",
              "Data_Value_Type               68847\n",
              "Data_Value                    68847\n",
              "Data_Value_Alt                68847\n",
              "Data_Value_Footnote_Symbol        0\n",
              "Data_Value_Footnote               0\n",
              "Low_Confidence_Limit          68847\n",
              "High_Confidence_Limit         68847\n",
              "Sample_Size                   68847\n",
              "Total                          2716\n",
              "Age(years)                    16296\n",
              "Education                     10864\n",
              "Gender                         5432\n",
              "Income                        19012\n",
              "Race/Ethnicity                14527\n",
              "GeoLocation                   67419\n",
              "ClassID                       68847\n",
              "TopicID                       68847\n",
              "QuestionID                    68847\n",
              "DataValueTypeID               68847\n",
              "LocationID                    68847\n",
              "StratificationCategory1       68847\n",
              "Stratification1               68847\n",
              "StratificationCategoryId1     68847\n",
              "StratificationID1             68847\n",
              "qName                         68847\n",
              "tName                         68847\n",
              "dtype: int64"
            ]
          },
          "metadata": {},
          "execution_count": 17
        }
      ]
    },
    {
      "cell_type": "markdown",
      "source": [
        "Lost about 8k records, which is not significant since we had 76k records to start with"
      ],
      "metadata": {
        "id": "GQaJKOT3phSy"
      }
    },
    {
      "cell_type": "markdown",
      "source": [
        "### 1.1.3 Compare Year End and Year Start fields"
      ],
      "metadata": {
        "id": "EtGqV0D2pta3"
      }
    },
    {
      "cell_type": "code",
      "metadata": {
        "colab": {
          "base_uri": "https://localhost:8080/"
        },
        "id": "Nhol-ywpDYIX",
        "outputId": "6ca1efb6-21df-4599-b6e9-175f6013f37f"
      },
      "source": [
        "#Determine Year End and Year Start contain the same info\n",
        "(df.YearEnd - df.YearStart).mean() #YearStart and YearEnd show the same thing"
      ],
      "execution_count": null,
      "outputs": [
        {
          "output_type": "execute_result",
          "data": {
            "text/plain": [
              "0.0"
            ]
          },
          "metadata": {},
          "execution_count": 18
        }
      ]
    },
    {
      "cell_type": "markdown",
      "source": [
        "### 1.1.4 Number of Responses per Question Type each year"
      ],
      "metadata": {
        "id": "L7Mg1HFSp7d1"
      }
    },
    {
      "cell_type": "code",
      "metadata": {
        "colab": {
          "base_uri": "https://localhost:8080/",
          "height": 476
        },
        "id": "NEOpIyXaUf5L",
        "outputId": "aee46afc-6b5a-4ed3-ed2a-f4872ea4cf76"
      },
      "source": [
        "df_q0 = df.groupby(['YearStart','Topic']).size().unstack().plot(kind='bar', figsize=(15,7))\n",
        "plt.style.use('seaborn-bright')\n",
        "plt.legend(bbox_to_anchor=(1.0, 1.0))"
      ],
      "execution_count": null,
      "outputs": [
        {
          "output_type": "execute_result",
          "data": {
            "text/plain": [
              "<matplotlib.legend.Legend at 0x7f2e82758090>"
            ]
          },
          "metadata": {},
          "execution_count": 19
        },
        {
          "output_type": "display_data",
          "data": {
            "image/png": "[encoded data removed]",
            "text/plain": [
              "<Figure size 1080x504 with 1 Axes>"
            ]
          },
          "metadata": {
            "needs_background": "light"
          }
        }
      ]
    },
    {
      "cell_type": "markdown",
      "source": [
        "### 1.1.5 Number of Responses per Question for each year"
      ],
      "metadata": {
        "id": "5bP_cdSSqKTR"
      }
    },
    {
      "cell_type": "code",
      "metadata": {
        "colab": {
          "base_uri": "https://localhost:8080/",
          "height": 476
        },
        "id": "luskLLyDW68X",
        "outputId": "62ba81ba-641c-49cb-fdf3-e406d7efe7f4"
      },
      "source": [
        "df_q0 = df.groupby(['YearStart','qName']).size().unstack().plot(kind='bar', figsize=(15,7))\n",
        "\n",
        "plt.style.use('seaborn-bright')\n",
        "plt.legend(bbox_to_anchor=(1.0, 1.0))\n",
        "plt.xlabel('Year')\n",
        "plt.ylabel('Count')"
      ],
      "execution_count": null,
      "outputs": [
        {
          "output_type": "execute_result",
          "data": {
            "text/plain": [
              "Text(0, 0.5, 'Count')"
            ]
          },
          "metadata": {},
          "execution_count": 20
        },
        {
          "output_type": "display_data",
          "data": {
            "image/png": "[encoded data removed]",
            "text/plain": [
              "<Figure size 1080x504 with 1 Axes>"
            ]
          },
          "metadata": {
            "needs_background": "light"
          }
        }
      ]
    },
    {
      "cell_type": "markdown",
      "source": [
        "### 1.1.6 Convert Sample_Size to Integer"
      ],
      "metadata": {
        "id": "0mFemvT-qXR_"
      }
    },
    {
      "cell_type": "code",
      "metadata": {
        "id": "WQkJ_olkL6Dh"
      },
      "source": [
        "df.Sample_Size = df.Sample_Size.transform(lambda x: re.sub(\",\",\"\",x)).astype(int)"
      ],
      "execution_count": null,
      "outputs": []
    },
    {
      "cell_type": "markdown",
      "source": [
        "### 1.1.7 Column Names and Features Renaming"
      ],
      "metadata": {
        "id": "xfhFWBGCo4pl"
      }
    },
    {
      "cell_type": "code",
      "source": [
        "features = ['YearStart','LocationAbbr','LocationDesc','qName','tName','Data_Value','Low_Confidence_Limit','High_Confidence_Limit ','Sample_Size','Age(years)','Education','Gender','Income','Race/Ethnicity']\n",
        "renamedFeatures = ['Year', 'LocationAbbr', 'LocationDesc', 'Question', 'Category', 'Percentage', 'LCL', 'HCL', 'Sample_Size', 'Age', 'Education', 'Gender', 'Income', 'Race']"
      ],
      "metadata": {
        "id": "cDhb1f1zo4RW"
      },
      "execution_count": null,
      "outputs": []
    },
    {
      "cell_type": "code",
      "metadata": {
        "colab": {
          "base_uri": "https://localhost:8080/"
        },
        "id": "09LlSEMuatAY",
        "outputId": "c9be492b-3b01-4196-f14e-760016fd4c07"
      },
      "source": [
        "df[features].count()"
      ],
      "execution_count": null,
      "outputs": [
        {
          "output_type": "execute_result",
          "data": {
            "text/plain": [
              "YearStart                 68847\n",
              "LocationAbbr              68847\n",
              "LocationDesc              68847\n",
              "qName                     68847\n",
              "tName                     68847\n",
              "Data_Value                68847\n",
              "Low_Confidence_Limit      68847\n",
              "High_Confidence_Limit     68847\n",
              "Sample_Size               68847\n",
              "Age(years)                16296\n",
              "Education                 10864\n",
              "Gender                     5432\n",
              "Income                    19012\n",
              "Race/Ethnicity            14527\n",
              "dtype: int64"
            ]
          },
          "metadata": {},
          "execution_count": 23
        }
      ]
    },
    {
      "cell_type": "code",
      "metadata": {
        "id": "0mT7thUYc1ZQ"
      },
      "source": [
        "df_final = df[features].copy()"
      ],
      "execution_count": null,
      "outputs": []
    },
    {
      "cell_type": "code",
      "metadata": {
        "id": "6Eu7oVM5d9R4"
      },
      "source": [
        "df_final.columns = renamedFeatures"
      ],
      "execution_count": null,
      "outputs": []
    },
    {
      "cell_type": "code",
      "metadata": {
        "colab": {
          "base_uri": "https://localhost:8080/",
          "height": 293
        },
        "id": "m6GH4ongeDLS",
        "outputId": "37a1b0f5-fa80-4b20-d588-65b3c56120ba"
      },
      "source": [
        "df_final.head(5)"
      ],
      "execution_count": null,
      "outputs": [
        {
          "output_type": "execute_result",
          "data": {
            "text/html": [
              "<div>\n",
              "<style scoped>\n",
              "    .dataframe tbody tr th:only-of-type {\n",
              "        vertical-align: middle;\n",
              "    }\n",
              "\n",
              "    .dataframe tbody tr th {\n",
              "        vertical-align: top;\n",
              "    }\n",
              "\n",
              "    .dataframe thead th {\n",
              "        text-align: right;\n",
              "    }\n",
              "</style>\n",
              "<table border=\"1\" class=\"dataframe\">\n",
              "  <thead>\n",
              "    <tr style=\"text-align: right;\">\n",
              "      <th></th>\n",
              "      <th>Year</th>\n",
              "      <th>LocationAbbr</th>\n",
              "      <th>LocationDesc</th>\n",
              "      <th>Question</th>\n",
              "      <th>Category</th>\n",
              "      <th>Percentage</th>\n",
              "      <th>LCL</th>\n",
              "      <th>HCL</th>\n",
              "      <th>Sample_Size</th>\n",
              "      <th>Age</th>\n",
              "      <th>Education</th>\n",
              "      <th>Gender</th>\n",
              "      <th>Income</th>\n",
              "      <th>Race</th>\n",
              "    </tr>\n",
              "  </thead>\n",
              "  <tbody>\n",
              "    <tr>\n",
              "      <th>0</th>\n",
              "      <td>2014</td>\n",
              "      <td>GU</td>\n",
              "      <td>Guam</td>\n",
              "      <td>% of 18+ are obese</td>\n",
              "      <td>Obesity</td>\n",
              "      <td>29.3</td>\n",
              "      <td>25.7</td>\n",
              "      <td>33.3</td>\n",
              "      <td>842</td>\n",
              "      <td>NaN</td>\n",
              "      <td>High school graduate</td>\n",
              "      <td>NaN</td>\n",
              "      <td>NaN</td>\n",
              "      <td>NaN</td>\n",
              "    </tr>\n",
              "    <tr>\n",
              "      <th>1</th>\n",
              "      <td>2013</td>\n",
              "      <td>US</td>\n",
              "      <td>National</td>\n",
              "      <td>% of 18+ are obese</td>\n",
              "      <td>Obesity</td>\n",
              "      <td>28.8</td>\n",
              "      <td>28.1</td>\n",
              "      <td>29.5</td>\n",
              "      <td>62562</td>\n",
              "      <td>NaN</td>\n",
              "      <td>NaN</td>\n",
              "      <td>NaN</td>\n",
              "      <td>$50,000 - $74,999</td>\n",
              "      <td>NaN</td>\n",
              "    </tr>\n",
              "    <tr>\n",
              "      <th>2</th>\n",
              "      <td>2013</td>\n",
              "      <td>US</td>\n",
              "      <td>National</td>\n",
              "      <td>% of 18+ are overweight</td>\n",
              "      <td>Obesity</td>\n",
              "      <td>32.7</td>\n",
              "      <td>31.9</td>\n",
              "      <td>33.5</td>\n",
              "      <td>60069</td>\n",
              "      <td>NaN</td>\n",
              "      <td>NaN</td>\n",
              "      <td>NaN</td>\n",
              "      <td>Data not reported</td>\n",
              "      <td>NaN</td>\n",
              "    </tr>\n",
              "    <tr>\n",
              "      <th>3</th>\n",
              "      <td>2015</td>\n",
              "      <td>US</td>\n",
              "      <td>National</td>\n",
              "      <td>High aero per week</td>\n",
              "      <td>Activity</td>\n",
              "      <td>26.6</td>\n",
              "      <td>25.6</td>\n",
              "      <td>27.6</td>\n",
              "      <td>30904</td>\n",
              "      <td>NaN</td>\n",
              "      <td>NaN</td>\n",
              "      <td>NaN</td>\n",
              "      <td>Less than $15,000</td>\n",
              "      <td>NaN</td>\n",
              "    </tr>\n",
              "    <tr>\n",
              "      <th>4</th>\n",
              "      <td>2015</td>\n",
              "      <td>GU</td>\n",
              "      <td>Guam</td>\n",
              "      <td>Moderate aero and muscle 2+ days per week</td>\n",
              "      <td>Activity</td>\n",
              "      <td>27.4</td>\n",
              "      <td>18.6</td>\n",
              "      <td>38.5</td>\n",
              "      <td>125</td>\n",
              "      <td>NaN</td>\n",
              "      <td>NaN</td>\n",
              "      <td>NaN</td>\n",
              "      <td>NaN</td>\n",
              "      <td>Hispanic</td>\n",
              "    </tr>\n",
              "  </tbody>\n",
              "</table>\n",
              "</div>"
            ],
            "text/plain": [
              "   Year LocationAbbr LocationDesc  ... Gender             Income      Race\n",
              "0  2014           GU         Guam  ...    NaN                NaN       NaN\n",
              "1  2013           US     National  ...    NaN  $50,000 - $74,999       NaN\n",
              "2  2013           US     National  ...    NaN  Data not reported       NaN\n",
              "3  2015           US     National  ...    NaN  Less than $15,000       NaN\n",
              "4  2015           GU         Guam  ...    NaN                NaN  Hispanic\n",
              "\n",
              "[5 rows x 14 columns]"
            ]
          },
          "metadata": {},
          "execution_count": 26
        }
      ]
    },
    {
      "cell_type": "markdown",
      "source": [
        "## 1.2 Output Processed Dataset\n",
        "Purpose of this is to allow for parallel analysis to be done between multiple people"
      ],
      "metadata": {
        "id": "1Vrr2Yuuqpgw"
      }
    },
    {
      "cell_type": "code",
      "metadata": {
        "id": "79cRcPzNCiQ5",
        "colab": {
          "base_uri": "https://localhost:8080/"
        },
        "outputId": "5982c0c4-c1c5-4d55-b6f0-ab894ec86c0e"
      },
      "source": [
        "if continuous==False:\n",
        "  df_final.to_csv('/content/drive/MyDrive/Stats for Data Science (Group 4)/CDC_data2019_processed_v2.csv')\n",
        "else:\n",
        "  print(\"Contnue\")"
      ],
      "execution_count": null,
      "outputs": [
        {
          "output_type": "stream",
          "name": "stdout",
          "text": [
            "Contnue\n"
          ]
        }
      ]
    },
    {
      "cell_type": "markdown",
      "source": [
        "# 2.0 Income vs Obesity"
      ],
      "metadata": {
        "id": "8UhCx0CirosP"
      }
    },
    {
      "cell_type": "markdown",
      "source": [
        "## 2.1 Read Processed Data"
      ],
      "metadata": {
        "id": "PXDU9LSirz21"
      }
    },
    {
      "cell_type": "code",
      "source": [
        "df = readProcessedData()"
      ],
      "metadata": {
        "id": "ZiGPMdwGrvOB"
      },
      "execution_count": null,
      "outputs": []
    },
    {
      "cell_type": "markdown",
      "source": [
        "## 2.2 Select data for analysis"
      ],
      "metadata": {
        "id": "5zx4-Vw2s-zH"
      }
    },
    {
      "cell_type": "code",
      "source": [
        "print(df.describe())\n",
        "print('\\n')\n",
        "print(df.info())"
      ],
      "metadata": {
        "colab": {
          "base_uri": "https://localhost:8080/"
        },
        "id": "yAeQWptRszLZ",
        "outputId": "cdd0f3ea-cd43-4949-abd4-8dede2300794"
      },
      "execution_count": null,
      "outputs": [
        {
          "output_type": "stream",
          "name": "stdout",
          "text": [
            "               Year    Percentage           LCL           HCL    Sample_Size\n",
            "count  68847.000000  68847.000000  68847.000000  68847.000000   68847.000000\n",
            "mean    2015.254594     31.285089     26.987843     36.145424    3707.326245\n",
            "std        2.708187     10.268325     10.070582     11.186505   18932.393284\n",
            "min     2011.000000      0.900000      0.300000      3.000000      50.000000\n",
            "25%     2013.000000     24.400000     20.100000     28.600000     533.000000\n",
            "50%     2015.000000     31.000000     26.700000     35.700000    1136.000000\n",
            "75%     2017.000000     37.000000     32.900000     42.100000    2428.000000\n",
            "max     2019.000000     77.600000     70.200000     87.700000  476876.000000\n",
            "\n",
            "\n",
            "<class 'pandas.core.frame.DataFrame'>\n",
            "Int64Index: 68847 entries, 0 to 76392\n",
            "Data columns (total 14 columns):\n",
            " #   Column        Non-Null Count  Dtype  \n",
            "---  ------        --------------  -----  \n",
            " 0   Year          68847 non-null  int64  \n",
            " 1   LocationAbbr  68847 non-null  object \n",
            " 2   LocationDesc  68847 non-null  object \n",
            " 3   Question      68847 non-null  object \n",
            " 4   Category      68847 non-null  object \n",
            " 5   Percentage    68847 non-null  float64\n",
            " 6   LCL           68847 non-null  float64\n",
            " 7   HCL           68847 non-null  float64\n",
            " 8   Sample_Size   68847 non-null  int64  \n",
            " 9   Age           16296 non-null  object \n",
            " 10  Education     10864 non-null  object \n",
            " 11  Gender        5432 non-null   object \n",
            " 12  Income        19012 non-null  object \n",
            " 13  Race          14527 non-null  object \n",
            "dtypes: float64(3), int64(2), object(9)\n",
            "memory usage: 7.9+ MB\n",
            "None\n"
          ]
        }
      ]
    },
    {
      "cell_type": "code",
      "source": [
        "# Select data for analysis\n",
        "Income = df.dropna(subset = ['Income'])\n",
        "Income = Income.loc[df['Income'] != 'Data not reported']\n",
        "Income = Income.loc[df['Question'] == '% of 18+ are obese']\n",
        "Income = Income.loc[df['LocationDesc'] != 'National']\n",
        "\n",
        "print(Income.head(5))\n",
        "print(Income.info())"
      ],
      "metadata": {
        "colab": {
          "base_uri": "https://localhost:8080/"
        },
        "id": "RS3AiA43tIKW",
        "outputId": "e0675737-06cd-4f4a-ed0f-b63e0d51db3a"
      },
      "execution_count": null,
      "outputs": [
        {
          "output_type": "stream",
          "name": "stdout",
          "text": [
            "     Year LocationAbbr LocationDesc  ... Gender              Income  Race\n",
            "25   2014           GU         Guam  ...    NaN   Less than $15,000   NaN\n",
            "57   2012           NJ   New Jersey  ...    NaN   $35,000 - $49,999   NaN\n",
            "91   2016           MS  Mississippi  ...    NaN   $15,000 - $24,999   NaN\n",
            "100  2016           LA    Louisiana  ...    NaN   $25,000 - $34,999   NaN\n",
            "140  2015           GA      Georgia  ...    NaN  $75,000 or greater   NaN\n",
            "\n",
            "[5 rows x 14 columns]\n",
            "<class 'pandas.core.frame.DataFrame'>\n",
            "Int64Index: 2832 entries, 25 to 74708\n",
            "Data columns (total 14 columns):\n",
            " #   Column        Non-Null Count  Dtype  \n",
            "---  ------        --------------  -----  \n",
            " 0   Year          2832 non-null   int64  \n",
            " 1   LocationAbbr  2832 non-null   object \n",
            " 2   LocationDesc  2832 non-null   object \n",
            " 3   Question      2832 non-null   object \n",
            " 4   Category      2832 non-null   object \n",
            " 5   Percentage    2832 non-null   float64\n",
            " 6   LCL           2832 non-null   float64\n",
            " 7   HCL           2832 non-null   float64\n",
            " 8   Sample_Size   2832 non-null   int64  \n",
            " 9   Age           0 non-null      object \n",
            " 10  Education     0 non-null      object \n",
            " 11  Gender        0 non-null      object \n",
            " 12  Income        2832 non-null   object \n",
            " 13  Race          0 non-null      object \n",
            "dtypes: float64(3), int64(2), object(9)\n",
            "memory usage: 331.9+ KB\n",
            "None\n"
          ]
        }
      ]
    },
    {
      "cell_type": "markdown",
      "source": [
        "## 2.3 Examine data - boxplots and describe"
      ],
      "metadata": {
        "id": "qay1hywptQzv"
      }
    },
    {
      "cell_type": "code",
      "source": [
        "ax = sns.boxplot(x=\"Income\", y=\"Percentage\", data=Income, order = ['Less than $15,000','$15,000 - $24,999','$25,000 - $34,999','$35,000 - $49,999', '$50,000 - $74,999', '$75,000 or greater'])\n",
        "ax.set_xticklabels(ax.get_xticklabels(),rotation = 30)\n",
        "ax.set_ylabel('Percent of adults aged 18 years \\nand older who have obesity')\n",
        "\n",
        "Income.groupby('Income')['Percentage'].describe()\n"
      ],
      "metadata": {
        "colab": {
          "base_uri": "https://localhost:8080/",
          "height": 576
        },
        "id": "otYnBoMAtPbR",
        "outputId": "5aa03354-9981-4e7a-8444-cb725bd735ec"
      },
      "execution_count": null,
      "outputs": [
        {
          "output_type": "execute_result",
          "data": {
            "text/html": [
              "<div>\n",
              "<style scoped>\n",
              "    .dataframe tbody tr th:only-of-type {\n",
              "        vertical-align: middle;\n",
              "    }\n",
              "\n",
              "    .dataframe tbody tr th {\n",
              "        vertical-align: top;\n",
              "    }\n",
              "\n",
              "    .dataframe thead th {\n",
              "        text-align: right;\n",
              "    }\n",
              "</style>\n",
              "<table border=\"1\" class=\"dataframe\">\n",
              "  <thead>\n",
              "    <tr style=\"text-align: right;\">\n",
              "      <th></th>\n",
              "      <th>count</th>\n",
              "      <th>mean</th>\n",
              "      <th>std</th>\n",
              "      <th>min</th>\n",
              "      <th>25%</th>\n",
              "      <th>50%</th>\n",
              "      <th>75%</th>\n",
              "      <th>max</th>\n",
              "    </tr>\n",
              "    <tr>\n",
              "      <th>Income</th>\n",
              "      <th></th>\n",
              "      <th></th>\n",
              "      <th></th>\n",
              "      <th></th>\n",
              "      <th></th>\n",
              "      <th></th>\n",
              "      <th></th>\n",
              "      <th></th>\n",
              "    </tr>\n",
              "  </thead>\n",
              "  <tbody>\n",
              "    <tr>\n",
              "      <th>$15,000 - $24,999</th>\n",
              "      <td>472.0</td>\n",
              "      <td>33.201271</td>\n",
              "      <td>4.318287</td>\n",
              "      <td>21.2</td>\n",
              "      <td>30.3</td>\n",
              "      <td>33.60</td>\n",
              "      <td>36.100</td>\n",
              "      <td>45.3</td>\n",
              "    </tr>\n",
              "    <tr>\n",
              "      <th>$25,000 - $34,999</th>\n",
              "      <td>472.0</td>\n",
              "      <td>31.468008</td>\n",
              "      <td>4.515265</td>\n",
              "      <td>19.8</td>\n",
              "      <td>28.5</td>\n",
              "      <td>31.25</td>\n",
              "      <td>34.825</td>\n",
              "      <td>48.2</td>\n",
              "    </tr>\n",
              "    <tr>\n",
              "      <th>$35,000 - $49,999</th>\n",
              "      <td>472.0</td>\n",
              "      <td>31.295339</td>\n",
              "      <td>4.371950</td>\n",
              "      <td>19.9</td>\n",
              "      <td>28.1</td>\n",
              "      <td>31.40</td>\n",
              "      <td>34.200</td>\n",
              "      <td>43.9</td>\n",
              "    </tr>\n",
              "    <tr>\n",
              "      <th>$50,000 - $74,999</th>\n",
              "      <td>472.0</td>\n",
              "      <td>30.600847</td>\n",
              "      <td>4.489729</td>\n",
              "      <td>16.7</td>\n",
              "      <td>27.6</td>\n",
              "      <td>30.60</td>\n",
              "      <td>33.425</td>\n",
              "      <td>43.3</td>\n",
              "    </tr>\n",
              "    <tr>\n",
              "      <th>$75,000 or greater</th>\n",
              "      <td>472.0</td>\n",
              "      <td>26.398517</td>\n",
              "      <td>4.483991</td>\n",
              "      <td>12.1</td>\n",
              "      <td>23.3</td>\n",
              "      <td>26.10</td>\n",
              "      <td>29.300</td>\n",
              "      <td>39.6</td>\n",
              "    </tr>\n",
              "    <tr>\n",
              "      <th>Less than $15,000</th>\n",
              "      <td>472.0</td>\n",
              "      <td>34.702542</td>\n",
              "      <td>4.804173</td>\n",
              "      <td>20.6</td>\n",
              "      <td>31.5</td>\n",
              "      <td>35.00</td>\n",
              "      <td>37.800</td>\n",
              "      <td>50.5</td>\n",
              "    </tr>\n",
              "  </tbody>\n",
              "</table>\n",
              "</div>"
            ],
            "text/plain": [
              "                    count       mean       std   min   25%    50%     75%   max\n",
              "Income                                                                         \n",
              "$15,000 - $24,999   472.0  33.201271  4.318287  21.2  30.3  33.60  36.100  45.3\n",
              "$25,000 - $34,999   472.0  31.468008  4.515265  19.8  28.5  31.25  34.825  48.2\n",
              "$35,000 - $49,999   472.0  31.295339  4.371950  19.9  28.1  31.40  34.200  43.9\n",
              "$50,000 - $74,999   472.0  30.600847  4.489729  16.7  27.6  30.60  33.425  43.3\n",
              "$75,000 or greater  472.0  26.398517  4.483991  12.1  23.3  26.10  29.300  39.6\n",
              "Less than $15,000   472.0  34.702542  4.804173  20.6  31.5  35.00  37.800  50.5"
            ]
          },
          "metadata": {},
          "execution_count": 31
        },
        {
          "output_type": "display_data",
          "data": {
            "image/png": "[encoded data removed]",
            "text/plain": [
              "<Figure size 432x288 with 1 Axes>"
            ]
          },
          "metadata": {
            "needs_background": "light"
          }
        }
      ]
    },
    {
      "cell_type": "markdown",
      "source": [
        "## 2.4 ANOVA Analysis\n",
        "---\n",
        "We will assume the following Null and Alternative hypothesis:\n",
        "\n",
        "*   **Null** hypothesis - the mean is the same across income categories\n",
        "*   **Alternative** hypothesis - at least one mean is different\n",
        "\n",
        "\n",
        "\n"
      ],
      "metadata": {
        "id": "emB_HdN4tUw_"
      }
    },
    {
      "cell_type": "code",
      "source": [
        "# Check conditions\n",
        "print('Observations assumed independent within and across groups')\n",
        "print('Inspecting the boxplot, we see that the data is not strongly skewed, so we can assume that the data within groups is nearly normal')\n",
        "print('There is not a big difference between standard deviations of each group, so variability across the groups is assumed about equal \\n')\n",
        "\n",
        "print(Income.groupby('Income')['Percentage'].describe())\n",
        "print('\\n')\n",
        "\n",
        "F_stat, p_value = st.f_oneway(Income['Percentage'][Income['Income'] == 'Less than $15,000'],\n",
        "            Income['Percentage'][Income['Income'] == '$15,000 - $24,999'],\n",
        "            Income['Percentage'][Income['Income'] == '$25,000 - $34,999'],\n",
        "            Income['Percentage'][Income['Income'] == '$35,000 - $49,999'],\n",
        "            Income['Percentage'][Income['Income'] == '$50,000 - $74,999'],\n",
        "            Income['Percentage'][Income['Income'] == '$75,000 or greater'])\n",
        "\n",
        "print('F_stat:', F_stat, 'p_value:', p_value, '\\n')\n",
        "\n",
        "# Identification of different group - Bonferroni method\n",
        "comparisons = mc.MultiComparison(Income['Percentage'], Income['Income'])\n",
        "table, arr1, arr2 = comparisons.allpairtest(st.ttest_ind,  method='bonf')\n",
        "\n",
        "print(table)\n",
        "\n",
        "print('Income groups $35,000 - $49,999 and $50,000 - $74,999 are not significantly different')\n",
        "print('Income groups $25,000 - $34,999 and $35,000 - $49,999 are not significantly different')\n",
        "print('All other groups are significantly different')\n"
      ],
      "metadata": {
        "colab": {
          "base_uri": "https://localhost:8080/"
        },
        "id": "qorkGwqutUfa",
        "outputId": "6d52b609-ea18-4a7d-f3b3-638149791d0f"
      },
      "execution_count": null,
      "outputs": [
        {
          "output_type": "stream",
          "name": "stdout",
          "text": [
            "Observations assumed independent within and across groups\n",
            "Inspecting the boxplot, we see that the data is not strongly skewed, so we can assume that the data within groups is nearly normal\n",
            "There is not a big difference between standard deviations of each group, so variability across the groups is assumed about equal \n",
            "\n",
            "                    count       mean       std   min   25%    50%     75%   max\n",
            "Income                                                                         \n",
            "$15,000 - $24,999   472.0  33.201271  4.318287  21.2  30.3  33.60  36.100  45.3\n",
            "$25,000 - $34,999   472.0  31.468008  4.515265  19.8  28.5  31.25  34.825  48.2\n",
            "$35,000 - $49,999   472.0  31.295339  4.371950  19.9  28.1  31.40  34.200  43.9\n",
            "$50,000 - $74,999   472.0  30.600847  4.489729  16.7  27.6  30.60  33.425  43.3\n",
            "$75,000 or greater  472.0  26.398517  4.483991  12.1  23.3  26.10  29.300  39.6\n",
            "Less than $15,000   472.0  34.702542  4.804173  20.6  31.5  35.00  37.800  50.5\n",
            "\n",
            "\n",
            "F_stat: 185.22454221155445 p_value: 5.558478036072337e-171 \n",
            "\n",
            "Test Multiple Comparison ttest_ind \n",
            "FWER=0.05 method=bonf\n",
            "alphacSidak=0.00, alphacBonf=0.003\n",
            "======================================================================\n",
            "      group1             group2         stat    pval  pval_corr reject\n",
            "----------------------------------------------------------------------\n",
            " $15,000 - $24,999  $25,000 - $34,999   6.0271    0.0       0.0   True\n",
            " $15,000 - $24,999  $35,000 - $49,999   6.7383    0.0       0.0   True\n",
            " $15,000 - $24,999  $50,000 - $74,999   9.0692    0.0       0.0   True\n",
            " $15,000 - $24,999 $75,000 or greater   23.741    0.0       0.0   True\n",
            " $15,000 - $24,999  Less than $15,000  -5.0491    0.0       0.0   True\n",
            " $25,000 - $34,999  $35,000 - $49,999   0.5969 0.5507       1.0  False\n",
            " $25,000 - $34,999  $50,000 - $74,999   2.9587 0.0032    0.0475   True\n",
            " $25,000 - $34,999 $75,000 or greater  17.3078    0.0       0.0   True\n",
            " $25,000 - $34,999  Less than $15,000 -10.6586    0.0       0.0   True\n",
            " $35,000 - $49,999  $50,000 - $74,999   2.4077 0.0162    0.2437  False\n",
            " $35,000 - $49,999 $75,000 or greater  16.9876    0.0       0.0   True\n",
            " $35,000 - $49,999  Less than $15,000 -11.3958    0.0       0.0   True\n",
            " $50,000 - $74,999 $75,000 or greater  14.3881    0.0       0.0   True\n",
            " $50,000 - $74,999  Less than $15,000  -13.552    0.0       0.0   True\n",
            "$75,000 or greater  Less than $15,000 -27.4528    0.0       0.0   True\n",
            "----------------------------------------------------------------------\n",
            "Income groups $35,000 - $49,999 and $50,000 - $74,999 are not significantly different\n",
            "Income groups $25,000 - $34,999 and $35,000 - $49,999 are not significantly different\n",
            "All other groups are significantly different\n"
          ]
        }
      ]
    },
    {
      "cell_type": "markdown",
      "source": [
        "## 2.5 Linear Regression\n",
        "---\n",
        "Treat income brackets as ordinal data that require encoding\n",
        "\n",
        "Use classic ordinal encoding where categories are assumed close enough to interval data — with relatively equal magnitudes between the values\n"
      ],
      "metadata": {
        "id": "q0o4o3YZuHoO"
      }
    },
    {
      "cell_type": "code",
      "source": [
        "# Define a dictionary for encoding target variable\n",
        "enc_dict = {'Less than $15,000':1,\n",
        "             '$15,000 - $24,999':2,\n",
        "             '$25,000 - $34,999':3,\n",
        "             '$35,000 - $49,999':4,\n",
        "             '$50,000 - $74,999':5,\n",
        "             '$75,000 or greater':6}\n",
        "# Create the mapped values in a new column\n",
        "Income['Income_ordinal'] = Income['Income'].map(enc_dict)\n",
        "print(Income.head())\n",
        "\n",
        "#OLS Regression\n",
        "m = sm.ols(formula='Percentage ~ Income_ordinal', data=Income)\n",
        "m = m.fit()\n",
        "print(m.summary())\n",
        "print('R-squared:', round(m.rsquared,2))\n",
        "\n",
        "#Generate predictions and examine residuals\n",
        "Income['Percentage_predicted'] = m.predict(Income)\n",
        "Income['Percentage_redisuals'] = Income['Percentage_predicted'] - Income['Percentage']\n",
        "print('\\nResiduals Mean:', Income.Percentage_redisuals.mean())\n",
        "plt.hist(Income.Percentage_redisuals)\n",
        "plt.show()"
      ],
      "metadata": {
        "colab": {
          "base_uri": "https://localhost:8080/",
          "height": 923
        },
        "id": "dY5b3wSMuMF8",
        "outputId": "ffcbfd24-dd52-454e-df21-dfad7bd56fe7"
      },
      "execution_count": null,
      "outputs": [
        {
          "output_type": "stream",
          "name": "stdout",
          "text": [
            "     Year LocationAbbr LocationDesc  ...              Income Race  Income_ordinal\n",
            "25   2014           GU         Guam  ...   Less than $15,000  NaN               1\n",
            "57   2012           NJ   New Jersey  ...   $35,000 - $49,999  NaN               4\n",
            "91   2016           MS  Mississippi  ...   $15,000 - $24,999  NaN               2\n",
            "100  2016           LA    Louisiana  ...   $25,000 - $34,999  NaN               3\n",
            "140  2015           GA      Georgia  ...  $75,000 or greater  NaN               6\n",
            "\n",
            "[5 rows x 15 columns]\n",
            "                            OLS Regression Results                            \n",
            "==============================================================================\n",
            "Dep. Variable:             Percentage   R-squared:                       0.217\n",
            "Model:                            OLS   Adj. R-squared:                  0.217\n",
            "Method:                 Least Squares   F-statistic:                     786.2\n",
            "Date:                Mon, 13 Dec 2021   Prob (F-statistic):          7.25e-153\n",
            "Time:                        13:46:30   Log-Likelihood:                -8329.2\n",
            "No. Observations:                2832   AIC:                         1.666e+04\n",
            "Df Residuals:                    2830   BIC:                         1.667e+04\n",
            "Df Model:                           1                                         \n",
            "Covariance Type:            nonrobust                                         \n",
            "==================================================================================\n",
            "                     coef    std err          t      P>|t|      [0.025      0.975]\n",
            "----------------------------------------------------------------------------------\n",
            "Intercept         36.2272      0.196    184.445      0.000      35.842      36.612\n",
            "Income_ordinal    -1.4141      0.050    -28.039      0.000      -1.513      -1.315\n",
            "==============================================================================\n",
            "Omnibus:                        0.039   Durbin-Watson:                   1.805\n",
            "Prob(Omnibus):                  0.981   Jarque-Bera (JB):                0.053\n",
            "Skew:                          -0.008   Prob(JB):                        0.974\n",
            "Kurtosis:                       2.987   Cond. No.                         9.36\n",
            "==============================================================================\n",
            "\n",
            "Warnings:\n",
            "[1] Standard Errors assume that the covariance matrix of the errors is correctly specified.\n",
            "R-squared: 0.22\n",
            "\n",
            "Residuals Mean: -1.255367435867112e-14\n"
          ]
        },
        {
          "output_type": "display_data",
          "data": {
            "image/png": "[encoded data removed]",
            "text/plain": [
              "<Figure size 432x288 with 1 Axes>"
            ]
          },
          "metadata": {
            "needs_background": "light"
          }
        }
      ]
    },
    {
      "cell_type": "markdown",
      "source": [
        "## 2.6 Logistic Regression\n",
        "---\n",
        "Want to test a binary case - transform percentage obesity data:\n",
        "*   1 if greater than or equal to 50th percentile\n",
        "*   0 if less than 50th percentile\n"
      ],
      "metadata": {
        "id": "_gtTidXpu1FX"
      }
    },
    {
      "cell_type": "markdown",
      "source": [
        "### 2.6.1 Preparation"
      ],
      "metadata": {
        "id": "mZStbyCJvMwQ"
      }
    },
    {
      "cell_type": "code",
      "source": [
        "# Identify 50th percentile\n",
        "print(Income['Percentage'].describe(), '\\n')\n",
        "\n",
        "# Transform to binary\n",
        "Income.loc[Income['Percentage'] >= 31.3, 'Binary_%'] = '1'\n",
        "Income.loc[Income['Percentage'] < 31.3, 'Binary_%'] = '0'\n",
        "print(Income.dtypes)\n",
        "Income[\"Binary_%\"] = Income[\"Binary_%\"].astype(str).astype(int)\n",
        "\n",
        "# Create dummy variables for income categories\n",
        "dummy_income = pd.get_dummies(Income['Income_ordinal'], prefix='cat')\n",
        "Income = Income.join(dummy_income)\n",
        "print(Income.head(10))"
      ],
      "metadata": {
        "colab": {
          "base_uri": "https://localhost:8080/"
        },
        "id": "mIxMvVo4vF4n",
        "outputId": "5ac76025-3034-4096-90f5-ac93df4f18de"
      },
      "execution_count": null,
      "outputs": [
        {
          "output_type": "stream",
          "name": "stdout",
          "text": [
            "count    2832.000000\n",
            "mean       31.277754\n",
            "std         5.180465\n",
            "min        12.100000\n",
            "25%        27.775000\n",
            "50%        31.300000\n",
            "75%        34.925000\n",
            "max        50.500000\n",
            "Name: Percentage, dtype: float64 \n",
            "\n",
            "Year                      int64\n",
            "LocationAbbr             object\n",
            "LocationDesc             object\n",
            "Question                 object\n",
            "Category                 object\n",
            "Percentage              float64\n",
            "LCL                     float64\n",
            "HCL                     float64\n",
            "Sample_Size               int64\n",
            "Age                      object\n",
            "Education                object\n",
            "Gender                   object\n",
            "Income                   object\n",
            "Race                     object\n",
            "Income_ordinal            int64\n",
            "Percentage_predicted    float64\n",
            "Percentage_redisuals    float64\n",
            "Binary_%                 object\n",
            "dtype: object\n",
            "     Year LocationAbbr    LocationDesc  ... cat_4 cat_5  cat_6\n",
            "25   2014           GU            Guam  ...     0     0      0\n",
            "57   2012           NJ      New Jersey  ...     1     0      0\n",
            "91   2016           MS     Mississippi  ...     0     0      0\n",
            "100  2016           LA       Louisiana  ...     0     0      0\n",
            "140  2015           GA         Georgia  ...     0     0      1\n",
            "143  2014           GU            Guam  ...     0     0      0\n",
            "171  2014           GU            Guam  ...     1     0      0\n",
            "189  2016           MI        Michigan  ...     0     0      0\n",
            "242  2016           VI  Virgin Islands  ...     0     0      0\n",
            "243  2016           NE        Nebraska  ...     0     0      0\n",
            "\n",
            "[10 rows x 24 columns]\n"
          ]
        }
      ]
    },
    {
      "cell_type": "markdown",
      "source": [
        "### 2.6.2 Regression"
      ],
      "metadata": {
        "id": "fjNGsuLzvTw3"
      }
    },
    {
      "cell_type": "code",
      "source": [
        "# Logistic regression\n",
        "predictors = ['cat_1', 'cat_2', 'cat_3', 'cat_4', 'cat_5', 'cat_6']\n",
        "m = Logit(Income['Binary_%'], Income[predictors])\n",
        "m = m.fit()\n",
        "print(m.summary())\n",
        "\n",
        "# Model Evaulation\n",
        "conf_mat = m.pred_table()\n",
        "print (conf_mat)\n",
        "print('492 + 505 estimates were incorrect')\n",
        "tn, fp, fn, tp = conf_mat.flatten()\n",
        "acc = (tp + tn) / np.sum(conf_mat)\n",
        "print (\"Accuracy of the model is: %1.2f\" % acc)\n",
        "mcc = (tp * tn - fp * fn)/np.sqrt((tp + fp)*(tp + fn)*(tn + fp)*(tn + fn))\n",
        "print (\"Mathews correlation coefficient between the estimates and the true response is: %1.2f\" % mcc)\n",
        "prc = tp / (tp + fp)\n",
        "rec = tp / (tp + fn)\n",
        "print (\"Model's precision is %1.2f and it's recall is %1.2f\" % (prc, rec))"
      ],
      "metadata": {
        "colab": {
          "base_uri": "https://localhost:8080/"
        },
        "id": "3gu684-3vX46",
        "outputId": "702fda6a-6337-4c21-8e26-38e00f1594ba"
      },
      "execution_count": null,
      "outputs": [
        {
          "output_type": "stream",
          "name": "stdout",
          "text": [
            "Optimization terminated successfully.\n",
            "         Current function value: 0.606627\n",
            "         Iterations 6\n",
            "                           Logit Regression Results                           \n",
            "==============================================================================\n",
            "Dep. Variable:               Binary_%   No. Observations:                 2832\n",
            "Model:                          Logit   Df Residuals:                     2826\n",
            "Method:                           MLE   Df Model:                            5\n",
            "Date:                Mon, 13 Dec 2021   Pseudo R-squ.:                  0.1248\n",
            "Time:                        13:46:30   Log-Likelihood:                -1718.0\n",
            "converged:                       True   LL-Null:                       -1962.9\n",
            "Covariance Type:            nonrobust   LLR p-value:                1.262e-103\n",
            "==============================================================================\n",
            "                 coef    std err          z      P>|z|      [0.025      0.975]\n",
            "------------------------------------------------------------------------------\n",
            "cat_1          1.1559      0.108     10.716      0.000       0.945       1.367\n",
            "cat_2          0.7835      0.099      7.897      0.000       0.589       0.978\n",
            "cat_3               0      0.092          0      1.000      -0.180       0.180\n",
            "cat_4          0.0424      0.092      0.460      0.645      -0.138       0.223\n",
            "cat_5         -0.2642      0.093     -2.845      0.004      -0.446      -0.082\n",
            "cat_6         -1.8524      0.134    -13.778      0.000      -2.116      -1.589\n",
            "==============================================================================\n",
            "[[911. 492.]\n",
            " [505. 924.]]\n",
            "492 + 505 estimates were incorrect\n",
            "Accuracy of the model is: 0.65\n",
            "Mathews correlation coefficient between the estimates and the true response is: 0.30\n",
            "Model's precision is 0.65 and it's recall is 0.65\n"
          ]
        }
      ]
    },
    {
      "cell_type": "markdown",
      "source": [
        "# 3.0 Age vs Obesity"
      ],
      "metadata": {
        "id": "4thb_gYGwKAQ"
      }
    },
    {
      "cell_type": "markdown",
      "source": [
        "## 3.1 Read Processed Data"
      ],
      "metadata": {
        "id": "jZl5Qm7SwbFs"
      }
    },
    {
      "cell_type": "code",
      "source": [
        "df = readProcessedData()\n",
        "\n",
        "df.head(4)"
      ],
      "metadata": {
        "colab": {
          "base_uri": "https://localhost:8080/",
          "height": 175
        },
        "id": "a6tZjxQzwNYV",
        "outputId": "1e2b4503-de63-4571-8e7d-b80a46d66be2"
      },
      "execution_count": null,
      "outputs": [
        {
          "output_type": "execute_result",
          "data": {
            "text/html": [
              "<div>\n",
              "<style scoped>\n",
              "    .dataframe tbody tr th:only-of-type {\n",
              "        vertical-align: middle;\n",
              "    }\n",
              "\n",
              "    .dataframe tbody tr th {\n",
              "        vertical-align: top;\n",
              "    }\n",
              "\n",
              "    .dataframe thead th {\n",
              "        text-align: right;\n",
              "    }\n",
              "</style>\n",
              "<table border=\"1\" class=\"dataframe\">\n",
              "  <thead>\n",
              "    <tr style=\"text-align: right;\">\n",
              "      <th></th>\n",
              "      <th>Year</th>\n",
              "      <th>LocationAbbr</th>\n",
              "      <th>LocationDesc</th>\n",
              "      <th>Question</th>\n",
              "      <th>Category</th>\n",
              "      <th>Percentage</th>\n",
              "      <th>LCL</th>\n",
              "      <th>HCL</th>\n",
              "      <th>Sample_Size</th>\n",
              "      <th>Age</th>\n",
              "      <th>Education</th>\n",
              "      <th>Gender</th>\n",
              "      <th>Income</th>\n",
              "      <th>Race</th>\n",
              "    </tr>\n",
              "  </thead>\n",
              "  <tbody>\n",
              "    <tr>\n",
              "      <th>0</th>\n",
              "      <td>2014</td>\n",
              "      <td>GU</td>\n",
              "      <td>Guam</td>\n",
              "      <td>% of 18+ are obese</td>\n",
              "      <td>Obesity</td>\n",
              "      <td>29.3</td>\n",
              "      <td>25.7</td>\n",
              "      <td>33.3</td>\n",
              "      <td>842</td>\n",
              "      <td>NaN</td>\n",
              "      <td>High school graduate</td>\n",
              "      <td>NaN</td>\n",
              "      <td>NaN</td>\n",
              "      <td>NaN</td>\n",
              "    </tr>\n",
              "    <tr>\n",
              "      <th>1</th>\n",
              "      <td>2013</td>\n",
              "      <td>US</td>\n",
              "      <td>National</td>\n",
              "      <td>% of 18+ are obese</td>\n",
              "      <td>Obesity</td>\n",
              "      <td>28.8</td>\n",
              "      <td>28.1</td>\n",
              "      <td>29.5</td>\n",
              "      <td>62562</td>\n",
              "      <td>NaN</td>\n",
              "      <td>NaN</td>\n",
              "      <td>NaN</td>\n",
              "      <td>$50,000 - $74,999</td>\n",
              "      <td>NaN</td>\n",
              "    </tr>\n",
              "    <tr>\n",
              "      <th>2</th>\n",
              "      <td>2013</td>\n",
              "      <td>US</td>\n",
              "      <td>National</td>\n",
              "      <td>% of 18+ are overweight</td>\n",
              "      <td>Obesity</td>\n",
              "      <td>32.7</td>\n",
              "      <td>31.9</td>\n",
              "      <td>33.5</td>\n",
              "      <td>60069</td>\n",
              "      <td>NaN</td>\n",
              "      <td>NaN</td>\n",
              "      <td>NaN</td>\n",
              "      <td>Data not reported</td>\n",
              "      <td>NaN</td>\n",
              "    </tr>\n",
              "    <tr>\n",
              "      <th>3</th>\n",
              "      <td>2015</td>\n",
              "      <td>US</td>\n",
              "      <td>National</td>\n",
              "      <td>High aero per week</td>\n",
              "      <td>Activity</td>\n",
              "      <td>26.6</td>\n",
              "      <td>25.6</td>\n",
              "      <td>27.6</td>\n",
              "      <td>30904</td>\n",
              "      <td>NaN</td>\n",
              "      <td>NaN</td>\n",
              "      <td>NaN</td>\n",
              "      <td>Less than $15,000</td>\n",
              "      <td>NaN</td>\n",
              "    </tr>\n",
              "  </tbody>\n",
              "</table>\n",
              "</div>"
            ],
            "text/plain": [
              "   Year LocationAbbr LocationDesc  ... Gender             Income  Race\n",
              "0  2014           GU         Guam  ...    NaN                NaN   NaN\n",
              "1  2013           US     National  ...    NaN  $50,000 - $74,999   NaN\n",
              "2  2013           US     National  ...    NaN  Data not reported   NaN\n",
              "3  2015           US     National  ...    NaN  Less than $15,000   NaN\n",
              "\n",
              "[4 rows x 14 columns]"
            ]
          },
          "metadata": {},
          "execution_count": 36
        }
      ]
    },
    {
      "cell_type": "markdown",
      "source": [
        "## 3.2 Select data for analysis"
      ],
      "metadata": {
        "id": "o_mWt0iMwpog"
      }
    },
    {
      "cell_type": "code",
      "source": [
        "# obtain info on loaded dataframe\n",
        "print(df.describe())\n",
        "print('\\n')\n",
        "print(df.info())"
      ],
      "metadata": {
        "colab": {
          "base_uri": "https://localhost:8080/"
        },
        "id": "O8YorjySwi8z",
        "outputId": "bb6288e2-1e6a-4341-adde-9316bbedc314"
      },
      "execution_count": null,
      "outputs": [
        {
          "output_type": "stream",
          "name": "stdout",
          "text": [
            "               Year    Percentage           LCL           HCL    Sample_Size\n",
            "count  68847.000000  68847.000000  68847.000000  68847.000000   68847.000000\n",
            "mean    2015.254594     31.285089     26.987843     36.145424    3707.326245\n",
            "std        2.708187     10.268325     10.070582     11.186505   18932.393284\n",
            "min     2011.000000      0.900000      0.300000      3.000000      50.000000\n",
            "25%     2013.000000     24.400000     20.100000     28.600000     533.000000\n",
            "50%     2015.000000     31.000000     26.700000     35.700000    1136.000000\n",
            "75%     2017.000000     37.000000     32.900000     42.100000    2428.000000\n",
            "max     2019.000000     77.600000     70.200000     87.700000  476876.000000\n",
            "\n",
            "\n",
            "<class 'pandas.core.frame.DataFrame'>\n",
            "Int64Index: 68847 entries, 0 to 76392\n",
            "Data columns (total 14 columns):\n",
            " #   Column        Non-Null Count  Dtype  \n",
            "---  ------        --------------  -----  \n",
            " 0   Year          68847 non-null  int64  \n",
            " 1   LocationAbbr  68847 non-null  object \n",
            " 2   LocationDesc  68847 non-null  object \n",
            " 3   Question      68847 non-null  object \n",
            " 4   Category      68847 non-null  object \n",
            " 5   Percentage    68847 non-null  float64\n",
            " 6   LCL           68847 non-null  float64\n",
            " 7   HCL           68847 non-null  float64\n",
            " 8   Sample_Size   68847 non-null  int64  \n",
            " 9   Age           16296 non-null  object \n",
            " 10  Education     10864 non-null  object \n",
            " 11  Gender        5432 non-null   object \n",
            " 12  Income        19012 non-null  object \n",
            " 13  Race          14527 non-null  object \n",
            "dtypes: float64(3), int64(2), object(9)\n",
            "memory usage: 7.9+ MB\n",
            "None\n"
          ]
        }
      ]
    },
    {
      "cell_type": "code",
      "source": [
        "# Consider only the data that has 'Age' information and not at the 'National' level.\n",
        "Age = df.dropna(subset = ['Age'])\n",
        "Age = Age.loc[df['Question'] == '% of 18+ are obese']\n",
        "Age = Age.loc[df['LocationDesc'] != 'National']\n",
        "\n",
        "Age.info()\n",
        "Age.head(5)"
      ],
      "metadata": {
        "colab": {
          "base_uri": "https://localhost:8080/",
          "height": 590
        },
        "id": "S7G-3oVRwyBi",
        "outputId": "5970cc52-8d09-4a1d-9dae-8b307a14492d"
      },
      "execution_count": null,
      "outputs": [
        {
          "output_type": "stream",
          "name": "stdout",
          "text": [
            "<class 'pandas.core.frame.DataFrame'>\n",
            "Int64Index: 2832 entries, 8 to 74699\n",
            "Data columns (total 14 columns):\n",
            " #   Column        Non-Null Count  Dtype  \n",
            "---  ------        --------------  -----  \n",
            " 0   Year          2832 non-null   int64  \n",
            " 1   LocationAbbr  2832 non-null   object \n",
            " 2   LocationDesc  2832 non-null   object \n",
            " 3   Question      2832 non-null   object \n",
            " 4   Category      2832 non-null   object \n",
            " 5   Percentage    2832 non-null   float64\n",
            " 6   LCL           2832 non-null   float64\n",
            " 7   HCL           2832 non-null   float64\n",
            " 8   Sample_Size   2832 non-null   int64  \n",
            " 9   Age           2832 non-null   object \n",
            " 10  Education     0 non-null      object \n",
            " 11  Gender        0 non-null      object \n",
            " 12  Income        0 non-null      object \n",
            " 13  Race          0 non-null      object \n",
            "dtypes: float64(3), int64(2), object(9)\n",
            "memory usage: 331.9+ KB\n"
          ]
        },
        {
          "output_type": "execute_result",
          "data": {
            "text/html": [
              "<div>\n",
              "<style scoped>\n",
              "    .dataframe tbody tr th:only-of-type {\n",
              "        vertical-align: middle;\n",
              "    }\n",
              "\n",
              "    .dataframe tbody tr th {\n",
              "        vertical-align: top;\n",
              "    }\n",
              "\n",
              "    .dataframe thead th {\n",
              "        text-align: right;\n",
              "    }\n",
              "</style>\n",
              "<table border=\"1\" class=\"dataframe\">\n",
              "  <thead>\n",
              "    <tr style=\"text-align: right;\">\n",
              "      <th></th>\n",
              "      <th>Year</th>\n",
              "      <th>LocationAbbr</th>\n",
              "      <th>LocationDesc</th>\n",
              "      <th>Question</th>\n",
              "      <th>Category</th>\n",
              "      <th>Percentage</th>\n",
              "      <th>LCL</th>\n",
              "      <th>HCL</th>\n",
              "      <th>Sample_Size</th>\n",
              "      <th>Age</th>\n",
              "      <th>Education</th>\n",
              "      <th>Gender</th>\n",
              "      <th>Income</th>\n",
              "      <th>Race</th>\n",
              "    </tr>\n",
              "  </thead>\n",
              "  <tbody>\n",
              "    <tr>\n",
              "      <th>8</th>\n",
              "      <td>2011</td>\n",
              "      <td>AL</td>\n",
              "      <td>Alabama</td>\n",
              "      <td>% of 18+ are obese</td>\n",
              "      <td>Obesity</td>\n",
              "      <td>35.2</td>\n",
              "      <td>30.7</td>\n",
              "      <td>40.0</td>\n",
              "      <td>598</td>\n",
              "      <td>25 - 34</td>\n",
              "      <td>NaN</td>\n",
              "      <td>NaN</td>\n",
              "      <td>NaN</td>\n",
              "      <td>NaN</td>\n",
              "    </tr>\n",
              "    <tr>\n",
              "      <th>15</th>\n",
              "      <td>2015</td>\n",
              "      <td>GU</td>\n",
              "      <td>Guam</td>\n",
              "      <td>% of 18+ are obese</td>\n",
              "      <td>Obesity</td>\n",
              "      <td>33.7</td>\n",
              "      <td>25.1</td>\n",
              "      <td>43.4</td>\n",
              "      <td>285</td>\n",
              "      <td>55 - 64</td>\n",
              "      <td>NaN</td>\n",
              "      <td>NaN</td>\n",
              "      <td>NaN</td>\n",
              "      <td>NaN</td>\n",
              "    </tr>\n",
              "    <tr>\n",
              "      <th>81</th>\n",
              "      <td>2015</td>\n",
              "      <td>GU</td>\n",
              "      <td>Guam</td>\n",
              "      <td>% of 18+ are obese</td>\n",
              "      <td>Obesity</td>\n",
              "      <td>25.0</td>\n",
              "      <td>16.8</td>\n",
              "      <td>35.5</td>\n",
              "      <td>195</td>\n",
              "      <td>18 - 24</td>\n",
              "      <td>NaN</td>\n",
              "      <td>NaN</td>\n",
              "      <td>NaN</td>\n",
              "      <td>NaN</td>\n",
              "    </tr>\n",
              "    <tr>\n",
              "      <th>83</th>\n",
              "      <td>2015</td>\n",
              "      <td>SD</td>\n",
              "      <td>South Dakota</td>\n",
              "      <td>% of 18+ are obese</td>\n",
              "      <td>Obesity</td>\n",
              "      <td>35.8</td>\n",
              "      <td>30.5</td>\n",
              "      <td>41.5</td>\n",
              "      <td>742</td>\n",
              "      <td>35 - 44</td>\n",
              "      <td>NaN</td>\n",
              "      <td>NaN</td>\n",
              "      <td>NaN</td>\n",
              "      <td>NaN</td>\n",
              "    </tr>\n",
              "    <tr>\n",
              "      <th>122</th>\n",
              "      <td>2013</td>\n",
              "      <td>PR</td>\n",
              "      <td>Puerto Rico</td>\n",
              "      <td>% of 18+ are obese</td>\n",
              "      <td>Obesity</td>\n",
              "      <td>26.5</td>\n",
              "      <td>22.4</td>\n",
              "      <td>31.0</td>\n",
              "      <td>626</td>\n",
              "      <td>25 - 34</td>\n",
              "      <td>NaN</td>\n",
              "      <td>NaN</td>\n",
              "      <td>NaN</td>\n",
              "      <td>NaN</td>\n",
              "    </tr>\n",
              "  </tbody>\n",
              "</table>\n",
              "</div>"
            ],
            "text/plain": [
              "     Year LocationAbbr  LocationDesc  ... Gender Income  Race\n",
              "8    2011           AL       Alabama  ...    NaN    NaN   NaN\n",
              "15   2015           GU          Guam  ...    NaN    NaN   NaN\n",
              "81   2015           GU          Guam  ...    NaN    NaN   NaN\n",
              "83   2015           SD  South Dakota  ...    NaN    NaN   NaN\n",
              "122  2013           PR   Puerto Rico  ...    NaN    NaN   NaN\n",
              "\n",
              "[5 rows x 14 columns]"
            ]
          },
          "metadata": {},
          "execution_count": 38
        }
      ]
    },
    {
      "cell_type": "code",
      "source": [
        "# identify the age ranges that are defined in the data\n",
        "AgeRanges=np.sort(Age.Age.unique())\n",
        "print(AgeRanges)"
      ],
      "metadata": {
        "colab": {
          "base_uri": "https://localhost:8080/"
        },
        "id": "2dJDhEI6w6CE",
        "outputId": "0d930252-a170-4129-a63c-57583ecd3722"
      },
      "execution_count": null,
      "outputs": [
        {
          "output_type": "stream",
          "name": "stdout",
          "text": [
            "['18 - 24' '25 - 34' '35 - 44' '45 - 54' '55 - 64' '65 or older']\n"
          ]
        }
      ]
    },
    {
      "cell_type": "markdown",
      "source": [
        "## 3.3 Examine data - Boxplots and Observations\n",
        "\n",
        "\n",
        "---\n",
        "\n",
        "\n",
        "In this analysis, 'Age' is the independant variable and 'Percentage' is the response variable.\n",
        "\n",
        "We will draw a boxplot to have an idea about data distribution for each age range.\n",
        "\n",
        "It also gives us an idea about outliers"
      ],
      "metadata": {
        "id": "voNvDCMAw-9s"
      }
    },
    {
      "cell_type": "code",
      "source": [
        "ax = sns.boxplot(x=\"Age\", y=\"Percentage\", data=Age, order = AgeRanges)\n",
        "ax.set_xticklabels(ax.get_xticklabels(),rotation = 30)"
      ],
      "metadata": {
        "colab": {
          "base_uri": "https://localhost:8080/",
          "height": 415
        },
        "id": "k4XwNEkTxakJ",
        "outputId": "620b084a-428c-43b9-a16a-3151d23cac29"
      },
      "execution_count": null,
      "outputs": [
        {
          "output_type": "execute_result",
          "data": {
            "text/plain": [
              "[Text(0, 0, '18 - 24'),\n",
              " Text(0, 0, '25 - 34'),\n",
              " Text(0, 0, '35 - 44'),\n",
              " Text(0, 0, '45 - 54'),\n",
              " Text(0, 0, '55 - 64'),\n",
              " Text(0, 0, '65 or older')]"
            ]
          },
          "metadata": {},
          "execution_count": 40
        },
        {
          "output_type": "display_data",
          "data": {
            "image/png": "[encoded data removed]",
            "text/plain": [
              "<Figure size 432x288 with 1 Axes>"
            ]
          },
          "metadata": {
            "needs_background": "light"
          }
        }
      ]
    },
    {
      "cell_type": "code",
      "source": [
        "# Inspecting the above boxplots, we observe that:\n",
        "#   - the data is not strongly skewed, so we can assume that the data within groups is nearly normal.\n",
        "#   - there is no big difference between standard deviations of each group.\n",
        "#   - we may safely assume that observations are independent since we are analyzing a rather small sample, much smaller than 10%\n",
        "#     of the population.\n",
        "\n",
        "# We can confirm the above graphical obserstations by running the function'describe' on each group\n",
        "print(Age.groupby('Age')['Percentage'].describe())\n",
        "print('\\n')\n",
        "\n"
      ],
      "metadata": {
        "colab": {
          "base_uri": "https://localhost:8080/"
        },
        "id": "yJw2-3HOx3hE",
        "outputId": "6329e36d-1f6e-4c1e-c441-448630d051ef"
      },
      "execution_count": null,
      "outputs": [
        {
          "output_type": "stream",
          "name": "stdout",
          "text": [
            "             count       mean       std   min     25%    50%     75%   max\n",
            "Age                                                                       \n",
            "18 - 24      472.0  17.157203  4.200580   7.6  14.200  16.75  19.800  32.8\n",
            "25 - 34      472.0  28.187288  4.831066  12.3  24.800  28.20  31.125  42.8\n",
            "35 - 44      472.0  33.259534  5.147720  20.6  29.500  33.05  36.825  47.5\n",
            "45 - 54      472.0  35.074153  4.886227  24.1  31.675  34.80  38.700  50.2\n",
            "55 - 64      472.0  34.308898  4.357112  21.9  31.175  34.45  37.500  45.9\n",
            "65 or older  472.0  27.520975  3.635857  14.1  25.500  27.65  29.900  36.4\n",
            "\n",
            "\n"
          ]
        }
      ]
    },
    {
      "cell_type": "markdown",
      "source": [
        "## 3.4 ANOVA Analysis\n",
        "---\n",
        "Since the above 3 conditions are met, and since the independant variable is categorical and contains multiple values ANOVA is the applicaple test.\n",
        "\n",
        "So, we will assume the following Null and Alternative hypothesis:\n",
        "*   **Null** hypothesis        - the mean is the same across Age categories\n",
        "*   **Alternative** hypothesis - at least one mean is different     "
      ],
      "metadata": {
        "id": "nQamNCcRx8Ij"
      }
    },
    {
      "cell_type": "code",
      "source": [
        "# We will use the scipy.stats function f_oneway() to find the F-statistic and p-value\n",
        "#  The larger the F value will be and will provide stronger evidence against the null hypothesis.\n",
        "F_stat, p_value = st.f_oneway(Age['Percentage'][Age['Age'] == '18 - 24'],\n",
        "            Age['Percentage'][Age['Age'] == '25 - 34'],\n",
        "            Age['Percentage'][Age['Age'] == '35 - 44'],\n",
        "            Age['Percentage'][Age['Age'] == '45 - 54'],\n",
        "            Age['Percentage'][Age['Age'] == '55 - 64'],\n",
        "            Age['Percentage'][Age['Age'] == '65 or older'])\n",
        "\n",
        "# The F-value is very high (~1035) and the p-value is very small (~0).\n",
        "print('F_stat:', F_stat, 'p_value:', p_value, '\\n')\n",
        "# Hence, the evidence against the null hypothesis is very strong\n",
        "\n",
        "# Identification of different group - Bonferroni method\n",
        "comparisons = mc.MultiComparison(Age['Percentage'], Age['Age'])\n",
        "table, arr1, arr2 = comparisons.allpairtest(st.ttest_ind,  method='bonf')\n",
        "\n",
        "print(table)\n",
        "print(\"\\n\")\n",
        "print('Age groups \"25 - 34\" and \"65 or older\" are not significantly different')\n",
        "print('Age groups \"45 - 54\" and \"55 - 64\"     are not significantly different')\n",
        "print('All other groups are significantly different')\n"
      ],
      "metadata": {
        "colab": {
          "base_uri": "https://localhost:8080/"
        },
        "id": "YUDpliUYx7W6",
        "outputId": "ffaf2dbe-d0ac-4913-9b6a-5666302ca07a"
      },
      "execution_count": null,
      "outputs": [
        {
          "output_type": "stream",
          "name": "stdout",
          "text": [
            "F_stat: 1035.7115784373618 p_value: 0.0 \n",
            "\n",
            "Test Multiple Comparison ttest_ind \n",
            "FWER=0.05 method=bonf\n",
            "alphacSidak=0.00, alphacBonf=0.003\n",
            "====================================================\n",
            " group1    group2     stat    pval  pval_corr reject\n",
            "----------------------------------------------------\n",
            "18 - 24     25 - 34 -37.4319    0.0       0.0   True\n",
            "18 - 24     35 - 44 -52.6532    0.0       0.0   True\n",
            "18 - 24     45 - 54 -60.4096    0.0       0.0   True\n",
            "18 - 24     55 - 64 -61.5692    0.0       0.0   True\n",
            "18 - 24 65 or older -40.5285    0.0       0.0   True\n",
            "25 - 34     35 - 44 -15.6095    0.0       0.0   True\n",
            "25 - 34     45 - 54 -21.7749    0.0       0.0   True\n",
            "25 - 34     55 - 64  -20.443    0.0       0.0   True\n",
            "25 - 34 65 or older   2.3942 0.0169    0.2528  False\n",
            "35 - 44     45 - 54  -5.5546    0.0       0.0   True\n",
            "35 - 44     55 - 64  -3.3804 0.0008    0.0113   True\n",
            "35 - 44 65 or older  19.7823    0.0       0.0   True\n",
            "45 - 54     55 - 64   2.5395 0.0113    0.1689  False\n",
            "45 - 54 65 or older  26.9429    0.0       0.0   True\n",
            "55 - 64 65 or older  25.9869    0.0       0.0   True\n",
            "----------------------------------------------------\n",
            "\n",
            "\n",
            "Age groups \"25 - 34\" and \"65 or older\" are not significantly different\n",
            "Age groups \"45 - 54\" and \"55 - 64\"     are not significantly different\n",
            "All other groups are significantly different\n"
          ]
        }
      ]
    },
    {
      "cell_type": "markdown",
      "source": [
        "## 3.5 Linear Regression\n",
        "---\n",
        "Treat age brackets as ordinal data that require encoding\n",
        "\n",
        "Use classic ordinal encoding where categories are assumed close enough to interval data — with relatively equal magnitudes between the values"
      ],
      "metadata": {
        "id": "T7bMozqyzeyK"
      }
    },
    {
      "cell_type": "code",
      "source": [
        "# Define a dictionary for encoding target variable\n",
        "enc_dict = { '18 - 24'     :1,\n",
        "             '25 - 34'     :2,\n",
        "             '35 - 44'     :3,\n",
        "             '45 - 54'     :4,\n",
        "             '55 - 64'     :5,\n",
        "             '65 or older' :6}\n",
        "\n",
        "# Create the mapped values in a new column\n",
        "Age['Age_ordinal'] = Age['Age'].map(enc_dict).astype(int)\n",
        "print(Age.head())\n",
        "\n",
        "m = sm.ols(formula='Percentage ~ Age_ordinal', data=Age)\n",
        "m = m.fit()\n",
        "print(m.summary())\n",
        "\n",
        "Age['Percentage_predicted'] = m.predict(Age)\n",
        "Age['Percentage_redisuals'] = Age['Percentage_predicted'] - Age['Percentage']\n",
        "Age.Percentage_redisuals.mean()\n",
        "plt.hist(Age.Percentage_redisuals)\n",
        "plt.show()\n",
        "\n",
        "print('R-squared:', round(m.rsquared,2))\n",
        "print('Insignificant association between x and y.')\n",
        "Age.head()"
      ],
      "metadata": {
        "colab": {
          "base_uri": "https://localhost:8080/",
          "height": 1000
        },
        "id": "qWLpg58Zzv21",
        "outputId": "0484900b-4ef3-4f7f-9666-f9949030732f"
      },
      "execution_count": null,
      "outputs": [
        {
          "output_type": "stream",
          "name": "stdout",
          "text": [
            "     Year LocationAbbr  LocationDesc  ... Income Race  Age_ordinal\n",
            "8    2011           AL       Alabama  ...    NaN  NaN            2\n",
            "15   2015           GU          Guam  ...    NaN  NaN            5\n",
            "81   2015           GU          Guam  ...    NaN  NaN            1\n",
            "83   2015           SD  South Dakota  ...    NaN  NaN            3\n",
            "122  2013           PR   Puerto Rico  ...    NaN  NaN            2\n",
            "\n",
            "[5 rows x 15 columns]\n",
            "                            OLS Regression Results                            \n",
            "==============================================================================\n",
            "Dep. Variable:             Percentage   R-squared:                       0.212\n",
            "Model:                            OLS   Adj. R-squared:                  0.212\n",
            "Method:                 Least Squares   F-statistic:                     761.6\n",
            "Date:                Mon, 13 Dec 2021   Prob (F-statistic):          1.16e-148\n",
            "Time:                        13:46:31   Log-Likelihood:                -9435.6\n",
            "No. Observations:                2832   AIC:                         1.888e+04\n",
            "Df Residuals:                    2830   BIC:                         1.889e+04\n",
            "Df Model:                           1                                         \n",
            "Covariance Type:            nonrobust                                         \n",
            "===============================================================================\n",
            "                  coef    std err          t      P>|t|      [0.025      0.975]\n",
            "-------------------------------------------------------------------------------\n",
            "Intercept      22.0515      0.290     75.961      0.000      21.482      22.621\n",
            "Age_ordinal     2.0571      0.075     27.596      0.000       1.911       2.203\n",
            "==============================================================================\n",
            "Omnibus:                       65.183   Durbin-Watson:                   1.928\n",
            "Prob(Omnibus):                  0.000   Jarque-Bera (JB):               34.026\n",
            "Skew:                           0.007   Prob(JB):                     4.09e-08\n",
            "Kurtosis:                       2.463   Cond. No.                         9.36\n",
            "==============================================================================\n",
            "\n",
            "Warnings:\n",
            "[1] Standard Errors assume that the covariance matrix of the errors is correctly specified.\n"
          ]
        },
        {
          "output_type": "display_data",
          "data": {
            "image/png": "[encoded data removed]",
            "text/plain": [
              "<Figure size 432x288 with 1 Axes>"
            ]
          },
          "metadata": {
            "needs_background": "light"
          }
        },
        {
          "output_type": "stream",
          "name": "stdout",
          "text": [
            "R-squared: 0.21\n",
            "Insignificant association between x and y.\n"
          ]
        },
        {
          "output_type": "execute_result",
          "data": {
            "text/html": [
              "<div>\n",
              "<style scoped>\n",
              "    .dataframe tbody tr th:only-of-type {\n",
              "        vertical-align: middle;\n",
              "    }\n",
              "\n",
              "    .dataframe tbody tr th {\n",
              "        vertical-align: top;\n",
              "    }\n",
              "\n",
              "    .dataframe thead th {\n",
              "        text-align: right;\n",
              "    }\n",
              "</style>\n",
              "<table border=\"1\" class=\"dataframe\">\n",
              "  <thead>\n",
              "    <tr style=\"text-align: right;\">\n",
              "      <th></th>\n",
              "      <th>Year</th>\n",
              "      <th>LocationAbbr</th>\n",
              "      <th>LocationDesc</th>\n",
              "      <th>Question</th>\n",
              "      <th>Category</th>\n",
              "      <th>Percentage</th>\n",
              "      <th>LCL</th>\n",
              "      <th>HCL</th>\n",
              "      <th>Sample_Size</th>\n",
              "      <th>Age</th>\n",
              "      <th>Education</th>\n",
              "      <th>Gender</th>\n",
              "      <th>Income</th>\n",
              "      <th>Race</th>\n",
              "      <th>Age_ordinal</th>\n",
              "      <th>Percentage_predicted</th>\n",
              "      <th>Percentage_redisuals</th>\n",
              "    </tr>\n",
              "  </thead>\n",
              "  <tbody>\n",
              "    <tr>\n",
              "      <th>8</th>\n",
              "      <td>2011</td>\n",
              "      <td>AL</td>\n",
              "      <td>Alabama</td>\n",
              "      <td>% of 18+ are obese</td>\n",
              "      <td>Obesity</td>\n",
              "      <td>35.2</td>\n",
              "      <td>30.7</td>\n",
              "      <td>40.0</td>\n",
              "      <td>598</td>\n",
              "      <td>25 - 34</td>\n",
              "      <td>NaN</td>\n",
              "      <td>NaN</td>\n",
              "      <td>NaN</td>\n",
              "      <td>NaN</td>\n",
              "      <td>2</td>\n",
              "      <td>26.165700</td>\n",
              "      <td>-9.034300</td>\n",
              "    </tr>\n",
              "    <tr>\n",
              "      <th>15</th>\n",
              "      <td>2015</td>\n",
              "      <td>GU</td>\n",
              "      <td>Guam</td>\n",
              "      <td>% of 18+ are obese</td>\n",
              "      <td>Obesity</td>\n",
              "      <td>33.7</td>\n",
              "      <td>25.1</td>\n",
              "      <td>43.4</td>\n",
              "      <td>285</td>\n",
              "      <td>55 - 64</td>\n",
              "      <td>NaN</td>\n",
              "      <td>NaN</td>\n",
              "      <td>NaN</td>\n",
              "      <td>NaN</td>\n",
              "      <td>5</td>\n",
              "      <td>32.336983</td>\n",
              "      <td>-1.363017</td>\n",
              "    </tr>\n",
              "    <tr>\n",
              "      <th>81</th>\n",
              "      <td>2015</td>\n",
              "      <td>GU</td>\n",
              "      <td>Guam</td>\n",
              "      <td>% of 18+ are obese</td>\n",
              "      <td>Obesity</td>\n",
              "      <td>25.0</td>\n",
              "      <td>16.8</td>\n",
              "      <td>35.5</td>\n",
              "      <td>195</td>\n",
              "      <td>18 - 24</td>\n",
              "      <td>NaN</td>\n",
              "      <td>NaN</td>\n",
              "      <td>NaN</td>\n",
              "      <td>NaN</td>\n",
              "      <td>1</td>\n",
              "      <td>24.108606</td>\n",
              "      <td>-0.891394</td>\n",
              "    </tr>\n",
              "    <tr>\n",
              "      <th>83</th>\n",
              "      <td>2015</td>\n",
              "      <td>SD</td>\n",
              "      <td>South Dakota</td>\n",
              "      <td>% of 18+ are obese</td>\n",
              "      <td>Obesity</td>\n",
              "      <td>35.8</td>\n",
              "      <td>30.5</td>\n",
              "      <td>41.5</td>\n",
              "      <td>742</td>\n",
              "      <td>35 - 44</td>\n",
              "      <td>NaN</td>\n",
              "      <td>NaN</td>\n",
              "      <td>NaN</td>\n",
              "      <td>NaN</td>\n",
              "      <td>3</td>\n",
              "      <td>28.222795</td>\n",
              "      <td>-7.577205</td>\n",
              "    </tr>\n",
              "    <tr>\n",
              "      <th>122</th>\n",
              "      <td>2013</td>\n",
              "      <td>PR</td>\n",
              "      <td>Puerto Rico</td>\n",
              "      <td>% of 18+ are obese</td>\n",
              "      <td>Obesity</td>\n",
              "      <td>26.5</td>\n",
              "      <td>22.4</td>\n",
              "      <td>31.0</td>\n",
              "      <td>626</td>\n",
              "      <td>25 - 34</td>\n",
              "      <td>NaN</td>\n",
              "      <td>NaN</td>\n",
              "      <td>NaN</td>\n",
              "      <td>NaN</td>\n",
              "      <td>2</td>\n",
              "      <td>26.165700</td>\n",
              "      <td>-0.334300</td>\n",
              "    </tr>\n",
              "  </tbody>\n",
              "</table>\n",
              "</div>"
            ],
            "text/plain": [
              "     Year LocationAbbr  ... Percentage_predicted Percentage_redisuals\n",
              "8    2011           AL  ...            26.165700            -9.034300\n",
              "15   2015           GU  ...            32.336983            -1.363017\n",
              "81   2015           GU  ...            24.108606            -0.891394\n",
              "83   2015           SD  ...            28.222795            -7.577205\n",
              "122  2013           PR  ...            26.165700            -0.334300\n",
              "\n",
              "[5 rows x 17 columns]"
            ]
          },
          "metadata": {},
          "execution_count": 43
        }
      ]
    },
    {
      "cell_type": "markdown",
      "source": [
        "## 3.6 Logistic Regression\n",
        "---\n",
        "Want to test a binary case - transform percentage obesity data:\n",
        "*   1 if greater than or equal to 50th percentile\n",
        "*   0 if less than 50th percentile\n",
        "\n",
        "\n"
      ],
      "metadata": {
        "id": "ktaorjWKz5WE"
      }
    },
    {
      "cell_type": "markdown",
      "source": [
        "### 3.6.1 Preparation"
      ],
      "metadata": {
        "id": "SKGHmbBb0Plu"
      }
    },
    {
      "cell_type": "code",
      "source": [
        "print(Age['Percentage'].describe(), '\\n')\n",
        "Age.loc[Age['Percentage'] >= 29.3, 'Binary_%'] = '1'\n",
        "Age.loc[Age['Percentage'] <  29.3, 'Binary_%'] = '0'\n",
        "\n",
        "dummy_age = pd.get_dummies(Age['Age_ordinal'], prefix='cat')\n",
        "print(dummy_age)\n",
        "Age = Age.join(dummy_age)\n",
        "Age.head(10)"
      ],
      "metadata": {
        "colab": {
          "base_uri": "https://localhost:8080/",
          "height": 1000
        },
        "id": "Eoa8nY46zzNF",
        "outputId": "51b7b05a-04ee-4e4b-8f57-ba488d74dc3d"
      },
      "execution_count": null,
      "outputs": [
        {
          "output_type": "stream",
          "name": "stdout",
          "text": [
            "count    2832.000000\n",
            "mean       29.251342\n",
            "std         7.630727\n",
            "min         7.600000\n",
            "25%        25.000000\n",
            "50%        29.900000\n",
            "75%        34.600000\n",
            "max        50.200000\n",
            "Name: Percentage, dtype: float64 \n",
            "\n",
            "       cat_1  cat_2  cat_3  cat_4  cat_5  cat_6\n",
            "8          0      1      0      0      0      0\n",
            "15         0      0      0      0      1      0\n",
            "81         1      0      0      0      0      0\n",
            "83         0      0      1      0      0      0\n",
            "122        0      1      0      0      0      0\n",
            "...      ...    ...    ...    ...    ...    ...\n",
            "74535      0      0      1      0      0      0\n",
            "74601      0      0      0      0      1      0\n",
            "74629      0      0      1      0      0      0\n",
            "74695      0      0      0      1      0      0\n",
            "74699      0      1      0      0      0      0\n",
            "\n",
            "[2832 rows x 6 columns]\n"
          ]
        },
        {
          "output_type": "execute_result",
          "data": {
            "text/html": [
              "<div>\n",
              "<style scoped>\n",
              "    .dataframe tbody tr th:only-of-type {\n",
              "        vertical-align: middle;\n",
              "    }\n",
              "\n",
              "    .dataframe tbody tr th {\n",
              "        vertical-align: top;\n",
              "    }\n",
              "\n",
              "    .dataframe thead th {\n",
              "        text-align: right;\n",
              "    }\n",
              "</style>\n",
              "<table border=\"1\" class=\"dataframe\">\n",
              "  <thead>\n",
              "    <tr style=\"text-align: right;\">\n",
              "      <th></th>\n",
              "      <th>Year</th>\n",
              "      <th>LocationAbbr</th>\n",
              "      <th>LocationDesc</th>\n",
              "      <th>Question</th>\n",
              "      <th>Category</th>\n",
              "      <th>Percentage</th>\n",
              "      <th>LCL</th>\n",
              "      <th>HCL</th>\n",
              "      <th>Sample_Size</th>\n",
              "      <th>Age</th>\n",
              "      <th>Education</th>\n",
              "      <th>Gender</th>\n",
              "      <th>Income</th>\n",
              "      <th>Race</th>\n",
              "      <th>Age_ordinal</th>\n",
              "      <th>Percentage_predicted</th>\n",
              "      <th>Percentage_redisuals</th>\n",
              "      <th>Binary_%</th>\n",
              "      <th>cat_1</th>\n",
              "      <th>cat_2</th>\n",
              "      <th>cat_3</th>\n",
              "      <th>cat_4</th>\n",
              "      <th>cat_5</th>\n",
              "      <th>cat_6</th>\n",
              "    </tr>\n",
              "  </thead>\n",
              "  <tbody>\n",
              "    <tr>\n",
              "      <th>8</th>\n",
              "      <td>2011</td>\n",
              "      <td>AL</td>\n",
              "      <td>Alabama</td>\n",
              "      <td>% of 18+ are obese</td>\n",
              "      <td>Obesity</td>\n",
              "      <td>35.2</td>\n",
              "      <td>30.7</td>\n",
              "      <td>40.0</td>\n",
              "      <td>598</td>\n",
              "      <td>25 - 34</td>\n",
              "      <td>NaN</td>\n",
              "      <td>NaN</td>\n",
              "      <td>NaN</td>\n",
              "      <td>NaN</td>\n",
              "      <td>2</td>\n",
              "      <td>26.165700</td>\n",
              "      <td>-9.034300</td>\n",
              "      <td>1</td>\n",
              "      <td>0</td>\n",
              "      <td>1</td>\n",
              "      <td>0</td>\n",
              "      <td>0</td>\n",
              "      <td>0</td>\n",
              "      <td>0</td>\n",
              "    </tr>\n",
              "    <tr>\n",
              "      <th>15</th>\n",
              "      <td>2015</td>\n",
              "      <td>GU</td>\n",
              "      <td>Guam</td>\n",
              "      <td>% of 18+ are obese</td>\n",
              "      <td>Obesity</td>\n",
              "      <td>33.7</td>\n",
              "      <td>25.1</td>\n",
              "      <td>43.4</td>\n",
              "      <td>285</td>\n",
              "      <td>55 - 64</td>\n",
              "      <td>NaN</td>\n",
              "      <td>NaN</td>\n",
              "      <td>NaN</td>\n",
              "      <td>NaN</td>\n",
              "      <td>5</td>\n",
              "      <td>32.336983</td>\n",
              "      <td>-1.363017</td>\n",
              "      <td>1</td>\n",
              "      <td>0</td>\n",
              "      <td>0</td>\n",
              "      <td>0</td>\n",
              "      <td>0</td>\n",
              "      <td>1</td>\n",
              "      <td>0</td>\n",
              "    </tr>\n",
              "    <tr>\n",
              "      <th>81</th>\n",
              "      <td>2015</td>\n",
              "      <td>GU</td>\n",
              "      <td>Guam</td>\n",
              "      <td>% of 18+ are obese</td>\n",
              "      <td>Obesity</td>\n",
              "      <td>25.0</td>\n",
              "      <td>16.8</td>\n",
              "      <td>35.5</td>\n",
              "      <td>195</td>\n",
              "      <td>18 - 24</td>\n",
              "      <td>NaN</td>\n",
              "      <td>NaN</td>\n",
              "      <td>NaN</td>\n",
              "      <td>NaN</td>\n",
              "      <td>1</td>\n",
              "      <td>24.108606</td>\n",
              "      <td>-0.891394</td>\n",
              "      <td>0</td>\n",
              "      <td>1</td>\n",
              "      <td>0</td>\n",
              "      <td>0</td>\n",
              "      <td>0</td>\n",
              "      <td>0</td>\n",
              "      <td>0</td>\n",
              "    </tr>\n",
              "    <tr>\n",
              "      <th>83</th>\n",
              "      <td>2015</td>\n",
              "      <td>SD</td>\n",
              "      <td>South Dakota</td>\n",
              "      <td>% of 18+ are obese</td>\n",
              "      <td>Obesity</td>\n",
              "      <td>35.8</td>\n",
              "      <td>30.5</td>\n",
              "      <td>41.5</td>\n",
              "      <td>742</td>\n",
              "      <td>35 - 44</td>\n",
              "      <td>NaN</td>\n",
              "      <td>NaN</td>\n",
              "      <td>NaN</td>\n",
              "      <td>NaN</td>\n",
              "      <td>3</td>\n",
              "      <td>28.222795</td>\n",
              "      <td>-7.577205</td>\n",
              "      <td>1</td>\n",
              "      <td>0</td>\n",
              "      <td>0</td>\n",
              "      <td>1</td>\n",
              "      <td>0</td>\n",
              "      <td>0</td>\n",
              "      <td>0</td>\n",
              "    </tr>\n",
              "    <tr>\n",
              "      <th>122</th>\n",
              "      <td>2013</td>\n",
              "      <td>PR</td>\n",
              "      <td>Puerto Rico</td>\n",
              "      <td>% of 18+ are obese</td>\n",
              "      <td>Obesity</td>\n",
              "      <td>26.5</td>\n",
              "      <td>22.4</td>\n",
              "      <td>31.0</td>\n",
              "      <td>626</td>\n",
              "      <td>25 - 34</td>\n",
              "      <td>NaN</td>\n",
              "      <td>NaN</td>\n",
              "      <td>NaN</td>\n",
              "      <td>NaN</td>\n",
              "      <td>2</td>\n",
              "      <td>26.165700</td>\n",
              "      <td>-0.334300</td>\n",
              "      <td>0</td>\n",
              "      <td>0</td>\n",
              "      <td>1</td>\n",
              "      <td>0</td>\n",
              "      <td>0</td>\n",
              "      <td>0</td>\n",
              "      <td>0</td>\n",
              "    </tr>\n",
              "    <tr>\n",
              "      <th>151</th>\n",
              "      <td>2016</td>\n",
              "      <td>WY</td>\n",
              "      <td>Wyoming</td>\n",
              "      <td>% of 18+ are obese</td>\n",
              "      <td>Obesity</td>\n",
              "      <td>37.0</td>\n",
              "      <td>31.3</td>\n",
              "      <td>43.0</td>\n",
              "      <td>433</td>\n",
              "      <td>35 - 44</td>\n",
              "      <td>NaN</td>\n",
              "      <td>NaN</td>\n",
              "      <td>NaN</td>\n",
              "      <td>NaN</td>\n",
              "      <td>3</td>\n",
              "      <td>28.222795</td>\n",
              "      <td>-8.777205</td>\n",
              "      <td>1</td>\n",
              "      <td>0</td>\n",
              "      <td>0</td>\n",
              "      <td>1</td>\n",
              "      <td>0</td>\n",
              "      <td>0</td>\n",
              "      <td>0</td>\n",
              "    </tr>\n",
              "    <tr>\n",
              "      <th>155</th>\n",
              "      <td>2016</td>\n",
              "      <td>CO</td>\n",
              "      <td>Colorado</td>\n",
              "      <td>% of 18+ are obese</td>\n",
              "      <td>Obesity</td>\n",
              "      <td>26.9</td>\n",
              "      <td>24.7</td>\n",
              "      <td>29.2</td>\n",
              "      <td>2191</td>\n",
              "      <td>45 - 54</td>\n",
              "      <td>NaN</td>\n",
              "      <td>NaN</td>\n",
              "      <td>NaN</td>\n",
              "      <td>NaN</td>\n",
              "      <td>4</td>\n",
              "      <td>30.279889</td>\n",
              "      <td>3.379889</td>\n",
              "      <td>0</td>\n",
              "      <td>0</td>\n",
              "      <td>0</td>\n",
              "      <td>0</td>\n",
              "      <td>1</td>\n",
              "      <td>0</td>\n",
              "      <td>0</td>\n",
              "    </tr>\n",
              "    <tr>\n",
              "      <th>160</th>\n",
              "      <td>2016</td>\n",
              "      <td>VI</td>\n",
              "      <td>Virgin Islands</td>\n",
              "      <td>% of 18+ are obese</td>\n",
              "      <td>Obesity</td>\n",
              "      <td>41.4</td>\n",
              "      <td>33.3</td>\n",
              "      <td>49.8</td>\n",
              "      <td>217</td>\n",
              "      <td>45 - 54</td>\n",
              "      <td>NaN</td>\n",
              "      <td>NaN</td>\n",
              "      <td>NaN</td>\n",
              "      <td>NaN</td>\n",
              "      <td>4</td>\n",
              "      <td>30.279889</td>\n",
              "      <td>-11.120111</td>\n",
              "      <td>1</td>\n",
              "      <td>0</td>\n",
              "      <td>0</td>\n",
              "      <td>0</td>\n",
              "      <td>1</td>\n",
              "      <td>0</td>\n",
              "      <td>0</td>\n",
              "    </tr>\n",
              "    <tr>\n",
              "      <th>166</th>\n",
              "      <td>2016</td>\n",
              "      <td>KS</td>\n",
              "      <td>Kansas</td>\n",
              "      <td>% of 18+ are obese</td>\n",
              "      <td>Obesity</td>\n",
              "      <td>36.0</td>\n",
              "      <td>32.9</td>\n",
              "      <td>39.2</td>\n",
              "      <td>1224</td>\n",
              "      <td>35 - 44</td>\n",
              "      <td>NaN</td>\n",
              "      <td>NaN</td>\n",
              "      <td>NaN</td>\n",
              "      <td>NaN</td>\n",
              "      <td>3</td>\n",
              "      <td>28.222795</td>\n",
              "      <td>-7.777205</td>\n",
              "      <td>1</td>\n",
              "      <td>0</td>\n",
              "      <td>0</td>\n",
              "      <td>1</td>\n",
              "      <td>0</td>\n",
              "      <td>0</td>\n",
              "      <td>0</td>\n",
              "    </tr>\n",
              "    <tr>\n",
              "      <th>178</th>\n",
              "      <td>2016</td>\n",
              "      <td>TX</td>\n",
              "      <td>Texas</td>\n",
              "      <td>% of 18+ are obese</td>\n",
              "      <td>Obesity</td>\n",
              "      <td>30.7</td>\n",
              "      <td>26.8</td>\n",
              "      <td>34.8</td>\n",
              "      <td>1098</td>\n",
              "      <td>25 - 34</td>\n",
              "      <td>NaN</td>\n",
              "      <td>NaN</td>\n",
              "      <td>NaN</td>\n",
              "      <td>NaN</td>\n",
              "      <td>2</td>\n",
              "      <td>26.165700</td>\n",
              "      <td>-4.534300</td>\n",
              "      <td>1</td>\n",
              "      <td>0</td>\n",
              "      <td>1</td>\n",
              "      <td>0</td>\n",
              "      <td>0</td>\n",
              "      <td>0</td>\n",
              "      <td>0</td>\n",
              "    </tr>\n",
              "  </tbody>\n",
              "</table>\n",
              "</div>"
            ],
            "text/plain": [
              "     Year LocationAbbr    LocationDesc  ... cat_4 cat_5  cat_6\n",
              "8    2011           AL         Alabama  ...     0     0      0\n",
              "15   2015           GU            Guam  ...     0     1      0\n",
              "81   2015           GU            Guam  ...     0     0      0\n",
              "83   2015           SD    South Dakota  ...     0     0      0\n",
              "122  2013           PR     Puerto Rico  ...     0     0      0\n",
              "151  2016           WY         Wyoming  ...     0     0      0\n",
              "155  2016           CO        Colorado  ...     1     0      0\n",
              "160  2016           VI  Virgin Islands  ...     1     0      0\n",
              "166  2016           KS          Kansas  ...     0     0      0\n",
              "178  2016           TX           Texas  ...     0     0      0\n",
              "\n",
              "[10 rows x 24 columns]"
            ]
          },
          "metadata": {},
          "execution_count": 44
        }
      ]
    },
    {
      "cell_type": "markdown",
      "source": [
        "### 3.6.2 Regression"
      ],
      "metadata": {
        "id": "hK-V56Lx0UAi"
      }
    },
    {
      "cell_type": "code",
      "source": [
        "# Ensure that the format of the 'Binary_%' field is in integer format\n",
        "Age[\"Binary_%\"] = Age[\"Binary_%\"].astype(str).astype(int)\n",
        "\n",
        "# Fit the model\n",
        "predictors = ['cat_1', 'cat_2', 'cat_3', 'cat_4', 'cat_5', 'cat_6']\n",
        "m = Logit(Age['Binary_%'], Age[predictors])\n",
        "m = m.fit()\n",
        "print(m.summary())\n",
        "\n",
        "# Model Evaulation\n",
        "conf_mat = m.pred_table()\n",
        "print (conf_mat)\n",
        "print('223 + 349 estimates were incorrect')\n",
        "\n",
        "tn, fp, fn, tp = conf_mat.flatten()\n",
        "acc = (tp + tn) / np.sum(conf_mat)\n",
        "print (\"Accuraccy of the model is: %1.2f\" % acc)\n",
        "mcc = (tp * tn - fp * fn)/np.sqrt((tp + fp)*(tp + fn)*(tn + fp)*(tn + fn))\n",
        "print (\"Mathews correlation coefficient between the estimates and the true response is: %1.2f\" % mcc)\n",
        "prc = tp / (tp + fp)\n",
        "rec = tp / (tp + fn)\n",
        "print (\"Model's precision is %1.2f and it's recall is %1.2f\" % (prc, rec))"
      ],
      "metadata": {
        "colab": {
          "base_uri": "https://localhost:8080/"
        },
        "id": "M4X4Z5ri0Tze",
        "outputId": "b5d2ed9b-ce04-4459-a6ab-63663c95c942"
      },
      "execution_count": null,
      "outputs": [
        {
          "output_type": "stream",
          "name": "stdout",
          "text": [
            "Optimization terminated successfully.\n",
            "         Current function value: 0.437811\n",
            "         Iterations 9\n",
            "                           Logit Regression Results                           \n",
            "==============================================================================\n",
            "Dep. Variable:               Binary_%   No. Observations:                 2832\n",
            "Model:                          Logit   Df Residuals:                     2826\n",
            "Method:                           MLE   Df Model:                            5\n",
            "Date:                Mon, 13 Dec 2021   Pseudo R-squ.:                  0.3647\n",
            "Time:                        13:46:31   Log-Likelihood:                -1239.9\n",
            "converged:                       True   LL-Null:                       -1951.8\n",
            "Covariance Type:            nonrobust   LLR p-value:                9.730e-306\n",
            "==============================================================================\n",
            "                 coef    std err          z      P>|z|      [0.025      0.975]\n",
            "------------------------------------------------------------------------------\n",
            "cat_1         -5.0520      0.579     -8.722      0.000      -6.187      -3.917\n",
            "cat_2         -0.3773      0.094     -4.027      0.000      -0.561      -0.194\n",
            "cat_3          1.2392      0.110     11.235      0.000       1.023       1.455\n",
            "cat_4          2.0465      0.145     14.152      0.000       1.763       2.330\n",
            "cat_5          1.8706      0.135     13.821      0.000       1.605       2.136\n",
            "cat_6         -0.7251      0.098     -7.386      0.000      -0.918      -0.533\n",
            "==============================================================================\n",
            "[[1067.  223.]\n",
            " [ 349. 1193.]]\n",
            "223 + 349 estimates were incorrect\n",
            "Accuraccy of the model is: 0.80\n",
            "Mathews correlation coefficient between the estimates and the true response is: 0.60\n",
            "Model's precision is 0.84 and it's recall is 0.77\n"
          ]
        }
      ]
    },
    {
      "cell_type": "markdown",
      "source": [
        "# 4.0 Race vs Obesity"
      ],
      "metadata": {
        "id": "oDLWPL6a1OdU"
      }
    },
    {
      "cell_type": "markdown",
      "source": [
        "## 4.1 Read Processed Data"
      ],
      "metadata": {
        "id": "Dk2dWm131lna"
      }
    },
    {
      "cell_type": "code",
      "source": [
        "df = readProcessedData()\n",
        "\n",
        "df.head(4)"
      ],
      "metadata": {
        "colab": {
          "base_uri": "https://localhost:8080/",
          "height": 175
        },
        "id": "bdwKi9wz1N8f",
        "outputId": "646c50b8-f66e-497c-a2e0-8479f437d257"
      },
      "execution_count": null,
      "outputs": [
        {
          "output_type": "execute_result",
          "data": {
            "text/html": [
              "<div>\n",
              "<style scoped>\n",
              "    .dataframe tbody tr th:only-of-type {\n",
              "        vertical-align: middle;\n",
              "    }\n",
              "\n",
              "    .dataframe tbody tr th {\n",
              "        vertical-align: top;\n",
              "    }\n",
              "\n",
              "    .dataframe thead th {\n",
              "        text-align: right;\n",
              "    }\n",
              "</style>\n",
              "<table border=\"1\" class=\"dataframe\">\n",
              "  <thead>\n",
              "    <tr style=\"text-align: right;\">\n",
              "      <th></th>\n",
              "      <th>Year</th>\n",
              "      <th>LocationAbbr</th>\n",
              "      <th>LocationDesc</th>\n",
              "      <th>Question</th>\n",
              "      <th>Category</th>\n",
              "      <th>Percentage</th>\n",
              "      <th>LCL</th>\n",
              "      <th>HCL</th>\n",
              "      <th>Sample_Size</th>\n",
              "      <th>Age</th>\n",
              "      <th>Education</th>\n",
              "      <th>Gender</th>\n",
              "      <th>Income</th>\n",
              "      <th>Race</th>\n",
              "    </tr>\n",
              "  </thead>\n",
              "  <tbody>\n",
              "    <tr>\n",
              "      <th>0</th>\n",
              "      <td>2014</td>\n",
              "      <td>GU</td>\n",
              "      <td>Guam</td>\n",
              "      <td>% of 18+ are obese</td>\n",
              "      <td>Obesity</td>\n",
              "      <td>29.3</td>\n",
              "      <td>25.7</td>\n",
              "      <td>33.3</td>\n",
              "      <td>842</td>\n",
              "      <td>NaN</td>\n",
              "      <td>High school graduate</td>\n",
              "      <td>NaN</td>\n",
              "      <td>NaN</td>\n",
              "      <td>NaN</td>\n",
              "    </tr>\n",
              "    <tr>\n",
              "      <th>1</th>\n",
              "      <td>2013</td>\n",
              "      <td>US</td>\n",
              "      <td>National</td>\n",
              "      <td>% of 18+ are obese</td>\n",
              "      <td>Obesity</td>\n",
              "      <td>28.8</td>\n",
              "      <td>28.1</td>\n",
              "      <td>29.5</td>\n",
              "      <td>62562</td>\n",
              "      <td>NaN</td>\n",
              "      <td>NaN</td>\n",
              "      <td>NaN</td>\n",
              "      <td>$50,000 - $74,999</td>\n",
              "      <td>NaN</td>\n",
              "    </tr>\n",
              "    <tr>\n",
              "      <th>2</th>\n",
              "      <td>2013</td>\n",
              "      <td>US</td>\n",
              "      <td>National</td>\n",
              "      <td>% of 18+ are overweight</td>\n",
              "      <td>Obesity</td>\n",
              "      <td>32.7</td>\n",
              "      <td>31.9</td>\n",
              "      <td>33.5</td>\n",
              "      <td>60069</td>\n",
              "      <td>NaN</td>\n",
              "      <td>NaN</td>\n",
              "      <td>NaN</td>\n",
              "      <td>Data not reported</td>\n",
              "      <td>NaN</td>\n",
              "    </tr>\n",
              "    <tr>\n",
              "      <th>3</th>\n",
              "      <td>2015</td>\n",
              "      <td>US</td>\n",
              "      <td>National</td>\n",
              "      <td>High aero per week</td>\n",
              "      <td>Activity</td>\n",
              "      <td>26.6</td>\n",
              "      <td>25.6</td>\n",
              "      <td>27.6</td>\n",
              "      <td>30904</td>\n",
              "      <td>NaN</td>\n",
              "      <td>NaN</td>\n",
              "      <td>NaN</td>\n",
              "      <td>Less than $15,000</td>\n",
              "      <td>NaN</td>\n",
              "    </tr>\n",
              "  </tbody>\n",
              "</table>\n",
              "</div>"
            ],
            "text/plain": [
              "   Year LocationAbbr LocationDesc  ... Gender             Income  Race\n",
              "0  2014           GU         Guam  ...    NaN                NaN   NaN\n",
              "1  2013           US     National  ...    NaN  $50,000 - $74,999   NaN\n",
              "2  2013           US     National  ...    NaN  Data not reported   NaN\n",
              "3  2015           US     National  ...    NaN  Less than $15,000   NaN\n",
              "\n",
              "[4 rows x 14 columns]"
            ]
          },
          "metadata": {},
          "execution_count": 46
        }
      ]
    },
    {
      "cell_type": "markdown",
      "source": [
        "## 4.2 Select data for analysis"
      ],
      "metadata": {
        "id": "9jCovFn71uVf"
      }
    },
    {
      "cell_type": "code",
      "source": [
        "df.columns  #Checking all the column names"
      ],
      "metadata": {
        "colab": {
          "base_uri": "https://localhost:8080/"
        },
        "id": "CICZoTw_2Wcw",
        "outputId": "1a6d8873-d043-438c-b0ca-9944015851ee"
      },
      "execution_count": null,
      "outputs": [
        {
          "output_type": "execute_result",
          "data": {
            "text/plain": [
              "Index(['Year', 'LocationAbbr', 'LocationDesc', 'Question', 'Category',\n",
              "       'Percentage', 'LCL', 'HCL', 'Sample_Size', 'Age', 'Education', 'Gender',\n",
              "       'Income', 'Race'],\n",
              "      dtype='object')"
            ]
          },
          "metadata": {},
          "execution_count": 47
        }
      ]
    },
    {
      "cell_type": "code",
      "source": [
        "df['Race'].value_counts()  #Checking differnt race counts"
      ],
      "metadata": {
        "colab": {
          "base_uri": "https://localhost:8080/"
        },
        "id": "fpANwnvs2YcQ",
        "outputId": "a6ffcbb6-666c-4908-f773-c53b8c8860c5"
      },
      "execution_count": null,
      "outputs": [
        {
          "output_type": "execute_result",
          "data": {
            "text/plain": [
              "Non-Hispanic White               2680\n",
              "Hispanic                         2616\n",
              "2 or more races                  2489\n",
              "Non-Hispanic Black               2157\n",
              "American Indian/Alaska Native    1814\n",
              "Asian                            1739\n",
              "Other                             862\n",
              "Hawaiian/Pacific Islander         170\n",
              "Name: Race, dtype: int64"
            ]
          },
          "metadata": {},
          "execution_count": 48
        }
      ]
    },
    {
      "cell_type": "code",
      "source": [
        "df['Race'].isnull().sum()  # Checking null values of the column Race"
      ],
      "metadata": {
        "colab": {
          "base_uri": "https://localhost:8080/"
        },
        "id": "KmGt3GvE2bpE",
        "outputId": "27069d06-eae1-4e92-efc6-909a37701e89"
      },
      "execution_count": null,
      "outputs": [
        {
          "output_type": "execute_result",
          "data": {
            "text/plain": [
              "54320"
            ]
          },
          "metadata": {},
          "execution_count": 49
        }
      ]
    },
    {
      "cell_type": "code",
      "source": [
        "df.dropna(subset=['Race'],inplace=True) #Dropping the null values"
      ],
      "metadata": {
        "id": "R-m4qvq42eIs"
      },
      "execution_count": null,
      "outputs": []
    },
    {
      "cell_type": "code",
      "source": [
        "df['Race'].isnull().sum() # Checking again the null values after removing nulls"
      ],
      "metadata": {
        "colab": {
          "base_uri": "https://localhost:8080/"
        },
        "id": "O7cCvjCS2hXm",
        "outputId": "58999ca8-1630-4b44-fd00-0a18448f8fda"
      },
      "execution_count": null,
      "outputs": [
        {
          "output_type": "execute_result",
          "data": {
            "text/plain": [
              "0"
            ]
          },
          "metadata": {},
          "execution_count": 51
        }
      ]
    },
    {
      "cell_type": "code",
      "source": [
        "df_Obesity = df[df['Question']=='% of 18+ are obese']  #Making a subset of the data based on the obesity question\n",
        "df_Obesity.head(5)"
      ],
      "metadata": {
        "colab": {
          "base_uri": "https://localhost:8080/",
          "height": 206
        },
        "id": "C5L8Rq4o2joR",
        "outputId": "fcc5e40a-8edc-46a9-c4ac-4950bcd5b707"
      },
      "execution_count": null,
      "outputs": [
        {
          "output_type": "execute_result",
          "data": {
            "text/html": [
              "<div>\n",
              "<style scoped>\n",
              "    .dataframe tbody tr th:only-of-type {\n",
              "        vertical-align: middle;\n",
              "    }\n",
              "\n",
              "    .dataframe tbody tr th {\n",
              "        vertical-align: top;\n",
              "    }\n",
              "\n",
              "    .dataframe thead th {\n",
              "        text-align: right;\n",
              "    }\n",
              "</style>\n",
              "<table border=\"1\" class=\"dataframe\">\n",
              "  <thead>\n",
              "    <tr style=\"text-align: right;\">\n",
              "      <th></th>\n",
              "      <th>Year</th>\n",
              "      <th>LocationAbbr</th>\n",
              "      <th>LocationDesc</th>\n",
              "      <th>Question</th>\n",
              "      <th>Category</th>\n",
              "      <th>Percentage</th>\n",
              "      <th>LCL</th>\n",
              "      <th>HCL</th>\n",
              "      <th>Sample_Size</th>\n",
              "      <th>Age</th>\n",
              "      <th>Education</th>\n",
              "      <th>Gender</th>\n",
              "      <th>Income</th>\n",
              "      <th>Race</th>\n",
              "    </tr>\n",
              "  </thead>\n",
              "  <tbody>\n",
              "    <tr>\n",
              "      <th>11</th>\n",
              "      <td>2011</td>\n",
              "      <td>US</td>\n",
              "      <td>National</td>\n",
              "      <td>% of 18+ are obese</td>\n",
              "      <td>Obesity</td>\n",
              "      <td>35.4</td>\n",
              "      <td>33.0</td>\n",
              "      <td>37.9</td>\n",
              "      <td>6649</td>\n",
              "      <td>NaN</td>\n",
              "      <td>NaN</td>\n",
              "      <td>NaN</td>\n",
              "      <td>NaN</td>\n",
              "      <td>American Indian/Alaska Native</td>\n",
              "    </tr>\n",
              "    <tr>\n",
              "      <th>16</th>\n",
              "      <td>2011</td>\n",
              "      <td>RI</td>\n",
              "      <td>Rhode Island</td>\n",
              "      <td>% of 18+ are obese</td>\n",
              "      <td>Obesity</td>\n",
              "      <td>32.1</td>\n",
              "      <td>21.6</td>\n",
              "      <td>44.8</td>\n",
              "      <td>109</td>\n",
              "      <td>NaN</td>\n",
              "      <td>NaN</td>\n",
              "      <td>NaN</td>\n",
              "      <td>NaN</td>\n",
              "      <td>Other</td>\n",
              "    </tr>\n",
              "    <tr>\n",
              "      <th>26</th>\n",
              "      <td>2013</td>\n",
              "      <td>US</td>\n",
              "      <td>National</td>\n",
              "      <td>% of 18+ are obese</td>\n",
              "      <td>Obesity</td>\n",
              "      <td>31.5</td>\n",
              "      <td>30.5</td>\n",
              "      <td>32.5</td>\n",
              "      <td>27737</td>\n",
              "      <td>NaN</td>\n",
              "      <td>NaN</td>\n",
              "      <td>NaN</td>\n",
              "      <td>NaN</td>\n",
              "      <td>Hispanic</td>\n",
              "    </tr>\n",
              "    <tr>\n",
              "      <th>42</th>\n",
              "      <td>2016</td>\n",
              "      <td>WA</td>\n",
              "      <td>Washington</td>\n",
              "      <td>% of 18+ are obese</td>\n",
              "      <td>Obesity</td>\n",
              "      <td>29.1</td>\n",
              "      <td>28.0</td>\n",
              "      <td>30.2</td>\n",
              "      <td>10788</td>\n",
              "      <td>NaN</td>\n",
              "      <td>NaN</td>\n",
              "      <td>NaN</td>\n",
              "      <td>NaN</td>\n",
              "      <td>Non-Hispanic White</td>\n",
              "    </tr>\n",
              "    <tr>\n",
              "      <th>95</th>\n",
              "      <td>2016</td>\n",
              "      <td>KS</td>\n",
              "      <td>Kansas</td>\n",
              "      <td>% of 18+ are obese</td>\n",
              "      <td>Obesity</td>\n",
              "      <td>30.5</td>\n",
              "      <td>29.4</td>\n",
              "      <td>31.7</td>\n",
              "      <td>9541</td>\n",
              "      <td>NaN</td>\n",
              "      <td>NaN</td>\n",
              "      <td>NaN</td>\n",
              "      <td>NaN</td>\n",
              "      <td>Non-Hispanic White</td>\n",
              "    </tr>\n",
              "  </tbody>\n",
              "</table>\n",
              "</div>"
            ],
            "text/plain": [
              "    Year LocationAbbr  ... Income                           Race\n",
              "11  2011           US  ...    NaN  American Indian/Alaska Native\n",
              "16  2011           RI  ...    NaN                          Other\n",
              "26  2013           US  ...    NaN                       Hispanic\n",
              "42  2016           WA  ...    NaN             Non-Hispanic White\n",
              "95  2016           KS  ...    NaN             Non-Hispanic White\n",
              "\n",
              "[5 rows x 14 columns]"
            ]
          },
          "metadata": {},
          "execution_count": 52
        }
      ]
    },
    {
      "cell_type": "code",
      "source": [
        "df_Overweight = df[df['Question']=='% of 18+ are overweight'] #Making a subset of the data based on the overweight question\n",
        "df_Overweight.head(5)"
      ],
      "metadata": {
        "colab": {
          "base_uri": "https://localhost:8080/",
          "height": 206
        },
        "id": "_Yy47mBB2ppn",
        "outputId": "4b0550b4-e373-45ba-aa9a-5feed895d073"
      },
      "execution_count": null,
      "outputs": [
        {
          "output_type": "execute_result",
          "data": {
            "text/html": [
              "<div>\n",
              "<style scoped>\n",
              "    .dataframe tbody tr th:only-of-type {\n",
              "        vertical-align: middle;\n",
              "    }\n",
              "\n",
              "    .dataframe tbody tr th {\n",
              "        vertical-align: top;\n",
              "    }\n",
              "\n",
              "    .dataframe thead th {\n",
              "        text-align: right;\n",
              "    }\n",
              "</style>\n",
              "<table border=\"1\" class=\"dataframe\">\n",
              "  <thead>\n",
              "    <tr style=\"text-align: right;\">\n",
              "      <th></th>\n",
              "      <th>Year</th>\n",
              "      <th>LocationAbbr</th>\n",
              "      <th>LocationDesc</th>\n",
              "      <th>Question</th>\n",
              "      <th>Category</th>\n",
              "      <th>Percentage</th>\n",
              "      <th>LCL</th>\n",
              "      <th>HCL</th>\n",
              "      <th>Sample_Size</th>\n",
              "      <th>Age</th>\n",
              "      <th>Education</th>\n",
              "      <th>Gender</th>\n",
              "      <th>Income</th>\n",
              "      <th>Race</th>\n",
              "    </tr>\n",
              "  </thead>\n",
              "  <tbody>\n",
              "    <tr>\n",
              "      <th>5</th>\n",
              "      <td>2012</td>\n",
              "      <td>WY</td>\n",
              "      <td>Wyoming</td>\n",
              "      <td>% of 18+ are overweight</td>\n",
              "      <td>Obesity</td>\n",
              "      <td>48.5</td>\n",
              "      <td>32.3</td>\n",
              "      <td>64.9</td>\n",
              "      <td>69</td>\n",
              "      <td>NaN</td>\n",
              "      <td>NaN</td>\n",
              "      <td>NaN</td>\n",
              "      <td>NaN</td>\n",
              "      <td>American Indian/Alaska Native</td>\n",
              "    </tr>\n",
              "    <tr>\n",
              "      <th>10</th>\n",
              "      <td>2015</td>\n",
              "      <td>RI</td>\n",
              "      <td>Rhode Island</td>\n",
              "      <td>% of 18+ are overweight</td>\n",
              "      <td>Obesity</td>\n",
              "      <td>40.2</td>\n",
              "      <td>33.3</td>\n",
              "      <td>47.4</td>\n",
              "      <td>354</td>\n",
              "      <td>NaN</td>\n",
              "      <td>NaN</td>\n",
              "      <td>NaN</td>\n",
              "      <td>NaN</td>\n",
              "      <td>Hispanic</td>\n",
              "    </tr>\n",
              "    <tr>\n",
              "      <th>44</th>\n",
              "      <td>2016</td>\n",
              "      <td>DE</td>\n",
              "      <td>Delaware</td>\n",
              "      <td>% of 18+ are overweight</td>\n",
              "      <td>Obesity</td>\n",
              "      <td>38.5</td>\n",
              "      <td>36.0</td>\n",
              "      <td>41.1</td>\n",
              "      <td>2645</td>\n",
              "      <td>NaN</td>\n",
              "      <td>NaN</td>\n",
              "      <td>NaN</td>\n",
              "      <td>NaN</td>\n",
              "      <td>Non-Hispanic White</td>\n",
              "    </tr>\n",
              "    <tr>\n",
              "      <th>67</th>\n",
              "      <td>2013</td>\n",
              "      <td>US</td>\n",
              "      <td>National</td>\n",
              "      <td>% of 18+ are overweight</td>\n",
              "      <td>Obesity</td>\n",
              "      <td>33.2</td>\n",
              "      <td>30.8</td>\n",
              "      <td>35.7</td>\n",
              "      <td>7291</td>\n",
              "      <td>NaN</td>\n",
              "      <td>NaN</td>\n",
              "      <td>NaN</td>\n",
              "      <td>NaN</td>\n",
              "      <td>American Indian/Alaska Native</td>\n",
              "    </tr>\n",
              "    <tr>\n",
              "      <th>108</th>\n",
              "      <td>2013</td>\n",
              "      <td>US</td>\n",
              "      <td>National</td>\n",
              "      <td>% of 18+ are overweight</td>\n",
              "      <td>Obesity</td>\n",
              "      <td>36.6</td>\n",
              "      <td>32.8</td>\n",
              "      <td>40.6</td>\n",
              "      <td>2446</td>\n",
              "      <td>NaN</td>\n",
              "      <td>NaN</td>\n",
              "      <td>NaN</td>\n",
              "      <td>NaN</td>\n",
              "      <td>Other</td>\n",
              "    </tr>\n",
              "  </tbody>\n",
              "</table>\n",
              "</div>"
            ],
            "text/plain": [
              "     Year LocationAbbr  ... Income                           Race\n",
              "5    2012           WY  ...    NaN  American Indian/Alaska Native\n",
              "10   2015           RI  ...    NaN                       Hispanic\n",
              "44   2016           DE  ...    NaN             Non-Hispanic White\n",
              "67   2013           US  ...    NaN  American Indian/Alaska Native\n",
              "108  2013           US  ...    NaN                          Other\n",
              "\n",
              "[5 rows x 14 columns]"
            ]
          },
          "metadata": {},
          "execution_count": 53
        }
      ]
    },
    {
      "cell_type": "code",
      "source": [
        "Obesity_Percentage_Race=df_Obesity.groupby('Race').mean().sort_values(\"Percentage\", ascending=False)['Percentage'].round(1)\n",
        "Obesity_Percentage_Race  #Sorted Obesity mean value"
      ],
      "metadata": {
        "colab": {
          "base_uri": "https://localhost:8080/"
        },
        "id": "l_nj6CoA2u-i",
        "outputId": "2ace8709-1ef9-4648-deac-e44a16cbdc84"
      },
      "execution_count": null,
      "outputs": [
        {
          "output_type": "execute_result",
          "data": {
            "text/plain": [
              "Race\n",
              "Hawaiian/Pacific Islander        38.4\n",
              "Non-Hispanic Black               37.8\n",
              "American Indian/Alaska Native    36.5\n",
              "2 or more races                  31.7\n",
              "Hispanic                         31.3\n",
              "Non-Hispanic White               28.1\n",
              "Other                            26.4\n",
              "Asian                            10.5\n",
              "Name: Percentage, dtype: float64"
            ]
          },
          "metadata": {},
          "execution_count": 54
        }
      ]
    },
    {
      "cell_type": "markdown",
      "source": [
        "## 4.3 Examine data"
      ],
      "metadata": {
        "id": "BP9dKC8s2yB8"
      }
    },
    {
      "cell_type": "code",
      "source": [
        "# Barplot of the above Obesity mean values\n",
        "plt.style.use('ggplot')\n",
        "plt.figure(figsize=(12,8))\n",
        "Obesity_Percentage_Race.plot(kind='bar');\n",
        "plt.ylabel('Obesity Percentage');\n",
        "plt.xlabel('Race');\n",
        "plt.title('Obesity Rate vs. Race')"
      ],
      "metadata": {
        "colab": {
          "base_uri": "https://localhost:8080/",
          "height": 678
        },
        "id": "n4JTARss22eA",
        "outputId": "d571a088-3928-4513-b55e-1da792a3267e"
      },
      "execution_count": null,
      "outputs": [
        {
          "output_type": "execute_result",
          "data": {
            "text/plain": [
              "Text(0.5, 1.0, 'Obesity Rate vs. Race')"
            ]
          },
          "metadata": {},
          "execution_count": 55
        },
        {
          "output_type": "display_data",
          "data": {
            "image/png": "[encoded data removed]",
            "text/plain": [
              "<Figure size 864x576 with 1 Axes>"
            ]
          },
          "metadata": {}
        }
      ]
    },
    {
      "cell_type": "code",
      "source": [
        "Overweight_Percentage_Race=df_Overweight.groupby('Race').mean().sort_values(\"Percentage\", ascending=False)['Percentage'].round(1)\n",
        "Overweight_Percentage_Race #Sorted Overweight Count for diffrent races"
      ],
      "metadata": {
        "colab": {
          "base_uri": "https://localhost:8080/"
        },
        "id": "_T9AuGDF2_zO",
        "outputId": "5adeb7d7-fd2c-4b0d-b762-e1bd221183aa"
      },
      "execution_count": null,
      "outputs": [
        {
          "output_type": "execute_result",
          "data": {
            "text/plain": [
              "Race\n",
              "Hispanic                         36.6\n",
              "Other                            35.8\n",
              "Non-Hispanic White               35.6\n",
              "Non-Hispanic Black               33.9\n",
              "American Indian/Alaska Native    33.1\n",
              "2 or more races                  32.4\n",
              "Hawaiian/Pacific Islander        31.5\n",
              "Asian                            30.6\n",
              "Name: Percentage, dtype: float64"
            ]
          },
          "metadata": {},
          "execution_count": 56
        }
      ]
    },
    {
      "cell_type": "code",
      "source": [
        "# Barplot of the above Overweight mean values\n",
        "plt.style.use('seaborn-bright')\n",
        "plt.figure(figsize=(12,8))\n",
        "Overweight_Percentage_Race.plot(kind='bar');\n",
        "plt.ylabel('Overweight Percentage');\n",
        "plt.xlabel('Race');\n",
        "plt.title('Overweight Rate vs. Race')"
      ],
      "metadata": {
        "colab": {
          "base_uri": "https://localhost:8080/",
          "height": 678
        },
        "id": "vf8kDnjr3BhO",
        "outputId": "da660e54-dd66-4b16-c7fa-250f9155a089"
      },
      "execution_count": null,
      "outputs": [
        {
          "output_type": "execute_result",
          "data": {
            "text/plain": [
              "Text(0.5, 1.0, 'Overweight Rate vs. Race')"
            ]
          },
          "metadata": {},
          "execution_count": 57
        },
        {
          "output_type": "display_data",
          "data": {
            "image/png": "[encoded data removed]",
            "text/plain": [
              "<Figure size 864x576 with 1 Axes>"
            ]
          },
          "metadata": {}
        }
      ]
    },
    {
      "cell_type": "markdown",
      "source": [
        "### 4.3.1 Summary\n",
        "From the above two bar chart, we notice that in terms of Obesity the Hawaiian/Pacific Islander has the most Obesity trends. But in terms of Overweight The Hispanic shows a higher trend. In both cases Asians has a lower percentage trend."
      ],
      "metadata": {
        "id": "GSM8GO_n3Fir"
      }
    },
    {
      "cell_type": "markdown",
      "source": [
        "## 4.4 ANOVA Analysis"
      ],
      "metadata": {
        "id": "15hN0IV73HED"
      }
    },
    {
      "cell_type": "code",
      "source": [
        "Obesity_Year_Race = pd.crosstab(df_Obesity['Race'], df_Obesity['Year'], df_Obesity['Percentage'], aggfunc='mean').round(1)\n",
        "Obesity_Year_Race   # generating the year specific mean values for Obesity"
      ],
      "metadata": {
        "colab": {
          "base_uri": "https://localhost:8080/",
          "height": 331
        },
        "id": "6yBdDhtY3WXD",
        "outputId": "dcdf1567-29eb-4a05-cff4-14074984f14f"
      },
      "execution_count": null,
      "outputs": [
        {
          "output_type": "execute_result",
          "data": {
            "text/html": [
              "<div>\n",
              "<style scoped>\n",
              "    .dataframe tbody tr th:only-of-type {\n",
              "        vertical-align: middle;\n",
              "    }\n",
              "\n",
              "    .dataframe tbody tr th {\n",
              "        vertical-align: top;\n",
              "    }\n",
              "\n",
              "    .dataframe thead th {\n",
              "        text-align: right;\n",
              "    }\n",
              "</style>\n",
              "<table border=\"1\" class=\"dataframe\">\n",
              "  <thead>\n",
              "    <tr style=\"text-align: right;\">\n",
              "      <th>Year</th>\n",
              "      <th>2011</th>\n",
              "      <th>2012</th>\n",
              "      <th>2013</th>\n",
              "      <th>2014</th>\n",
              "      <th>2015</th>\n",
              "      <th>2016</th>\n",
              "      <th>2017</th>\n",
              "      <th>2018</th>\n",
              "      <th>2019</th>\n",
              "    </tr>\n",
              "    <tr>\n",
              "      <th>Race</th>\n",
              "      <th></th>\n",
              "      <th></th>\n",
              "      <th></th>\n",
              "      <th></th>\n",
              "      <th></th>\n",
              "      <th></th>\n",
              "      <th></th>\n",
              "      <th></th>\n",
              "      <th></th>\n",
              "    </tr>\n",
              "  </thead>\n",
              "  <tbody>\n",
              "    <tr>\n",
              "      <th>2 or more races</th>\n",
              "      <td>30.4</td>\n",
              "      <td>29.5</td>\n",
              "      <td>31.0</td>\n",
              "      <td>31.7</td>\n",
              "      <td>29.9</td>\n",
              "      <td>32.4</td>\n",
              "      <td>32.6</td>\n",
              "      <td>33.5</td>\n",
              "      <td>33.8</td>\n",
              "    </tr>\n",
              "    <tr>\n",
              "      <th>American Indian/Alaska Native</th>\n",
              "      <td>36.4</td>\n",
              "      <td>33.7</td>\n",
              "      <td>34.8</td>\n",
              "      <td>36.5</td>\n",
              "      <td>35.3</td>\n",
              "      <td>38.5</td>\n",
              "      <td>37.6</td>\n",
              "      <td>38.7</td>\n",
              "      <td>37.3</td>\n",
              "    </tr>\n",
              "    <tr>\n",
              "      <th>Asian</th>\n",
              "      <td>8.0</td>\n",
              "      <td>8.9</td>\n",
              "      <td>10.1</td>\n",
              "      <td>10.0</td>\n",
              "      <td>10.3</td>\n",
              "      <td>9.6</td>\n",
              "      <td>12.5</td>\n",
              "      <td>12.7</td>\n",
              "      <td>12.0</td>\n",
              "    </tr>\n",
              "    <tr>\n",
              "      <th>Hawaiian/Pacific Islander</th>\n",
              "      <td>31.2</td>\n",
              "      <td>33.1</td>\n",
              "      <td>36.2</td>\n",
              "      <td>40.3</td>\n",
              "      <td>43.0</td>\n",
              "      <td>36.4</td>\n",
              "      <td>39.9</td>\n",
              "      <td>38.4</td>\n",
              "      <td>46.9</td>\n",
              "    </tr>\n",
              "    <tr>\n",
              "      <th>Hispanic</th>\n",
              "      <td>28.7</td>\n",
              "      <td>29.6</td>\n",
              "      <td>30.9</td>\n",
              "      <td>31.2</td>\n",
              "      <td>30.3</td>\n",
              "      <td>31.3</td>\n",
              "      <td>32.1</td>\n",
              "      <td>32.9</td>\n",
              "      <td>34.3</td>\n",
              "    </tr>\n",
              "    <tr>\n",
              "      <th>Non-Hispanic Black</th>\n",
              "      <td>35.7</td>\n",
              "      <td>36.9</td>\n",
              "      <td>37.7</td>\n",
              "      <td>38.3</td>\n",
              "      <td>37.1</td>\n",
              "      <td>37.3</td>\n",
              "      <td>37.8</td>\n",
              "      <td>39.1</td>\n",
              "      <td>39.9</td>\n",
              "    </tr>\n",
              "    <tr>\n",
              "      <th>Non-Hispanic White</th>\n",
              "      <td>26.1</td>\n",
              "      <td>26.4</td>\n",
              "      <td>27.1</td>\n",
              "      <td>27.5</td>\n",
              "      <td>27.9</td>\n",
              "      <td>28.3</td>\n",
              "      <td>29.3</td>\n",
              "      <td>29.8</td>\n",
              "      <td>30.3</td>\n",
              "    </tr>\n",
              "    <tr>\n",
              "      <th>Other</th>\n",
              "      <td>25.1</td>\n",
              "      <td>24.8</td>\n",
              "      <td>25.6</td>\n",
              "      <td>25.6</td>\n",
              "      <td>24.3</td>\n",
              "      <td>27.2</td>\n",
              "      <td>25.7</td>\n",
              "      <td>30.7</td>\n",
              "      <td>29.2</td>\n",
              "    </tr>\n",
              "  </tbody>\n",
              "</table>\n",
              "</div>"
            ],
            "text/plain": [
              "Year                           2011  2012  2013  2014  ...  2016  2017  2018  2019\n",
              "Race                                                   ...                        \n",
              "2 or more races                30.4  29.5  31.0  31.7  ...  32.4  32.6  33.5  33.8\n",
              "American Indian/Alaska Native  36.4  33.7  34.8  36.5  ...  38.5  37.6  38.7  37.3\n",
              "Asian                           8.0   8.9  10.1  10.0  ...   9.6  12.5  12.7  12.0\n",
              "Hawaiian/Pacific Islander      31.2  33.1  36.2  40.3  ...  36.4  39.9  38.4  46.9\n",
              "Hispanic                       28.7  29.6  30.9  31.2  ...  31.3  32.1  32.9  34.3\n",
              "Non-Hispanic Black             35.7  36.9  37.7  38.3  ...  37.3  37.8  39.1  39.9\n",
              "Non-Hispanic White             26.1  26.4  27.1  27.5  ...  28.3  29.3  29.8  30.3\n",
              "Other                          25.1  24.8  25.6  25.6  ...  27.2  25.7  30.7  29.2\n",
              "\n",
              "[8 rows x 9 columns]"
            ]
          },
          "metadata": {},
          "execution_count": 58
        }
      ]
    },
    {
      "cell_type": "markdown",
      "source": [
        "The above table is showing the mean value of different years for different races. We have the below observations from the result found on the table above\n",
        "\n",
        "*  Overall Hawaiian/Pacific Islander people has a general trend of Obesity as they have a higher mean value over the years. In 2019 it is higher than the others.\n",
        "\n",
        "*   On the contrary, Asian people has a trend of less obesity percentages. Over the years the mean values are less than the other Race categories.\n",
        "\n",
        "*   Non-Hispanic Black and Non-Hispanic White shows the opposite trend to each other. Non-Hispanic Black has a trend of obesity whereas Non-Hispanic White shows lower trend in terms of Obesity."
      ],
      "metadata": {
        "id": "coISyeny4IkF"
      }
    },
    {
      "cell_type": "code",
      "source": [
        "df_Obesity_2019 = df_Obesity[df_Obesity['Year']== 2019]\n",
        "\n",
        "# Identification of different group - Bonferroni method\n",
        "comparisons = mc.MultiComparison(df_Obesity_2019['Percentage'], df_Obesity_2019['Race'])\n",
        "table, arr1, arr2 = comparisons.allpairtest(st.ttest_ind,  method='bonf')\n",
        "\n",
        "print(table)\n",
        "print(df_Obesity['Race'].unique())"
      ],
      "metadata": {
        "colab": {
          "base_uri": "https://localhost:8080/"
        },
        "id": "SPBYDJNodqL3",
        "outputId": "9b002d99-4a1e-4913-b0a8-6883cad985c2"
      },
      "execution_count": null,
      "outputs": [
        {
          "output_type": "stream",
          "name": "stdout",
          "text": [
            "Test Multiple Comparison ttest_ind \n",
            "FWER=0.05 method=bonf\n",
            "alphacSidak=0.00, alphacBonf=0.002\n",
            "============================================================================================\n",
            "            group1                        group2              stat    pval  pval_corr reject\n",
            "--------------------------------------------------------------------------------------------\n",
            "              2 or more races American Indian/Alaska Native  -1.8545 0.0672       1.0  False\n",
            "              2 or more races                         Asian  14.4012    0.0       0.0   True\n",
            "              2 or more races     Hawaiian/Pacific Islander  -2.8768 0.0059     0.165  False\n",
            "              2 or more races                      Hispanic  -0.3616 0.7185       1.0  False\n",
            "              2 or more races            Non-Hispanic Black  -3.9946 0.0001    0.0037   True\n",
            "              2 or more races            Non-Hispanic White   2.7411 0.0073    0.2035  False\n",
            "              2 or more races                         Other      2.1 0.0397       1.0  False\n",
            "American Indian/Alaska Native                         Asian  13.3902    0.0       0.0   True\n",
            "American Indian/Alaska Native     Hawaiian/Pacific Islander  -1.6518  0.107       1.0  False\n",
            "American Indian/Alaska Native                      Hispanic    1.764 0.0813       1.0  False\n",
            "American Indian/Alaska Native            Non-Hispanic Black  -1.3655 0.1761       1.0  False\n",
            "American Indian/Alaska Native            Non-Hispanic White   4.4447    0.0    0.0007   True\n",
            "American Indian/Alaska Native                         Other   2.9864 0.0043    0.1212  False\n",
            "                        Asian     Hawaiian/Pacific Islander -13.1082    0.0       0.0   True\n",
            "                        Asian                      Hispanic  -17.708    0.0       0.0   True\n",
            "                        Asian            Non-Hispanic Black -20.3052    0.0       0.0   True\n",
            "                        Asian            Non-Hispanic White -17.2124    0.0       0.0   True\n",
            "                        Asian                         Other  -9.8415    0.0       0.0   True\n",
            "    Hawaiian/Pacific Islander                      Hispanic    3.454 0.0011     0.031   True\n",
            "    Hawaiian/Pacific Islander            Non-Hispanic Black   1.7544 0.0863       1.0  False\n",
            "    Hawaiian/Pacific Islander            Non-Hispanic White   5.7285    0.0       0.0   True\n",
            "    Hawaiian/Pacific Islander                         Other   3.7418 0.0015    0.0418   True\n",
            "                     Hispanic            Non-Hispanic Black  -4.1847 0.0001    0.0018   True\n",
            "                     Hispanic            Non-Hispanic White   3.6617 0.0004    0.0112   True\n",
            "                     Hispanic                         Other   2.7492 0.0077    0.2156  False\n",
            "           Non-Hispanic Black            Non-Hispanic White   8.0259    0.0       0.0   True\n",
            "           Non-Hispanic Black                         Other   5.2765    0.0    0.0001   True\n",
            "           Non-Hispanic White                         Other   0.6744 0.5024       1.0  False\n",
            "--------------------------------------------------------------------------------------------\n",
            "['American Indian/Alaska Native' 'Other' 'Hispanic' 'Non-Hispanic White'\n",
            " '2 or more races' 'Non-Hispanic Black' 'Asian'\n",
            " 'Hawaiian/Pacific Islander']\n"
          ]
        }
      ]
    },
    {
      "cell_type": "markdown",
      "source": [
        "Based on the ANOVA analysis above we can say that the sample for the Asian race has different mean for the obesity rate than the other races, and as we saw from the bar chart it is the smallest."
      ],
      "metadata": {
        "id": "bFW5s5SqBxyB"
      }
    },
    {
      "cell_type": "code",
      "source": [
        "rcParams['figure.figsize'] = 12,6\n",
        "\n",
        "df_Obesity_2019_m = df_Obesity_2019[['Race','Percentage']].groupby(['Race'], as_index=False).median().sort_values(['Percentage'])\n",
        "\n",
        "Y2019=sns.boxplot(x=\"Race\", y=\"Percentage\", data=df_Obesity_2019, order=df_Obesity_2019_m.Race)\n",
        "Y2019.set_xticklabels(Y2019.get_xticklabels(),rotation = 30)\n",
        "Y2019.set_title('2019')\n",
        "plt.show()"
      ],
      "metadata": {
        "colab": {
          "base_uri": "https://localhost:8080/",
          "height": 483
        },
        "id": "FyNWQgwhGIJV",
        "outputId": "b7d77864-0a6f-4095-fc54-78160fd3cc66"
      },
      "execution_count": null,
      "outputs": [
        {
          "output_type": "display_data",
          "data": {
            "image/png": "[encoded data removed]",
            "text/plain": [
              "<Figure size 864x432 with 1 Axes>"
            ]
          },
          "metadata": {}
        }
      ]
    },
    {
      "cell_type": "markdown",
      "source": [
        "# 5.0 Physical Activity vs Obesity\n",
        "---\n",
        "With this analysis we want to see if there is a relationship between No Physical activity and Obesity levels at each state\n"
      ],
      "metadata": {
        "id": "bEXz8Vhk4ySF"
      }
    },
    {
      "cell_type": "markdown",
      "source": [
        "## 5.1 Read Processed Data"
      ],
      "metadata": {
        "id": "oExkhrmf5Yqx"
      }
    },
    {
      "cell_type": "code",
      "source": [
        "df = readProcessedData()\n",
        "\n",
        "df.info()"
      ],
      "metadata": {
        "colab": {
          "base_uri": "https://localhost:8080/"
        },
        "id": "jbCB35Ej5Dey",
        "outputId": "07c5ed6a-6efc-4c94-c719-abaabf02bb38"
      },
      "execution_count": null,
      "outputs": [
        {
          "output_type": "stream",
          "name": "stdout",
          "text": [
            "<class 'pandas.core.frame.DataFrame'>\n",
            "Int64Index: 68847 entries, 0 to 76392\n",
            "Data columns (total 14 columns):\n",
            " #   Column        Non-Null Count  Dtype  \n",
            "---  ------        --------------  -----  \n",
            " 0   Year          68847 non-null  int64  \n",
            " 1   LocationAbbr  68847 non-null  object \n",
            " 2   LocationDesc  68847 non-null  object \n",
            " 3   Question      68847 non-null  object \n",
            " 4   Category      68847 non-null  object \n",
            " 5   Percentage    68847 non-null  float64\n",
            " 6   LCL           68847 non-null  float64\n",
            " 7   HCL           68847 non-null  float64\n",
            " 8   Sample_Size   68847 non-null  int64  \n",
            " 9   Age           16296 non-null  object \n",
            " 10  Education     10864 non-null  object \n",
            " 11  Gender        5432 non-null   object \n",
            " 12  Income        19012 non-null  object \n",
            " 13  Race          14527 non-null  object \n",
            "dtypes: float64(3), int64(2), object(9)\n",
            "memory usage: 7.9+ MB\n"
          ]
        }
      ]
    },
    {
      "cell_type": "code",
      "source": [
        "df.head(4)"
      ],
      "metadata": {
        "colab": {
          "base_uri": "https://localhost:8080/",
          "height": 175
        },
        "id": "XV30azLO5dB7",
        "outputId": "949e6a5c-3e43-4f2d-8f33-aaf2e79e9fa2"
      },
      "execution_count": null,
      "outputs": [
        {
          "output_type": "execute_result",
          "data": {
            "text/html": [
              "<div>\n",
              "<style scoped>\n",
              "    .dataframe tbody tr th:only-of-type {\n",
              "        vertical-align: middle;\n",
              "    }\n",
              "\n",
              "    .dataframe tbody tr th {\n",
              "        vertical-align: top;\n",
              "    }\n",
              "\n",
              "    .dataframe thead th {\n",
              "        text-align: right;\n",
              "    }\n",
              "</style>\n",
              "<table border=\"1\" class=\"dataframe\">\n",
              "  <thead>\n",
              "    <tr style=\"text-align: right;\">\n",
              "      <th></th>\n",
              "      <th>Year</th>\n",
              "      <th>LocationAbbr</th>\n",
              "      <th>LocationDesc</th>\n",
              "      <th>Question</th>\n",
              "      <th>Category</th>\n",
              "      <th>Percentage</th>\n",
              "      <th>LCL</th>\n",
              "      <th>HCL</th>\n",
              "      <th>Sample_Size</th>\n",
              "      <th>Age</th>\n",
              "      <th>Education</th>\n",
              "      <th>Gender</th>\n",
              "      <th>Income</th>\n",
              "      <th>Race</th>\n",
              "    </tr>\n",
              "  </thead>\n",
              "  <tbody>\n",
              "    <tr>\n",
              "      <th>0</th>\n",
              "      <td>2014</td>\n",
              "      <td>GU</td>\n",
              "      <td>Guam</td>\n",
              "      <td>% of 18+ are obese</td>\n",
              "      <td>Obesity</td>\n",
              "      <td>29.3</td>\n",
              "      <td>25.7</td>\n",
              "      <td>33.3</td>\n",
              "      <td>842</td>\n",
              "      <td>NaN</td>\n",
              "      <td>High school graduate</td>\n",
              "      <td>NaN</td>\n",
              "      <td>NaN</td>\n",
              "      <td>NaN</td>\n",
              "    </tr>\n",
              "    <tr>\n",
              "      <th>1</th>\n",
              "      <td>2013</td>\n",
              "      <td>US</td>\n",
              "      <td>National</td>\n",
              "      <td>% of 18+ are obese</td>\n",
              "      <td>Obesity</td>\n",
              "      <td>28.8</td>\n",
              "      <td>28.1</td>\n",
              "      <td>29.5</td>\n",
              "      <td>62562</td>\n",
              "      <td>NaN</td>\n",
              "      <td>NaN</td>\n",
              "      <td>NaN</td>\n",
              "      <td>$50,000 - $74,999</td>\n",
              "      <td>NaN</td>\n",
              "    </tr>\n",
              "    <tr>\n",
              "      <th>2</th>\n",
              "      <td>2013</td>\n",
              "      <td>US</td>\n",
              "      <td>National</td>\n",
              "      <td>% of 18+ are overweight</td>\n",
              "      <td>Obesity</td>\n",
              "      <td>32.7</td>\n",
              "      <td>31.9</td>\n",
              "      <td>33.5</td>\n",
              "      <td>60069</td>\n",
              "      <td>NaN</td>\n",
              "      <td>NaN</td>\n",
              "      <td>NaN</td>\n",
              "      <td>Data not reported</td>\n",
              "      <td>NaN</td>\n",
              "    </tr>\n",
              "    <tr>\n",
              "      <th>3</th>\n",
              "      <td>2015</td>\n",
              "      <td>US</td>\n",
              "      <td>National</td>\n",
              "      <td>High aero per week</td>\n",
              "      <td>Activity</td>\n",
              "      <td>26.6</td>\n",
              "      <td>25.6</td>\n",
              "      <td>27.6</td>\n",
              "      <td>30904</td>\n",
              "      <td>NaN</td>\n",
              "      <td>NaN</td>\n",
              "      <td>NaN</td>\n",
              "      <td>Less than $15,000</td>\n",
              "      <td>NaN</td>\n",
              "    </tr>\n",
              "  </tbody>\n",
              "</table>\n",
              "</div>"
            ],
            "text/plain": [
              "   Year LocationAbbr LocationDesc  ... Gender             Income  Race\n",
              "0  2014           GU         Guam  ...    NaN                NaN   NaN\n",
              "1  2013           US     National  ...    NaN  $50,000 - $74,999   NaN\n",
              "2  2013           US     National  ...    NaN  Data not reported   NaN\n",
              "3  2015           US     National  ...    NaN  Less than $15,000   NaN\n",
              "\n",
              "[4 rows x 14 columns]"
            ]
          },
          "metadata": {},
          "execution_count": 62
        }
      ]
    },
    {
      "cell_type": "markdown",
      "source": [
        "## 5.2 Select data for analysis"
      ],
      "metadata": {
        "id": "bt0n6l6M5pbd"
      }
    },
    {
      "cell_type": "code",
      "source": [
        "df_19 = df[df.Year == 2019]\n",
        "df_19.info()"
      ],
      "metadata": {
        "colab": {
          "base_uri": "https://localhost:8080/"
        },
        "id": "yNdjc-Hf5sRv",
        "outputId": "a351febf-462d-458d-e6fb-fbf7d32cab8f"
      },
      "execution_count": null,
      "outputs": [
        {
          "output_type": "stream",
          "name": "stdout",
          "text": [
            "<class 'pandas.core.frame.DataFrame'>\n",
            "Int64Index: 12051 entries, 63028 to 76392\n",
            "Data columns (total 14 columns):\n",
            " #   Column        Non-Null Count  Dtype  \n",
            "---  ------        --------------  -----  \n",
            " 0   Year          12051 non-null  int64  \n",
            " 1   LocationAbbr  12051 non-null  object \n",
            " 2   LocationDesc  12051 non-null  object \n",
            " 3   Question      12051 non-null  object \n",
            " 4   Category      12051 non-null  object \n",
            " 5   Percentage    12051 non-null  float64\n",
            " 6   LCL           12051 non-null  float64\n",
            " 7   HCL           12051 non-null  float64\n",
            " 8   Sample_Size   12051 non-null  int64  \n",
            " 9   Age           2862 non-null   object \n",
            " 10  Education     1908 non-null   object \n",
            " 11  Gender        954 non-null    object \n",
            " 12  Income        3339 non-null   object \n",
            " 13  Race          2511 non-null   object \n",
            "dtypes: float64(3), int64(2), object(9)\n",
            "memory usage: 1.4+ MB\n"
          ]
        }
      ]
    },
    {
      "cell_type": "code",
      "source": [
        "df_19.Question.unique()"
      ],
      "metadata": {
        "colab": {
          "base_uri": "https://localhost:8080/"
        },
        "id": "qBrsfu0353gr",
        "outputId": "d8da5a85-9ed1-4c98-cf2c-1df6ef650bee"
      },
      "execution_count": null,
      "outputs": [
        {
          "output_type": "execute_result",
          "data": {
            "text/plain": [
              "array(['% of 18+ are obese', 'Muscle 2+ days per week',\n",
              "       '% of 18+ are overweight', 'High aero per week', 'No activity',\n",
              "       'Moderate aero and muscle 2+ days per week',\n",
              "       'Moderate aero per week', 'Not consuming vegetables',\n",
              "       'Not consuming fruits'], dtype=object)"
            ]
          },
          "metadata": {},
          "execution_count": 64
        }
      ]
    },
    {
      "cell_type": "code",
      "source": [
        "df_19.LocationDesc.unique()"
      ],
      "metadata": {
        "colab": {
          "base_uri": "https://localhost:8080/"
        },
        "id": "IitsAHno54Zq",
        "outputId": "7e214755-bcd3-43e7-fd4c-301c7302c7d5"
      },
      "execution_count": null,
      "outputs": [
        {
          "output_type": "execute_result",
          "data": {
            "text/plain": [
              "array(['Iowa', 'Michigan', 'South Dakota', 'Maryland', 'New Mexico',\n",
              "       'New York', 'West Virginia', 'Guam', 'Tennessee', 'Ohio',\n",
              "       'Minnesota', 'Rhode Island', 'North Dakota', 'Arkansas', 'Oregon',\n",
              "       'Texas', 'Oklahoma', 'Washington', 'Pennsylvania', 'Colorado',\n",
              "       'South Carolina', 'Arizona', 'Kansas', 'Indiana', 'Alabama',\n",
              "       'National', 'North Carolina', 'Florida', 'Hawaii', 'California',\n",
              "       'Maine', 'District of Columbia', 'Wyoming', 'Connecticut',\n",
              "       'Illinois', 'Missouri', 'Nebraska', 'Massachusetts', 'Kentucky',\n",
              "       'Puerto Rico', 'Georgia', 'Utah', 'Mississippi', 'Idaho', 'Alaska',\n",
              "       'New Hampshire', 'Nevada', 'Delaware', 'Montana', 'Louisiana',\n",
              "       'Virginia', 'Wisconsin', 'Vermont'], dtype=object)"
            ]
          },
          "metadata": {},
          "execution_count": 65
        }
      ]
    },
    {
      "cell_type": "code",
      "source": [
        "#Add a column to contain total responses from survey\n",
        "df_19['Count']=np.floor(df_19.Percentage*df_19.Sample_Size/100)"
      ],
      "metadata": {
        "colab": {
          "base_uri": "https://localhost:8080/"
        },
        "id": "idObYxqK58Lx",
        "outputId": "4b7dc0a6-a0f7-4937-b163-0882985e28ff"
      },
      "execution_count": null,
      "outputs": [
        {
          "output_type": "stream",
          "name": "stderr",
          "text": [
            "/usr/local/lib/python3.7/dist-packages/ipykernel_launcher.py:2: SettingWithCopyWarning: \n",
            "A value is trying to be set on a copy of a slice from a DataFrame.\n",
            "Try using .loc[row_indexer,col_indexer] = value instead\n",
            "\n",
            "See the caveats in the documentation: https://pandas.pydata.org/pandas-docs/stable/user_guide/indexing.html#returning-a-view-versus-a-copy\n",
            "  \n"
          ]
        }
      ]
    },
    {
      "cell_type": "code",
      "source": [
        "df1 = df_19[(df_19.Question == '% of 18+ are obese') & (df_19.LocationDesc != \"National\")]\n",
        "df2 = df_19[(df_19.Category == 'Activity') & (df_19.Question == 'No activity') & (df_19.LocationDesc != \"National\")]"
      ],
      "metadata": {
        "id": "qsFCL1zU6_sg"
      },
      "execution_count": null,
      "outputs": []
    },
    {
      "cell_type": "code",
      "source": [
        "df1.info()"
      ],
      "metadata": {
        "colab": {
          "base_uri": "https://localhost:8080/"
        },
        "id": "rCCHc6s_dS5x",
        "outputId": "747c6afd-0d9f-4fd1-c146-75916313e30a"
      },
      "execution_count": null,
      "outputs": [
        {
          "output_type": "stream",
          "name": "stdout",
          "text": [
            "<class 'pandas.core.frame.DataFrame'>\n",
            "Int64Index: 1315 entries, 63028 to 74708\n",
            "Data columns (total 15 columns):\n",
            " #   Column        Non-Null Count  Dtype  \n",
            "---  ------        --------------  -----  \n",
            " 0   Year          1315 non-null   int64  \n",
            " 1   LocationAbbr  1315 non-null   object \n",
            " 2   LocationDesc  1315 non-null   object \n",
            " 3   Question      1315 non-null   object \n",
            " 4   Category      1315 non-null   object \n",
            " 5   Percentage    1315 non-null   float64\n",
            " 6   LCL           1315 non-null   float64\n",
            " 7   HCL           1315 non-null   float64\n",
            " 8   Sample_Size   1315 non-null   int64  \n",
            " 9   Age           312 non-null    object \n",
            " 10  Education     208 non-null    object \n",
            " 11  Gender        104 non-null    object \n",
            " 12  Income        364 non-null    object \n",
            " 13  Race          275 non-null    object \n",
            " 14  Count         1315 non-null   float64\n",
            "dtypes: float64(4), int64(2), object(9)\n",
            "memory usage: 164.4+ KB\n"
          ]
        }
      ]
    },
    {
      "cell_type": "markdown",
      "source": [
        "## 5.3 Examine data\n",
        "Perform an analysis on the percentage average of respondants that are obese vs percentage average that perform no physical activity per state. We are also excluding responses from the National results as these are an aggregate of all the responses."
      ],
      "metadata": {
        "id": "xCLIH1fe6pCl"
      }
    },
    {
      "cell_type": "code",
      "source": [
        "#Compute the mean of the state's overall response to the question about obesity\n",
        "#There were multiple surveys/responses collected for the same question in any given State\n",
        "df1_1 = df1.groupby(['LocationAbbr','LocationDesc'], as_index=False).sum().sort_values(['LocationDesc'])\n",
        "print(df1.groupby(['LocationAbbr','LocationDesc'], as_index=False)['Percentage'].count().head(5))\n",
        "df1_1.Percentage = np.round(df1_1.Count/df1_1.Sample_Size * 100, 1)\n",
        "df1_1.head(5)"
      ],
      "metadata": {
        "colab": {
          "base_uri": "https://localhost:8080/",
          "height": 315
        },
        "id": "jNmija426y-Z",
        "outputId": "7e4f3e67-1c7f-45ed-b1c1-b335fcf1949a"
      },
      "execution_count": null,
      "outputs": [
        {
          "output_type": "stream",
          "name": "stdout",
          "text": [
            "  LocationAbbr LocationDesc  Percentage\n",
            "0           AK       Alaska          24\n",
            "1           AL      Alabama          25\n",
            "2           AR     Arkansas          26\n",
            "3           AZ      Arizona          27\n",
            "4           CA   California          27\n"
          ]
        },
        {
          "output_type": "execute_result",
          "data": {
            "text/html": [
              "<div>\n",
              "<style scoped>\n",
              "    .dataframe tbody tr th:only-of-type {\n",
              "        vertical-align: middle;\n",
              "    }\n",
              "\n",
              "    .dataframe tbody tr th {\n",
              "        vertical-align: top;\n",
              "    }\n",
              "\n",
              "    .dataframe thead th {\n",
              "        text-align: right;\n",
              "    }\n",
              "</style>\n",
              "<table border=\"1\" class=\"dataframe\">\n",
              "  <thead>\n",
              "    <tr style=\"text-align: right;\">\n",
              "      <th></th>\n",
              "      <th>LocationAbbr</th>\n",
              "      <th>LocationDesc</th>\n",
              "      <th>Year</th>\n",
              "      <th>Percentage</th>\n",
              "      <th>LCL</th>\n",
              "      <th>HCL</th>\n",
              "      <th>Sample_Size</th>\n",
              "      <th>Count</th>\n",
              "    </tr>\n",
              "  </thead>\n",
              "  <tbody>\n",
              "    <tr>\n",
              "      <th>1</th>\n",
              "      <td>AL</td>\n",
              "      <td>Alabama</td>\n",
              "      <td>50475</td>\n",
              "      <td>36.0</td>\n",
              "      <td>797.6</td>\n",
              "      <td>1027.6</td>\n",
              "      <td>38975</td>\n",
              "      <td>14016.0</td>\n",
              "    </tr>\n",
              "    <tr>\n",
              "      <th>0</th>\n",
              "      <td>AK</td>\n",
              "      <td>Alaska</td>\n",
              "      <td>48456</td>\n",
              "      <td>30.3</td>\n",
              "      <td>587.6</td>\n",
              "      <td>935.7</td>\n",
              "      <td>16171</td>\n",
              "      <td>4895.0</td>\n",
              "    </tr>\n",
              "    <tr>\n",
              "      <th>3</th>\n",
              "      <td>AZ</td>\n",
              "      <td>Arizona</td>\n",
              "      <td>54513</td>\n",
              "      <td>31.2</td>\n",
              "      <td>722.9</td>\n",
              "      <td>998.2</td>\n",
              "      <td>48910</td>\n",
              "      <td>15271.0</td>\n",
              "    </tr>\n",
              "    <tr>\n",
              "      <th>2</th>\n",
              "      <td>AR</td>\n",
              "      <td>Arkansas</td>\n",
              "      <td>52494</td>\n",
              "      <td>37.2</td>\n",
              "      <td>823.3</td>\n",
              "      <td>1130.8</td>\n",
              "      <td>29408</td>\n",
              "      <td>10936.0</td>\n",
              "    </tr>\n",
              "    <tr>\n",
              "      <th>4</th>\n",
              "      <td>CA</td>\n",
              "      <td>California</td>\n",
              "      <td>54513</td>\n",
              "      <td>26.1</td>\n",
              "      <td>633.3</td>\n",
              "      <td>817.1</td>\n",
              "      <td>62955</td>\n",
              "      <td>16453.0</td>\n",
              "    </tr>\n",
              "  </tbody>\n",
              "</table>\n",
              "</div>"
            ],
            "text/plain": [
              "  LocationAbbr LocationDesc   Year  ...     HCL  Sample_Size    Count\n",
              "1           AL      Alabama  50475  ...  1027.6        38975  14016.0\n",
              "0           AK       Alaska  48456  ...   935.7        16171   4895.0\n",
              "3           AZ      Arizona  54513  ...   998.2        48910  15271.0\n",
              "2           AR     Arkansas  52494  ...  1130.8        29408  10936.0\n",
              "4           CA   California  54513  ...   817.1        62955  16453.0\n",
              "\n",
              "[5 rows x 8 columns]"
            ]
          },
          "metadata": {},
          "execution_count": 69
        }
      ]
    },
    {
      "cell_type": "code",
      "source": [
        "#Compute the mean of the state's overall response to the question about no physical activity\n",
        "#There were multiple surveys/responses collected for the same question in any given State\n",
        "df2_1 = df2.groupby(['LocationAbbr','LocationDesc'], as_index=False).sum().sort_values(['LocationDesc'])\n",
        "print(df2.groupby(['LocationAbbr','LocationDesc'], as_index=False)['Percentage'].count().head(5))\n",
        "df2_1.Percentage = np.round(df2_1.Count/df2_1.Sample_Size * 100, 1)\n",
        "df2_1.head(5)"
      ],
      "metadata": {
        "colab": {
          "base_uri": "https://localhost:8080/",
          "height": 315
        },
        "id": "RKyJqjgW61rR",
        "outputId": "de464e9d-eb6d-49b4-a7d1-06f0c4c2fd1e"
      },
      "execution_count": null,
      "outputs": [
        {
          "output_type": "stream",
          "name": "stdout",
          "text": [
            "  LocationAbbr LocationDesc  Percentage\n",
            "0           AK       Alaska          24\n",
            "1           AL      Alabama          25\n",
            "2           AR     Arkansas          26\n",
            "3           AZ      Arizona          27\n",
            "4           CA   California          27\n"
          ]
        },
        {
          "output_type": "execute_result",
          "data": {
            "text/html": [
              "<div>\n",
              "<style scoped>\n",
              "    .dataframe tbody tr th:only-of-type {\n",
              "        vertical-align: middle;\n",
              "    }\n",
              "\n",
              "    .dataframe tbody tr th {\n",
              "        vertical-align: top;\n",
              "    }\n",
              "\n",
              "    .dataframe thead th {\n",
              "        text-align: right;\n",
              "    }\n",
              "</style>\n",
              "<table border=\"1\" class=\"dataframe\">\n",
              "  <thead>\n",
              "    <tr style=\"text-align: right;\">\n",
              "      <th></th>\n",
              "      <th>LocationAbbr</th>\n",
              "      <th>LocationDesc</th>\n",
              "      <th>Year</th>\n",
              "      <th>Percentage</th>\n",
              "      <th>LCL</th>\n",
              "      <th>HCL</th>\n",
              "      <th>Sample_Size</th>\n",
              "      <th>Count</th>\n",
              "    </tr>\n",
              "  </thead>\n",
              "  <tbody>\n",
              "    <tr>\n",
              "      <th>1</th>\n",
              "      <td>AL</td>\n",
              "      <td>Alabama</td>\n",
              "      <td>50475</td>\n",
              "      <td>31.6</td>\n",
              "      <td>683.5</td>\n",
              "      <td>899.0</td>\n",
              "      <td>39952</td>\n",
              "      <td>12636.0</td>\n",
              "    </tr>\n",
              "    <tr>\n",
              "      <th>0</th>\n",
              "      <td>AK</td>\n",
              "      <td>Alaska</td>\n",
              "      <td>48456</td>\n",
              "      <td>21.2</td>\n",
              "      <td>417.2</td>\n",
              "      <td>739.2</td>\n",
              "      <td>16689</td>\n",
              "      <td>3540.0</td>\n",
              "    </tr>\n",
              "    <tr>\n",
              "      <th>3</th>\n",
              "      <td>AZ</td>\n",
              "      <td>Arizona</td>\n",
              "      <td>54513</td>\n",
              "      <td>24.1</td>\n",
              "      <td>550.2</td>\n",
              "      <td>820.5</td>\n",
              "      <td>50129</td>\n",
              "      <td>12106.0</td>\n",
              "    </tr>\n",
              "    <tr>\n",
              "      <th>2</th>\n",
              "      <td>AR</td>\n",
              "      <td>Arkansas</td>\n",
              "      <td>52494</td>\n",
              "      <td>31.8</td>\n",
              "      <td>687.5</td>\n",
              "      <td>980.9</td>\n",
              "      <td>30372</td>\n",
              "      <td>9644.0</td>\n",
              "    </tr>\n",
              "    <tr>\n",
              "      <th>4</th>\n",
              "      <td>CA</td>\n",
              "      <td>California</td>\n",
              "      <td>54513</td>\n",
              "      <td>22.2</td>\n",
              "      <td>542.8</td>\n",
              "      <td>714.8</td>\n",
              "      <td>63867</td>\n",
              "      <td>14168.0</td>\n",
              "    </tr>\n",
              "  </tbody>\n",
              "</table>\n",
              "</div>"
            ],
            "text/plain": [
              "  LocationAbbr LocationDesc   Year  ...    HCL  Sample_Size    Count\n",
              "1           AL      Alabama  50475  ...  899.0        39952  12636.0\n",
              "0           AK       Alaska  48456  ...  739.2        16689   3540.0\n",
              "3           AZ      Arizona  54513  ...  820.5        50129  12106.0\n",
              "2           AR     Arkansas  52494  ...  980.9        30372   9644.0\n",
              "4           CA   California  54513  ...  714.8        63867  14168.0\n",
              "\n",
              "[5 rows x 8 columns]"
            ]
          },
          "metadata": {},
          "execution_count": 70
        }
      ]
    },
    {
      "cell_type": "markdown",
      "source": [
        "### 5.3.1 Visualize pattern - Obesity %"
      ],
      "metadata": {
        "id": "nuTaOA0z7Enf"
      }
    },
    {
      "cell_type": "code",
      "source": [
        "#Compute the median for each state so that the box plot can be ordered accordingly\n",
        "df1_m = df1[[\"LocationAbbr\", \"Percentage\"]].groupby(['LocationAbbr'], as_index=False).median().sort_values(['Percentage'])\n",
        "\n",
        "# figure size in inches\n",
        "rcParams['figure.figsize'] = 15,8\n",
        "\n",
        "ax = sns.boxplot(x='LocationAbbr', y='Percentage', data=df1, order=df1_m.LocationAbbr)\n",
        "ax.set_xlabel('State')\n",
        "ax.set_ylabel('Percentage of obese')\n",
        "\n",
        "ax.plot([0,51], [df1.Count.sum()/df1.Sample_Size.sum()*100, df1.Count.sum()/df1.Sample_Size.sum()*100], '--', color='r', label='Average')\n",
        "#ax.plot([0,51], [df1.Percentage.mean(), df1.Percentage.mean()], '-', color='r', label='Average')\n",
        "\n",
        "#Top 10 and bottom 10 states\n",
        "ax.plot([42,51], [.5, .5], '--', color='b')\n",
        "ax.plot([0,9], [.5, .5], '--', color='b')\n",
        "#Middle state\n",
        "ax.plot([26,26], [.5, 5], '-', color='b')\n",
        "\n",
        "ax.set_title(\"Samples' average percent of obese people per State\")"
      ],
      "metadata": {
        "colab": {
          "base_uri": "https://localhost:8080/",
          "height": 535
        },
        "id": "m0b4w5bY7MVi",
        "outputId": "be0777f6-bd0a-4ade-f581-09dd4dd3dbab"
      },
      "execution_count": null,
      "outputs": [
        {
          "output_type": "execute_result",
          "data": {
            "text/plain": [
              "Text(0.5, 1.0, \"Samples' average percent of obese people per State\")"
            ]
          },
          "metadata": {},
          "execution_count": 71
        },
        {
          "output_type": "display_data",
          "data": {
            "image/png": "[encoded data removed]",
            "text/plain": [
              "<Figure size 1080x576 with 1 Axes>"
            ]
          },
          "metadata": {}
        }
      ]
    },
    {
      "cell_type": "markdown",
      "source": [
        "### 5.3.2 Visualize pattern - No Activity"
      ],
      "metadata": {
        "id": "7jzmDEKb7YHI"
      }
    },
    {
      "cell_type": "code",
      "source": [
        "#Compute the median for each state so that the box plot can be ordered accordingly\n",
        "df2_m = df2[[\"LocationAbbr\", \"Percentage\"]].groupby(['LocationAbbr'], as_index=False).median().sort_values(['Percentage'])\n",
        "\n",
        "# figure size in inches\n",
        "rcParams['figure.figsize'] = 15,8\n",
        "\n",
        "ax = sns.boxplot(x='LocationAbbr', y='Percentage', data=df2, order=df2_m.LocationAbbr)\n",
        "ax.set_xlabel('State')\n",
        "ax.set_ylabel('Percentage of obese')\n",
        "\n",
        "ax.plot([0,51], [df2.Percentage.mean(), df2.Percentage.mean()], '--', color='r', label='Average')\n",
        "\n",
        "#Top 10 and bottom 10 states\n",
        "ax.plot([42,51], [.5, .5], '--', color='b')\n",
        "ax.plot([0,9], [.5, .5], '--', color='b')\n",
        "#Middle state\n",
        "ax.plot([26,26], [.5, 5], '-', color='b')\n",
        "\n",
        "ax.set_title(\"Average percent of people with no activity per State\")"
      ],
      "metadata": {
        "colab": {
          "base_uri": "https://localhost:8080/",
          "height": 535
        },
        "id": "25w36Jc-7bjl",
        "outputId": "cc3f5232-37ca-45ac-82e6-9520ee85962d"
      },
      "execution_count": null,
      "outputs": [
        {
          "output_type": "execute_result",
          "data": {
            "text/plain": [
              "Text(0.5, 1.0, 'Average percent of people with no activity per State')"
            ]
          },
          "metadata": {},
          "execution_count": 72
        },
        {
          "output_type": "display_data",
          "data": {
            "image/png": "[encoded data removed]",
            "text/plain": [
              "<Figure size 1080x576 with 1 Axes>"
            ]
          },
          "metadata": {}
        }
      ]
    },
    {
      "cell_type": "code",
      "source": [
        "df2_1.loc[df2_1.Percentage>45].LocationDesc"
      ],
      "metadata": {
        "colab": {
          "base_uri": "https://localhost:8080/"
        },
        "id": "XD6Vdacq7x4n",
        "outputId": "fdb423c4-9fa5-48ea-d82a-3ff3a06eedda"
      },
      "execution_count": null,
      "outputs": [
        {
          "output_type": "execute_result",
          "data": {
            "text/plain": [
              "39    Puerto Rico\n",
              "Name: LocationDesc, dtype: object"
            ]
          },
          "metadata": {},
          "execution_count": 73
        }
      ]
    },
    {
      "cell_type": "markdown",
      "source": [
        "### 5.3.3 Summary\n",
        "It appears Puerto Rico is an outlier as it is the state with most percentage of people that have reported as having no physical activity, and it is not on the top 10 states with highest obesity rate.\n",
        "As for some of the other states we see Mississipi, Oklahoma, Arkansas, Kentucky, Alabama, Louisana, Missouri are in the top 10 states with highest obesity rates in US and in the top 10 states with highest percentage of people performing no additional physical activity (ie. exercise)"
      ],
      "metadata": {
        "id": "lu4raj287jKU"
      }
    },
    {
      "cell_type": "markdown",
      "source": [
        "\n",
        "## 5.4 Linear Regression"
      ],
      "metadata": {
        "id": "gIXaWG7E7sbF"
      }
    },
    {
      "cell_type": "markdown",
      "source": [
        "### 5.4.1 Preparation"
      ],
      "metadata": {
        "id": "ZdUO2Gxi79S6"
      }
    },
    {
      "cell_type": "code",
      "source": [
        "rcParams['figure.figsize'] = 10,6\n",
        "\n",
        "x = df2_1\n",
        "y = df1_1\n",
        "\n",
        "plt.plot(x.Percentage, y.Percentage, \"x\")\n",
        "plt.xlabel(\"% with no activity\")\n",
        "plt.ylabel(\"% of 18+ obese\")\n",
        "\n",
        "plt.text(x.loc[x.Percentage>45].Percentage - 5,y.loc[x.Percentage>45].Percentage, x[x.Percentage>45].LocationDesc.item(), bbox=dict(facecolor='red', alpha=0.5))\n",
        "\n",
        "plt.title(\"Percent of people with no exercise vs obesity rate per state\")"
      ],
      "metadata": {
        "colab": {
          "base_uri": "https://localhost:8080/",
          "height": 426
        },
        "id": "nAFsQ0nT783N",
        "outputId": "56aa9128-bc1c-4a56-fbdb-0766d8245430"
      },
      "execution_count": null,
      "outputs": [
        {
          "output_type": "execute_result",
          "data": {
            "text/plain": [
              "Text(0.5, 1.0, 'Percent of people with no exercise vs obesity rate per state')"
            ]
          },
          "metadata": {},
          "execution_count": 74
        },
        {
          "output_type": "display_data",
          "data": {
            "image/png": "[encoded data removed]",
            "text/plain": [
              "<Figure size 720x432 with 1 Axes>"
            ]
          },
          "metadata": {}
        }
      ]
    },
    {
      "cell_type": "code",
      "source": [
        "df1_1['Obesity'] = x.Percentage\n",
        "df1_1[\"NoActivity\"] = y.Percentage\n",
        "\n",
        "m = sm.ols('Obesity ~ NoActivity', data=df1_1)\n",
        "m = m.fit()\n",
        "m.summary()"
      ],
      "metadata": {
        "colab": {
          "base_uri": "https://localhost:8080/",
          "height": 448
        },
        "id": "8gvgcLcy8FtY",
        "outputId": "d9e71dbf-146e-4d34-fd54-419b4c0489e1"
      },
      "execution_count": null,
      "outputs": [
        {
          "output_type": "execute_result",
          "data": {
            "text/html": [
              "<table class=\"simpletable\">\n",
              "<caption>OLS Regression Results</caption>\n",
              "<tr>\n",
              "  <th>Dep. Variable:</th>         <td>Obesity</td>     <th>  R-squared:         </th> <td>   0.387</td>\n",
              "</tr>\n",
              "<tr>\n",
              "  <th>Model:</th>                   <td>OLS</td>       <th>  Adj. R-squared:    </th> <td>   0.374</td>\n",
              "</tr>\n",
              "<tr>\n",
              "  <th>Method:</th>             <td>Least Squares</td>  <th>  F-statistic:       </th> <td>   31.51</td>\n",
              "</tr>\n",
              "<tr>\n",
              "  <th>Date:</th>             <td>Mon, 13 Dec 2021</td> <th>  Prob (F-statistic):</th> <td>8.67e-07</td>\n",
              "</tr>\n",
              "<tr>\n",
              "  <th>Time:</th>                 <td>13:46:36</td>     <th>  Log-Likelihood:    </th> <td> -149.28</td>\n",
              "</tr>\n",
              "<tr>\n",
              "  <th>No. Observations:</th>      <td>    52</td>      <th>  AIC:               </th> <td>   302.6</td>\n",
              "</tr>\n",
              "<tr>\n",
              "  <th>Df Residuals:</th>          <td>    50</td>      <th>  BIC:               </th> <td>   306.5</td>\n",
              "</tr>\n",
              "<tr>\n",
              "  <th>Df Model:</th>              <td>     1</td>      <th>                     </th>     <td> </td>   \n",
              "</tr>\n",
              "<tr>\n",
              "  <th>Covariance Type:</th>      <td>nonrobust</td>    <th>                     </th>     <td> </td>   \n",
              "</tr>\n",
              "</table>\n",
              "<table class=\"simpletable\">\n",
              "<tr>\n",
              "       <td></td>         <th>coef</th>     <th>std err</th>      <th>t</th>      <th>P>|t|</th>  <th>[0.025</th>    <th>0.975]</th>  \n",
              "</tr>\n",
              "<tr>\n",
              "  <th>Intercept</th>  <td>   -1.4534</td> <td>    5.032</td> <td>   -0.289</td> <td> 0.774</td> <td>  -11.561</td> <td>    8.654</td>\n",
              "</tr>\n",
              "<tr>\n",
              "  <th>NoActivity</th> <td>    0.8764</td> <td>    0.156</td> <td>    5.613</td> <td> 0.000</td> <td>    0.563</td> <td>    1.190</td>\n",
              "</tr>\n",
              "</table>\n",
              "<table class=\"simpletable\">\n",
              "<tr>\n",
              "  <th>Omnibus:</th>       <td>63.997</td> <th>  Durbin-Watson:     </th> <td>   2.069</td> \n",
              "</tr>\n",
              "<tr>\n",
              "  <th>Prob(Omnibus):</th> <td> 0.000</td> <th>  Jarque-Bera (JB):  </th> <td> 592.527</td> \n",
              "</tr>\n",
              "<tr>\n",
              "  <th>Skew:</th>          <td> 3.130</td> <th>  Prob(JB):          </th> <td>2.16e-129</td>\n",
              "</tr>\n",
              "<tr>\n",
              "  <th>Kurtosis:</th>      <td>18.306</td> <th>  Cond. No.          </th> <td>    269.</td> \n",
              "</tr>\n",
              "</table><br/><br/>Warnings:<br/>[1] Standard Errors assume that the covariance matrix of the errors is correctly specified."
            ],
            "text/plain": [
              "<class 'statsmodels.iolib.summary.Summary'>\n",
              "\"\"\"\n",
              "                            OLS Regression Results                            \n",
              "==============================================================================\n",
              "Dep. Variable:                Obesity   R-squared:                       0.387\n",
              "Model:                            OLS   Adj. R-squared:                  0.374\n",
              "Method:                 Least Squares   F-statistic:                     31.51\n",
              "Date:                Mon, 13 Dec 2021   Prob (F-statistic):           8.67e-07\n",
              "Time:                        13:46:36   Log-Likelihood:                -149.28\n",
              "No. Observations:                  52   AIC:                             302.6\n",
              "Df Residuals:                      50   BIC:                             306.5\n",
              "Df Model:                           1                                         \n",
              "Covariance Type:            nonrobust                                         \n",
              "==============================================================================\n",
              "                 coef    std err          t      P>|t|      [0.025      0.975]\n",
              "------------------------------------------------------------------------------\n",
              "Intercept     -1.4534      5.032     -0.289      0.774     -11.561       8.654\n",
              "NoActivity     0.8764      0.156      5.613      0.000       0.563       1.190\n",
              "==============================================================================\n",
              "Omnibus:                       63.997   Durbin-Watson:                   2.069\n",
              "Prob(Omnibus):                  0.000   Jarque-Bera (JB):              592.527\n",
              "Skew:                           3.130   Prob(JB):                    2.16e-129\n",
              "Kurtosis:                      18.306   Cond. No.                         269.\n",
              "==============================================================================\n",
              "\n",
              "Warnings:\n",
              "[1] Standard Errors assume that the covariance matrix of the errors is correctly specified.\n",
              "\"\"\""
            ]
          },
          "metadata": {},
          "execution_count": 75
        }
      ]
    },
    {
      "cell_type": "code",
      "source": [
        "fig,ax = plt.subplots(figsize= (15,6))\n",
        "fig = influence_plot(m, ax=ax)\n",
        "ax.plot([3*2/52, 3*2/52], [-4, 2], '--', color='r')"
      ],
      "metadata": {
        "colab": {
          "base_uri": "https://localhost:8080/",
          "height": 441
        },
        "id": "bfwHRL_I8IyP",
        "outputId": "c78f68c7-f8d4-4596-f6f8-576becb00d51"
      },
      "execution_count": null,
      "outputs": [
        {
          "output_type": "execute_result",
          "data": {
            "text/plain": [
              "[<matplotlib.lines.Line2D at 0x7f2e775af310>]"
            ]
          },
          "metadata": {},
          "execution_count": 76
        },
        {
          "output_type": "display_data",
          "data": {
            "image/png": "[encoded data removed]",
            "text/plain": [
              "<Figure size 1080x432 with 1 Axes>"
            ]
          },
          "metadata": {}
        }
      ]
    },
    {
      "cell_type": "markdown",
      "source": [
        "**Outlier**\n",
        "\n",
        "We can see that the point with index 39 has high leverage and it is outside of the 3 standard deviation in the Studentized Residuals"
      ],
      "metadata": {
        "id": "gq2NnuTX8M2E"
      }
    },
    {
      "cell_type": "markdown",
      "source": [
        "### 5.4.2 Regression"
      ],
      "metadata": {
        "id": "n8ySqObl8UH_"
      }
    },
    {
      "cell_type": "code",
      "source": [
        "df1_o=df1_1.drop(axis=0, index=[39])\n",
        "\n",
        "m = sm.ols('Obesity ~ NoActivity', data=df1_o)\n",
        "m = m.fit()\n",
        "\n",
        "m.summary()"
      ],
      "metadata": {
        "colab": {
          "base_uri": "https://localhost:8080/",
          "height": 448
        },
        "id": "05WbZE-18S71",
        "outputId": "c0afc3db-94f5-40f6-8cc6-4b742e224a36"
      },
      "execution_count": null,
      "outputs": [
        {
          "output_type": "execute_result",
          "data": {
            "text/html": [
              "<table class=\"simpletable\">\n",
              "<caption>OLS Regression Results</caption>\n",
              "<tr>\n",
              "  <th>Dep. Variable:</th>         <td>Obesity</td>     <th>  R-squared:         </th> <td>   0.600</td>\n",
              "</tr>\n",
              "<tr>\n",
              "  <th>Model:</th>                   <td>OLS</td>       <th>  Adj. R-squared:    </th> <td>   0.592</td>\n",
              "</tr>\n",
              "<tr>\n",
              "  <th>Method:</th>             <td>Least Squares</td>  <th>  F-statistic:       </th> <td>   73.59</td>\n",
              "</tr>\n",
              "<tr>\n",
              "  <th>Date:</th>             <td>Mon, 13 Dec 2021</td> <th>  Prob (F-statistic):</th> <td>2.53e-11</td>\n",
              "</tr>\n",
              "<tr>\n",
              "  <th>Time:</th>                 <td>13:46:37</td>     <th>  Log-Likelihood:    </th> <td> -123.66</td>\n",
              "</tr>\n",
              "<tr>\n",
              "  <th>No. Observations:</th>      <td>    51</td>      <th>  AIC:               </th> <td>   251.3</td>\n",
              "</tr>\n",
              "<tr>\n",
              "  <th>Df Residuals:</th>          <td>    49</td>      <th>  BIC:               </th> <td>   255.2</td>\n",
              "</tr>\n",
              "<tr>\n",
              "  <th>Df Model:</th>              <td>     1</td>      <th>                     </th>     <td> </td>   \n",
              "</tr>\n",
              "<tr>\n",
              "  <th>Covariance Type:</th>      <td>nonrobust</td>    <th>                     </th>     <td> </td>   \n",
              "</tr>\n",
              "</table>\n",
              "<table class=\"simpletable\">\n",
              "<tr>\n",
              "       <td></td>         <th>coef</th>     <th>std err</th>      <th>t</th>      <th>P>|t|</th>  <th>[0.025</th>    <th>0.975]</th>  \n",
              "</tr>\n",
              "<tr>\n",
              "  <th>Intercept</th>  <td>   -1.3226</td> <td>    3.223</td> <td>   -0.410</td> <td> 0.683</td> <td>   -7.798</td> <td>    5.153</td>\n",
              "</tr>\n",
              "<tr>\n",
              "  <th>NoActivity</th> <td>    0.8578</td> <td>    0.100</td> <td>    8.578</td> <td> 0.000</td> <td>    0.657</td> <td>    1.059</td>\n",
              "</tr>\n",
              "</table>\n",
              "<table class=\"simpletable\">\n",
              "<tr>\n",
              "  <th>Omnibus:</th>       <td> 0.574</td> <th>  Durbin-Watson:     </th> <td>   2.102</td>\n",
              "</tr>\n",
              "<tr>\n",
              "  <th>Prob(Omnibus):</th> <td> 0.751</td> <th>  Jarque-Bera (JB):  </th> <td>   0.674</td>\n",
              "</tr>\n",
              "<tr>\n",
              "  <th>Skew:</th>          <td> 0.078</td> <th>  Prob(JB):          </th> <td>   0.714</td>\n",
              "</tr>\n",
              "<tr>\n",
              "  <th>Kurtosis:</th>      <td> 2.459</td> <th>  Cond. No.          </th> <td>    266.</td>\n",
              "</tr>\n",
              "</table><br/><br/>Warnings:<br/>[1] Standard Errors assume that the covariance matrix of the errors is correctly specified."
            ],
            "text/plain": [
              "<class 'statsmodels.iolib.summary.Summary'>\n",
              "\"\"\"\n",
              "                            OLS Regression Results                            \n",
              "==============================================================================\n",
              "Dep. Variable:                Obesity   R-squared:                       0.600\n",
              "Model:                            OLS   Adj. R-squared:                  0.592\n",
              "Method:                 Least Squares   F-statistic:                     73.59\n",
              "Date:                Mon, 13 Dec 2021   Prob (F-statistic):           2.53e-11\n",
              "Time:                        13:46:37   Log-Likelihood:                -123.66\n",
              "No. Observations:                  51   AIC:                             251.3\n",
              "Df Residuals:                      49   BIC:                             255.2\n",
              "Df Model:                           1                                         \n",
              "Covariance Type:            nonrobust                                         \n",
              "==============================================================================\n",
              "                 coef    std err          t      P>|t|      [0.025      0.975]\n",
              "------------------------------------------------------------------------------\n",
              "Intercept     -1.3226      3.223     -0.410      0.683      -7.798       5.153\n",
              "NoActivity     0.8578      0.100      8.578      0.000       0.657       1.059\n",
              "==============================================================================\n",
              "Omnibus:                        0.574   Durbin-Watson:                   2.102\n",
              "Prob(Omnibus):                  0.751   Jarque-Bera (JB):                0.674\n",
              "Skew:                           0.078   Prob(JB):                        0.714\n",
              "Kurtosis:                       2.459   Cond. No.                         266.\n",
              "==============================================================================\n",
              "\n",
              "Warnings:\n",
              "[1] Standard Errors assume that the covariance matrix of the errors is correctly specified.\n",
              "\"\"\""
            ]
          },
          "metadata": {},
          "execution_count": 77
        }
      ]
    },
    {
      "cell_type": "markdown",
      "source": [
        "#### Plot"
      ],
      "metadata": {
        "id": "XSqlekUz_3cG"
      }
    },
    {
      "cell_type": "code",
      "source": [
        "x = df1_o.NoActivity\n",
        "y = df1_o.Obesity"
      ],
      "metadata": {
        "id": "dzh3EDZfqqF3"
      },
      "execution_count": null,
      "outputs": []
    },
    {
      "cell_type": "code",
      "source": [
        "rcParams['figure.figsize'] = 12,8\n",
        "\n",
        "t = np.linspace(min(x), max(x), 100)\n",
        "\n",
        "plt.plot(x, y, \"x\")\n",
        "plt.plot(t, m.params[0] + m.params[1]*t, 'r--')\n",
        "plt.xlabel(\"% with no activity\", fontsize=14)\n",
        "plt.ylabel(\"% of 18+ obese\", fontsize=14)\n",
        "\n",
        "plt.text(max(x)-3, m.params[0] + m.params[1]*max(t) + 0.5, \"O ~ -1.3 + 0.86 * NA\", color=\"red\")\n",
        "plt.text(max(x)-3, min(y)+0.5, \"Adj. R^2 = 0.592\")\n",
        "\n",
        "plt.title(\"Percent of people with obesity vs no exercise per state\")"
      ],
      "metadata": {
        "colab": {
          "base_uri": "https://localhost:8080/",
          "height": 536
        },
        "id": "iFbvOYCU_7Qb",
        "outputId": "75a741bc-79f4-46a8-e808-de6062971795"
      },
      "execution_count": null,
      "outputs": [
        {
          "output_type": "execute_result",
          "data": {
            "text/plain": [
              "Text(0.5, 1.0, 'Percent of people with obesity vs no exercise per state')"
            ]
          },
          "metadata": {},
          "execution_count": 79
        },
        {
          "output_type": "display_data",
          "data": {
            "image/png": "[encoded data removed]",
            "text/plain": [
              "<Figure size 864x576 with 1 Axes>"
            ]
          },
          "metadata": {}
        }
      ]
    },
    {
      "cell_type": "markdown",
      "source": [
        "### 5.4.3 Evaluate Residuals"
      ],
      "metadata": {
        "id": "qGm08U5F8gLG"
      }
    },
    {
      "cell_type": "code",
      "source": [
        "df1_o['ObesityPred'] = m.params[0] + m.params[1] * df1_o.NoActivity\n",
        "\n",
        "df1_o['Residuals'] = df1_o.Obesity - df1_o.ObesityPred\n",
        "print(df1_o.Residuals.describe())\n",
        "residuals_hist = plt.hist(df1_o.Residuals)\n",
        "\n",
        "plt.xlabel(\"Residuals\")\n",
        "plt.ylabel(\"Frequency\")\n"
      ],
      "metadata": {
        "colab": {
          "base_uri": "https://localhost:8080/",
          "height": 683
        },
        "id": "ujecjgHz8Ziq",
        "outputId": "d84a1ffc-ec3e-4001-fc1a-9b088abfd3bb"
      },
      "execution_count": null,
      "outputs": [
        {
          "output_type": "stream",
          "name": "stdout",
          "text": [
            "count    5.100000e+01\n",
            "mean     1.051882e-14\n",
            "std      2.761157e+00\n",
            "min     -5.511616e+00\n",
            "25%     -1.469439e+00\n",
            "50%     -3.827041e-01\n",
            "75%      1.856614e+00\n",
            "max      5.705460e+00\n",
            "Name: Residuals, dtype: float64\n"
          ]
        },
        {
          "output_type": "execute_result",
          "data": {
            "text/plain": [
              "Text(0, 0.5, 'Frequency')"
            ]
          },
          "metadata": {},
          "execution_count": 80
        },
        {
          "output_type": "display_data",
          "data": {
            "image/png": "[encoded data removed]",
            "text/plain": [
              "<Figure size 864x576 with 1 Axes>"
            ]
          },
          "metadata": {}
        }
      ]
    },
    {
      "cell_type": "markdown",
      "source": [
        "The residuals appear to be somewhat normally distributed for the given number of samples. The mean of the residuals is about 0, as expected.\n"
      ],
      "metadata": {
        "id": "teQquoFj8qBT"
      }
    },
    {
      "cell_type": "markdown",
      "source": [
        "# 6.0 Physical Activity vs Income"
      ],
      "metadata": {
        "id": "wFEwDVUsH0Bs"
      }
    },
    {
      "cell_type": "markdown",
      "source": [
        "## 6.1 Read Processed Data"
      ],
      "metadata": {
        "id": "ny06fu9DIC6x"
      }
    },
    {
      "cell_type": "code",
      "source": [
        "df = readProcessedData()\n",
        "\n",
        "df.info()"
      ],
      "metadata": {
        "colab": {
          "base_uri": "https://localhost:8080/"
        },
        "id": "HkV9CYOpIHEY",
        "outputId": "cc55fee3-01e0-4fac-c9fb-aaa4f261c8c9"
      },
      "execution_count": null,
      "outputs": [
        {
          "output_type": "stream",
          "name": "stdout",
          "text": [
            "<class 'pandas.core.frame.DataFrame'>\n",
            "Int64Index: 68847 entries, 0 to 76392\n",
            "Data columns (total 14 columns):\n",
            " #   Column        Non-Null Count  Dtype  \n",
            "---  ------        --------------  -----  \n",
            " 0   Year          68847 non-null  int64  \n",
            " 1   LocationAbbr  68847 non-null  object \n",
            " 2   LocationDesc  68847 non-null  object \n",
            " 3   Question      68847 non-null  object \n",
            " 4   Category      68847 non-null  object \n",
            " 5   Percentage    68847 non-null  float64\n",
            " 6   LCL           68847 non-null  float64\n",
            " 7   HCL           68847 non-null  float64\n",
            " 8   Sample_Size   68847 non-null  int64  \n",
            " 9   Age           16296 non-null  object \n",
            " 10  Education     10864 non-null  object \n",
            " 11  Gender        5432 non-null   object \n",
            " 12  Income        19012 non-null  object \n",
            " 13  Race          14527 non-null  object \n",
            "dtypes: float64(3), int64(2), object(9)\n",
            "memory usage: 7.9+ MB\n"
          ]
        }
      ]
    },
    {
      "cell_type": "markdown",
      "source": [
        "## 6.2 Select data for analysis"
      ],
      "metadata": {
        "id": "a4n96Su0IJlo"
      }
    },
    {
      "cell_type": "code",
      "source": [
        "df_19 = df[df.Year == 2019]\n",
        "\n",
        "#Add a column to contain total responses from survey\n",
        "df_19['Count']=np.floor(df_19.Percentage*df_19.Sample_Size/100)\n",
        "\n",
        "#Extract all of the responses that answered No Activity for the activity question, and were collected at the State Level.\n",
        "#Also, ensure that the Income data was provided\n",
        "df = df_19[(df_19.Category == 'Activity') & (df_19.LocationDesc != \"National\") & (df_19.Question == 'No activity') &\n",
        "            (df_19.Income != 'Data not reported') & (df_19.Income.notna())]\n",
        "\n",
        "print(df.Income.unique())"
      ],
      "metadata": {
        "colab": {
          "base_uri": "https://localhost:8080/"
        },
        "id": "41cji2LaIJUk",
        "outputId": "cf0d52bf-9ba4-4f82-c69b-6dabc01461f8"
      },
      "execution_count": null,
      "outputs": [
        {
          "output_type": "stream",
          "name": "stdout",
          "text": [
            "['$25,000 - $34,999' '$35,000 - $49,999' '$15,000 - $24,999'\n",
            " '$50,000 - $74,999' '$75,000 or greater' 'Less than $15,000']\n"
          ]
        },
        {
          "output_type": "stream",
          "name": "stderr",
          "text": [
            "/usr/local/lib/python3.7/dist-packages/ipykernel_launcher.py:4: SettingWithCopyWarning: \n",
            "A value is trying to be set on a copy of a slice from a DataFrame.\n",
            "Try using .loc[row_indexer,col_indexer] = value instead\n",
            "\n",
            "See the caveats in the documentation: https://pandas.pydata.org/pandas-docs/stable/user_guide/indexing.html#returning-a-view-versus-a-copy\n",
            "  after removing the cwd from sys.path.\n"
          ]
        }
      ]
    },
    {
      "cell_type": "markdown",
      "source": [
        "### 6.2.1 Helper Function to assign values to Income Category"
      ],
      "metadata": {
        "id": "bhXPGHQvIj4m"
      }
    },
    {
      "cell_type": "code",
      "source": [
        "def cat_income(s):\n",
        "  if s == 'Less than $15,000':\n",
        "    return 1.5\n",
        "  if s == '$15,000 - $24,999':\n",
        "    return 2.5\n",
        "  if s == '$25,000 - $34,999':\n",
        "    return 3.5\n",
        "  if s == '$35,000 - $49,999':\n",
        "    return 4.5\n",
        "  if s == '$50,000 - $74,999':\n",
        "    return 7\n",
        "  if s == '$75,000 or greater':\n",
        "    return 9\n",
        "  else:\n",
        "    return 0"
      ],
      "metadata": {
        "id": "o2gpw_64IfoS"
      },
      "execution_count": null,
      "outputs": []
    },
    {
      "cell_type": "code",
      "source": [
        "df['CatIncome'] = df.Income.apply(cat_income)\n",
        "df.CatIncome.unique()"
      ],
      "metadata": {
        "colab": {
          "base_uri": "https://localhost:8080/"
        },
        "id": "n4k-jFncIqqG",
        "outputId": "c65ca369-950f-423d-fb13-ae9c3f249252"
      },
      "execution_count": null,
      "outputs": [
        {
          "output_type": "stream",
          "name": "stderr",
          "text": [
            "/usr/local/lib/python3.7/dist-packages/ipykernel_launcher.py:1: SettingWithCopyWarning: \n",
            "A value is trying to be set on a copy of a slice from a DataFrame.\n",
            "Try using .loc[row_indexer,col_indexer] = value instead\n",
            "\n",
            "See the caveats in the documentation: https://pandas.pydata.org/pandas-docs/stable/user_guide/indexing.html#returning-a-view-versus-a-copy\n",
            "  \"\"\"Entry point for launching an IPython kernel.\n"
          ]
        },
        {
          "output_type": "execute_result",
          "data": {
            "text/plain": [
              "array([3.5, 4.5, 2.5, 7. , 9. , 1.5])"
            ]
          },
          "metadata": {},
          "execution_count": 84
        }
      ]
    },
    {
      "cell_type": "markdown",
      "source": [
        "## 6.3 Examine Data\n",
        "---\n",
        "Compute the Percent No Activity per Income Category\n"
      ],
      "metadata": {
        "id": "MPLzwijvIqRa"
      }
    },
    {
      "cell_type": "code",
      "source": [
        "df_2 = df.groupby(['Income'], as_index=False).sum().sort_values('CatIncome')\n",
        "df_2['PercentNoActivity'] = np.round(df_2.Count/df_2.Sample_Size * 100, 1)\n",
        "df_2.head(6)"
      ],
      "metadata": {
        "colab": {
          "base_uri": "https://localhost:8080/",
          "height": 237
        },
        "id": "PGgsmUjfJJNS",
        "outputId": "16e264f3-49de-49ed-8a26-d64fb0c040ec"
      },
      "execution_count": null,
      "outputs": [
        {
          "output_type": "execute_result",
          "data": {
            "text/html": [
              "<div>\n",
              "<style scoped>\n",
              "    .dataframe tbody tr th:only-of-type {\n",
              "        vertical-align: middle;\n",
              "    }\n",
              "\n",
              "    .dataframe tbody tr th {\n",
              "        vertical-align: top;\n",
              "    }\n",
              "\n",
              "    .dataframe thead th {\n",
              "        text-align: right;\n",
              "    }\n",
              "</style>\n",
              "<table border=\"1\" class=\"dataframe\">\n",
              "  <thead>\n",
              "    <tr style=\"text-align: right;\">\n",
              "      <th></th>\n",
              "      <th>Income</th>\n",
              "      <th>Year</th>\n",
              "      <th>Percentage</th>\n",
              "      <th>LCL</th>\n",
              "      <th>HCL</th>\n",
              "      <th>Sample_Size</th>\n",
              "      <th>Count</th>\n",
              "      <th>CatIncome</th>\n",
              "      <th>PercentNoActivity</th>\n",
              "    </tr>\n",
              "  </thead>\n",
              "  <tbody>\n",
              "    <tr>\n",
              "      <th>5</th>\n",
              "      <td>Less than $15,000</td>\n",
              "      <td>104988</td>\n",
              "      <td>2050.0</td>\n",
              "      <td>1736.6</td>\n",
              "      <td>2384.7</td>\n",
              "      <td>30768</td>\n",
              "      <td>12573.0</td>\n",
              "      <td>78.0</td>\n",
              "      <td>40.9</td>\n",
              "    </tr>\n",
              "    <tr>\n",
              "      <th>0</th>\n",
              "      <td>$15,000 - $24,999</td>\n",
              "      <td>104988</td>\n",
              "      <td>1940.2</td>\n",
              "      <td>1702.0</td>\n",
              "      <td>2193.1</td>\n",
              "      <td>51506</td>\n",
              "      <td>19237.0</td>\n",
              "      <td>130.0</td>\n",
              "      <td>37.3</td>\n",
              "    </tr>\n",
              "    <tr>\n",
              "      <th>1</th>\n",
              "      <td>$25,000 - $34,999</td>\n",
              "      <td>104988</td>\n",
              "      <td>1679.0</td>\n",
              "      <td>1400.0</td>\n",
              "      <td>1988.6</td>\n",
              "      <td>33393</td>\n",
              "      <td>10728.0</td>\n",
              "      <td>182.0</td>\n",
              "      <td>32.1</td>\n",
              "    </tr>\n",
              "    <tr>\n",
              "      <th>2</th>\n",
              "      <td>$35,000 - $49,999</td>\n",
              "      <td>104988</td>\n",
              "      <td>1410.2</td>\n",
              "      <td>1187.3</td>\n",
              "      <td>1659.5</td>\n",
              "      <td>45233</td>\n",
              "      <td>12136.0</td>\n",
              "      <td>234.0</td>\n",
              "      <td>26.8</td>\n",
              "    </tr>\n",
              "    <tr>\n",
              "      <th>3</th>\n",
              "      <td>$50,000 - $74,999</td>\n",
              "      <td>104988</td>\n",
              "      <td>1174.9</td>\n",
              "      <td>981.6</td>\n",
              "      <td>1395.4</td>\n",
              "      <td>52809</td>\n",
              "      <td>11653.0</td>\n",
              "      <td>364.0</td>\n",
              "      <td>22.1</td>\n",
              "    </tr>\n",
              "    <tr>\n",
              "      <th>4</th>\n",
              "      <td>$75,000 or greater</td>\n",
              "      <td>104988</td>\n",
              "      <td>838.3</td>\n",
              "      <td>722.4</td>\n",
              "      <td>970.0</td>\n",
              "      <td>114800</td>\n",
              "      <td>17558.0</td>\n",
              "      <td>468.0</td>\n",
              "      <td>15.3</td>\n",
              "    </tr>\n",
              "  </tbody>\n",
              "</table>\n",
              "</div>"
            ],
            "text/plain": [
              "               Income    Year  ...  CatIncome  PercentNoActivity\n",
              "5   Less than $15,000  104988  ...       78.0               40.9\n",
              "0   $15,000 - $24,999  104988  ...      130.0               37.3\n",
              "1   $25,000 - $34,999  104988  ...      182.0               32.1\n",
              "2   $35,000 - $49,999  104988  ...      234.0               26.8\n",
              "3   $50,000 - $74,999  104988  ...      364.0               22.1\n",
              "4  $75,000 or greater  104988  ...      468.0               15.3\n",
              "\n",
              "[6 rows x 9 columns]"
            ]
          },
          "metadata": {},
          "execution_count": 85
        }
      ]
    },
    {
      "cell_type": "code",
      "source": [
        "plt.plot(df_2.Income, df_2.PercentNoActivity)\n",
        "\n",
        "plt.title(\"Average Percent of No Activity for Each Income Category\")\n",
        "plt.ylabel(\"Percentage of No Activity\")"
      ],
      "metadata": {
        "colab": {
          "base_uri": "https://localhost:8080/",
          "height": 521
        },
        "id": "HIFGtjVoJQ4L",
        "outputId": "2a3cb0c3-9fc5-4b62-df9f-c792048f3d50"
      },
      "execution_count": null,
      "outputs": [
        {
          "output_type": "execute_result",
          "data": {
            "text/plain": [
              "Text(0, 0.5, 'Percentage of No Activity')"
            ]
          },
          "metadata": {},
          "execution_count": 86
        },
        {
          "output_type": "display_data",
          "data": {
            "image/png": "[encoded data removed]",
            "text/plain": [
              "<Figure size 864x576 with 1 Axes>"
            ]
          },
          "metadata": {}
        }
      ]
    },
    {
      "cell_type": "markdown",
      "source": [
        "In the above chart we can see clearly similar pattern as the Obesity vs Income category, where the obesity rate was lower in people with higher income category and here we have No Physical activity (ie no exercising) higher in individuals with lower income"
      ],
      "metadata": {
        "id": "Irm9s8AHJxeK"
      }
    },
    {
      "cell_type": "code",
      "source": [
        "# Identification of different group - Bonferroni method\n",
        "comparisons = mc.MultiComparison(df['Percentage'], df['Income'])\n",
        "table, arr1, arr2 = comparisons.allpairtest(st.ttest_ind,  method='bonf')\n",
        "\n",
        "print(table)"
      ],
      "metadata": {
        "colab": {
          "base_uri": "https://localhost:8080/"
        },
        "id": "KGohzktSKZds",
        "outputId": "08e8c888-f116-4725-e4c6-c28cd7c12b37"
      },
      "execution_count": null,
      "outputs": [
        {
          "output_type": "stream",
          "name": "stdout",
          "text": [
            "Test Multiple Comparison ttest_ind \n",
            "FWER=0.05 method=bonf\n",
            "alphacSidak=0.00, alphacBonf=0.003\n",
            "======================================================================\n",
            "      group1             group2         stat    pval  pval_corr reject\n",
            "----------------------------------------------------------------------\n",
            " $15,000 - $24,999  $25,000 - $34,999   4.9344    0.0       0.0   True\n",
            " $15,000 - $24,999  $35,000 - $49,999  11.2544    0.0       0.0   True\n",
            " $15,000 - $24,999  $50,000 - $74,999  15.7245    0.0       0.0   True\n",
            " $15,000 - $24,999 $75,000 or greater  22.9336    0.0       0.0   True\n",
            " $15,000 - $24,999  Less than $15,000  -1.8224 0.0713       1.0  False\n",
            " $25,000 - $34,999  $35,000 - $49,999   6.0319    0.0       0.0   True\n",
            " $25,000 - $34,999  $50,000 - $74,999  10.9052    0.0       0.0   True\n",
            " $25,000 - $34,999 $75,000 or greater  18.4483    0.0       0.0   True\n",
            " $25,000 - $34,999  Less than $15,000  -6.3643    0.0       0.0   True\n",
            " $35,000 - $49,999  $50,000 - $74,999   5.9718    0.0       0.0   True\n",
            " $35,000 - $49,999 $75,000 or greater   14.804    0.0       0.0   True\n",
            " $35,000 - $49,999  Less than $15,000 -12.0613    0.0       0.0   True\n",
            " $50,000 - $74,999 $75,000 or greater   8.3032    0.0       0.0   True\n",
            " $50,000 - $74,999  Less than $15,000 -16.0715    0.0       0.0   True\n",
            "$75,000 or greater  Less than $15,000 -22.4825    0.0       0.0   True\n",
            "----------------------------------------------------------------------\n"
          ]
        }
      ]
    },
    {
      "cell_type": "code",
      "source": [
        "ax = sns.boxplot(x=\"Income\", y=\"Percentage\", data=df, order = ['Less than $15,000','$15,000 - $24,999','$25,000 - $34,999','$35,000 - $49,999', '$50,000 - $74,999', '$75,000 or greater'])\n",
        "ax.set_xticklabels(ax.get_xticklabels(),rotation = 30)\n",
        "ax.set_ylabel('Percent of adults aged 18 years \\nand older who have obesity')"
      ],
      "metadata": {
        "colab": {
          "base_uri": "https://localhost:8080/",
          "height": 565
        },
        "id": "Nu7F1SdyXy90",
        "outputId": "71fa31e5-4250-4e25-bbd0-28fdb4a010f6"
      },
      "execution_count": null,
      "outputs": [
        {
          "output_type": "execute_result",
          "data": {
            "text/plain": [
              "Text(0, 0.5, 'Percent of adults aged 18 years \\nand older who have obesity')"
            ]
          },
          "metadata": {},
          "execution_count": 88
        },
        {
          "output_type": "display_data",
          "data": {
            "image/png": "[encoded data removed]",
            "text/plain": [
              "<Figure size 864x576 with 1 Axes>"
            ]
          },
          "metadata": {}
        }
      ]
    },
    {
      "cell_type": "markdown",
      "source": [
        "### 6.3.1 Conclusion\n",
        "As can be seen from the multi categorical variable comparison we can see that the percentage of no activity among different income categories is true, which goes along with our hypothesis that people with higher income category would have most likely reported doing some form of additional physical work."
      ],
      "metadata": {
        "id": "r_XTtn9eKgu9"
      }
    },
    {
      "cell_type": "markdown",
      "source": [
        "## 6.4 Linear Regression"
      ],
      "metadata": {
        "id": "YJzB43ytKrrA"
      }
    },
    {
      "cell_type": "markdown",
      "source": [
        "### 6.4.1 Prepare Data"
      ],
      "metadata": {
        "id": "6qZRg4_QMD7Z"
      }
    },
    {
      "cell_type": "code",
      "source": [
        "#Extract all of the responses to Activity based questions and remove responses with missing Income information\n",
        "df_1 = df_19[(df_19.Category == 'Activity') & (df_19.LocationDesc != \"National\") & (df_19.Income.notna()) & (df_19.Income != 'Data not reported')]\n",
        "print(df_1.Income.unique())\n"
      ],
      "metadata": {
        "colab": {
          "base_uri": "https://localhost:8080/"
        },
        "id": "jdMXHVLIKakN",
        "outputId": "cf2dc814-ac53-470a-803f-29dcd445c766"
      },
      "execution_count": null,
      "outputs": [
        {
          "output_type": "stream",
          "name": "stdout",
          "text": [
            "['Less than $15,000' '$50,000 - $74,999' '$25,000 - $34,999'\n",
            " '$75,000 or greater' '$35,000 - $49,999' '$15,000 - $24,999']\n"
          ]
        }
      ]
    },
    {
      "cell_type": "code",
      "source": [
        "# Totalize the responses to all of the questions related to Activity type,\n",
        "# so that a percentage can be formulated about how much of each category was represented in the overall survey\n",
        "inc_cat = 'Less than $15,000'\n",
        "df_t = df_1.groupby(['LocationAbbr','LocationDesc']).sum()\n",
        "df_i = df_1[df_1.Income==inc_cat].groupby(['LocationAbbr','LocationDesc','Income'], as_index=False).sum()"
      ],
      "metadata": {
        "id": "qwSPSqyALFpE"
      },
      "execution_count": null,
      "outputs": []
    },
    {
      "cell_type": "code",
      "source": [
        "df_1 = pd.merge(left=df_i, right=df_t, how='left', left_on='LocationAbbr', right_on='LocationAbbr')\n",
        "df_1['Percentage'] = np.round(df_1.Sample_Size_x/df_1.Sample_Size_y * 100, 1)\n",
        "df_1.sort_values(['LocationDesc']).head(3)"
      ],
      "metadata": {
        "colab": {
          "base_uri": "https://localhost:8080/",
          "height": 267
        },
        "id": "AuSV0JHwLNLe",
        "outputId": "5418878f-7aea-4e95-e258-8c1facb7996b"
      },
      "execution_count": null,
      "outputs": [
        {
          "output_type": "execute_result",
          "data": {
            "text/html": [
              "<div>\n",
              "<style scoped>\n",
              "    .dataframe tbody tr th:only-of-type {\n",
              "        vertical-align: middle;\n",
              "    }\n",
              "\n",
              "    .dataframe tbody tr th {\n",
              "        vertical-align: top;\n",
              "    }\n",
              "\n",
              "    .dataframe thead th {\n",
              "        text-align: right;\n",
              "    }\n",
              "</style>\n",
              "<table border=\"1\" class=\"dataframe\">\n",
              "  <thead>\n",
              "    <tr style=\"text-align: right;\">\n",
              "      <th></th>\n",
              "      <th>LocationAbbr</th>\n",
              "      <th>LocationDesc</th>\n",
              "      <th>Income</th>\n",
              "      <th>Year_x</th>\n",
              "      <th>Percentage_x</th>\n",
              "      <th>LCL_x</th>\n",
              "      <th>HCL_x</th>\n",
              "      <th>Sample_Size_x</th>\n",
              "      <th>Count_x</th>\n",
              "      <th>Year_y</th>\n",
              "      <th>Percentage_y</th>\n",
              "      <th>LCL_y</th>\n",
              "      <th>HCL_y</th>\n",
              "      <th>Sample_Size_y</th>\n",
              "      <th>Count_y</th>\n",
              "      <th>Percentage</th>\n",
              "    </tr>\n",
              "  </thead>\n",
              "  <tbody>\n",
              "    <tr>\n",
              "      <th>1</th>\n",
              "      <td>AL</td>\n",
              "      <td>Alabama</td>\n",
              "      <td>Less than $15,000</td>\n",
              "      <td>10095</td>\n",
              "      <td>130.9</td>\n",
              "      <td>110.0</td>\n",
              "      <td>154.2</td>\n",
              "      <td>3229</td>\n",
              "      <td>851.0</td>\n",
              "      <td>60570</td>\n",
              "      <td>906.6</td>\n",
              "      <td>787.6</td>\n",
              "      <td>1036.6</td>\n",
              "      <td>26042</td>\n",
              "      <td>7998.0</td>\n",
              "      <td>12.4</td>\n",
              "    </tr>\n",
              "    <tr>\n",
              "      <th>0</th>\n",
              "      <td>AK</td>\n",
              "      <td>Alaska</td>\n",
              "      <td>Less than $15,000</td>\n",
              "      <td>10095</td>\n",
              "      <td>154.5</td>\n",
              "      <td>104.1</td>\n",
              "      <td>215.8</td>\n",
              "      <td>760</td>\n",
              "      <td>233.0</td>\n",
              "      <td>60570</td>\n",
              "      <td>1028.9</td>\n",
              "      <td>792.1</td>\n",
              "      <td>1303.4</td>\n",
              "      <td>11335</td>\n",
              "      <td>4133.0</td>\n",
              "      <td>6.7</td>\n",
              "    </tr>\n",
              "    <tr>\n",
              "      <th>3</th>\n",
              "      <td>AZ</td>\n",
              "      <td>Arizona</td>\n",
              "      <td>Less than $15,000</td>\n",
              "      <td>10095</td>\n",
              "      <td>169.5</td>\n",
              "      <td>139.5</td>\n",
              "      <td>201.8</td>\n",
              "      <td>3356</td>\n",
              "      <td>1141.0</td>\n",
              "      <td>60570</td>\n",
              "      <td>1055.9</td>\n",
              "      <td>911.1</td>\n",
              "      <td>1211.3</td>\n",
              "      <td>33334</td>\n",
              "      <td>11961.0</td>\n",
              "      <td>10.1</td>\n",
              "    </tr>\n",
              "  </tbody>\n",
              "</table>\n",
              "</div>"
            ],
            "text/plain": [
              "  LocationAbbr LocationDesc  ...  Count_y  Percentage\n",
              "1           AL      Alabama  ...   7998.0        12.4\n",
              "0           AK       Alaska  ...   4133.0         6.7\n",
              "3           AZ      Arizona  ...  11961.0        10.1\n",
              "\n",
              "[3 rows x 16 columns]"
            ]
          },
          "metadata": {},
          "execution_count": 91
        }
      ]
    },
    {
      "cell_type": "code",
      "source": [
        "df_2 = df_19[(df_19.Question == 'No activity') & (df_19.LocationDesc != \"National\")].groupby(['LocationAbbr', 'LocationDesc'], as_index=False).sum().sort_values(['LocationDesc'])\n",
        "df_2.Percentage = np.round(df_2.Count/df_2.Sample_Size * 100,1)\n",
        "df_2.head(5)"
      ],
      "metadata": {
        "colab": {
          "base_uri": "https://localhost:8080/",
          "height": 206
        },
        "id": "rR-LcNXJLS6G",
        "outputId": "d8af9ca9-1808-4ea3-ded4-5baed9e4fd53"
      },
      "execution_count": null,
      "outputs": [
        {
          "output_type": "execute_result",
          "data": {
            "text/html": [
              "<div>\n",
              "<style scoped>\n",
              "    .dataframe tbody tr th:only-of-type {\n",
              "        vertical-align: middle;\n",
              "    }\n",
              "\n",
              "    .dataframe tbody tr th {\n",
              "        vertical-align: top;\n",
              "    }\n",
              "\n",
              "    .dataframe thead th {\n",
              "        text-align: right;\n",
              "    }\n",
              "</style>\n",
              "<table border=\"1\" class=\"dataframe\">\n",
              "  <thead>\n",
              "    <tr style=\"text-align: right;\">\n",
              "      <th></th>\n",
              "      <th>LocationAbbr</th>\n",
              "      <th>LocationDesc</th>\n",
              "      <th>Year</th>\n",
              "      <th>Percentage</th>\n",
              "      <th>LCL</th>\n",
              "      <th>HCL</th>\n",
              "      <th>Sample_Size</th>\n",
              "      <th>Count</th>\n",
              "    </tr>\n",
              "  </thead>\n",
              "  <tbody>\n",
              "    <tr>\n",
              "      <th>1</th>\n",
              "      <td>AL</td>\n",
              "      <td>Alabama</td>\n",
              "      <td>50475</td>\n",
              "      <td>31.6</td>\n",
              "      <td>683.5</td>\n",
              "      <td>899.0</td>\n",
              "      <td>39952</td>\n",
              "      <td>12636.0</td>\n",
              "    </tr>\n",
              "    <tr>\n",
              "      <th>0</th>\n",
              "      <td>AK</td>\n",
              "      <td>Alaska</td>\n",
              "      <td>48456</td>\n",
              "      <td>21.2</td>\n",
              "      <td>417.2</td>\n",
              "      <td>739.2</td>\n",
              "      <td>16689</td>\n",
              "      <td>3540.0</td>\n",
              "    </tr>\n",
              "    <tr>\n",
              "      <th>3</th>\n",
              "      <td>AZ</td>\n",
              "      <td>Arizona</td>\n",
              "      <td>54513</td>\n",
              "      <td>24.1</td>\n",
              "      <td>550.2</td>\n",
              "      <td>820.5</td>\n",
              "      <td>50129</td>\n",
              "      <td>12106.0</td>\n",
              "    </tr>\n",
              "    <tr>\n",
              "      <th>2</th>\n",
              "      <td>AR</td>\n",
              "      <td>Arkansas</td>\n",
              "      <td>52494</td>\n",
              "      <td>31.8</td>\n",
              "      <td>687.5</td>\n",
              "      <td>980.9</td>\n",
              "      <td>30372</td>\n",
              "      <td>9644.0</td>\n",
              "    </tr>\n",
              "    <tr>\n",
              "      <th>4</th>\n",
              "      <td>CA</td>\n",
              "      <td>California</td>\n",
              "      <td>54513</td>\n",
              "      <td>22.2</td>\n",
              "      <td>542.8</td>\n",
              "      <td>714.8</td>\n",
              "      <td>63867</td>\n",
              "      <td>14168.0</td>\n",
              "    </tr>\n",
              "  </tbody>\n",
              "</table>\n",
              "</div>"
            ],
            "text/plain": [
              "  LocationAbbr LocationDesc   Year  ...    HCL  Sample_Size    Count\n",
              "1           AL      Alabama  50475  ...  899.0        39952  12636.0\n",
              "0           AK       Alaska  48456  ...  739.2        16689   3540.0\n",
              "3           AZ      Arizona  54513  ...  820.5        50129  12106.0\n",
              "2           AR     Arkansas  52494  ...  980.9        30372   9644.0\n",
              "4           CA   California  54513  ...  714.8        63867  14168.0\n",
              "\n",
              "[5 rows x 8 columns]"
            ]
          },
          "metadata": {},
          "execution_count": 92
        }
      ]
    },
    {
      "cell_type": "code",
      "source": [
        "x = df_1.Percentage\n",
        "y = df_2.Percentage\n",
        "\n",
        "plt.plot(x, y, \"x\")\n",
        "plt.xlabel(\"% of respondents with \" + inc_cat)\n",
        "plt.ylabel(\"% with no activity\")\n",
        "\n",
        "plt.text(x.loc[y>45] - 3, y.loc[y>45] - 2.5, df_1[y>45].LocationDesc.item(), bbox=dict(facecolor='red', alpha=0.5))\n",
        "\n",
        "plt.title(\"% with No Activity vs \")"
      ],
      "metadata": {
        "colab": {
          "base_uri": "https://localhost:8080/",
          "height": 572
        },
        "id": "Per1Qm06Lfdo",
        "outputId": "205e4bfd-fcab-4aaa-e5a0-a5f2669e5569"
      },
      "execution_count": null,
      "outputs": [
        {
          "output_type": "stream",
          "name": "stderr",
          "text": [
            "/usr/local/lib/python3.7/dist-packages/ipykernel_launcher.py:8: UserWarning: Boolean Series key will be reindexed to match DataFrame index.\n",
            "  \n"
          ]
        },
        {
          "output_type": "execute_result",
          "data": {
            "text/plain": [
              "Text(0.5, 1.0, '% with No Activity vs ')"
            ]
          },
          "metadata": {},
          "execution_count": 93
        },
        {
          "output_type": "display_data",
          "data": {
            "image/png": "[encoded data removed]",
            "text/plain": [
              "<Figure size 864x576 with 1 Axes>"
            ]
          },
          "metadata": {}
        }
      ]
    },
    {
      "cell_type": "markdown",
      "source": [
        "### 6.4.2 Regression"
      ],
      "metadata": {
        "id": "h2bxn3aiMNRl"
      }
    },
    {
      "cell_type": "code",
      "source": [
        "df_1['Income'] = x\n",
        "df_1[\"NoActivity\"] = y\n",
        "\n",
        "m = sm.ols('NoActivity ~ Income', data=df_1)\n",
        "m = m.fit()\n",
        "m.summary()"
      ],
      "metadata": {
        "colab": {
          "base_uri": "https://localhost:8080/",
          "height": 448
        },
        "id": "nc95Igx1L3gu",
        "outputId": "431b5b0b-da3c-4e6c-f77c-899d529571dc"
      },
      "execution_count": null,
      "outputs": [
        {
          "output_type": "execute_result",
          "data": {
            "text/html": [
              "<table class=\"simpletable\">\n",
              "<caption>OLS Regression Results</caption>\n",
              "<tr>\n",
              "  <th>Dep. Variable:</th>       <td>NoActivity</td>    <th>  R-squared:         </th> <td>   0.598</td>\n",
              "</tr>\n",
              "<tr>\n",
              "  <th>Model:</th>                   <td>OLS</td>       <th>  Adj. R-squared:    </th> <td>   0.590</td>\n",
              "</tr>\n",
              "<tr>\n",
              "  <th>Method:</th>             <td>Least Squares</td>  <th>  F-statistic:       </th> <td>   74.24</td>\n",
              "</tr>\n",
              "<tr>\n",
              "  <th>Date:</th>             <td>Mon, 13 Dec 2021</td> <th>  Prob (F-statistic):</th> <td>1.88e-11</td>\n",
              "</tr>\n",
              "<tr>\n",
              "  <th>Time:</th>                 <td>13:46:39</td>     <th>  Log-Likelihood:    </th> <td> -138.32</td>\n",
              "</tr>\n",
              "<tr>\n",
              "  <th>No. Observations:</th>      <td>    52</td>      <th>  AIC:               </th> <td>   280.6</td>\n",
              "</tr>\n",
              "<tr>\n",
              "  <th>Df Residuals:</th>          <td>    50</td>      <th>  BIC:               </th> <td>   284.5</td>\n",
              "</tr>\n",
              "<tr>\n",
              "  <th>Df Model:</th>              <td>     1</td>      <th>                     </th>     <td> </td>   \n",
              "</tr>\n",
              "<tr>\n",
              "  <th>Covariance Type:</th>      <td>nonrobust</td>    <th>                     </th>     <td> </td>   \n",
              "</tr>\n",
              "</table>\n",
              "<table class=\"simpletable\">\n",
              "<tr>\n",
              "      <td></td>         <th>coef</th>     <th>std err</th>      <th>t</th>      <th>P>|t|</th>  <th>[0.025</th>    <th>0.975]</th>  \n",
              "</tr>\n",
              "<tr>\n",
              "  <th>Intercept</th> <td>   18.7723</td> <td>    1.031</td> <td>   18.210</td> <td> 0.000</td> <td>   16.702</td> <td>   20.843</td>\n",
              "</tr>\n",
              "<tr>\n",
              "  <th>Income</th>    <td>    0.8141</td> <td>    0.094</td> <td>    8.616</td> <td> 0.000</td> <td>    0.624</td> <td>    1.004</td>\n",
              "</tr>\n",
              "</table>\n",
              "<table class=\"simpletable\">\n",
              "<tr>\n",
              "  <th>Omnibus:</th>       <td> 0.582</td> <th>  Durbin-Watson:     </th> <td>   1.601</td>\n",
              "</tr>\n",
              "<tr>\n",
              "  <th>Prob(Omnibus):</th> <td> 0.748</td> <th>  Jarque-Bera (JB):  </th> <td>   0.202</td>\n",
              "</tr>\n",
              "<tr>\n",
              "  <th>Skew:</th>          <td>-0.140</td> <th>  Prob(JB):          </th> <td>   0.904</td>\n",
              "</tr>\n",
              "<tr>\n",
              "  <th>Kurtosis:</th>      <td> 3.121</td> <th>  Cond. No.          </th> <td>    23.1</td>\n",
              "</tr>\n",
              "</table><br/><br/>Warnings:<br/>[1] Standard Errors assume that the covariance matrix of the errors is correctly specified."
            ],
            "text/plain": [
              "<class 'statsmodels.iolib.summary.Summary'>\n",
              "\"\"\"\n",
              "                            OLS Regression Results                            \n",
              "==============================================================================\n",
              "Dep. Variable:             NoActivity   R-squared:                       0.598\n",
              "Model:                            OLS   Adj. R-squared:                  0.590\n",
              "Method:                 Least Squares   F-statistic:                     74.24\n",
              "Date:                Mon, 13 Dec 2021   Prob (F-statistic):           1.88e-11\n",
              "Time:                        13:46:39   Log-Likelihood:                -138.32\n",
              "No. Observations:                  52   AIC:                             280.6\n",
              "Df Residuals:                      50   BIC:                             284.5\n",
              "Df Model:                           1                                         \n",
              "Covariance Type:            nonrobust                                         \n",
              "==============================================================================\n",
              "                 coef    std err          t      P>|t|      [0.025      0.975]\n",
              "------------------------------------------------------------------------------\n",
              "Intercept     18.7723      1.031     18.210      0.000      16.702      20.843\n",
              "Income         0.8141      0.094      8.616      0.000       0.624       1.004\n",
              "==============================================================================\n",
              "Omnibus:                        0.582   Durbin-Watson:                   1.601\n",
              "Prob(Omnibus):                  0.748   Jarque-Bera (JB):                0.202\n",
              "Skew:                          -0.140   Prob(JB):                        0.904\n",
              "Kurtosis:                       3.121   Cond. No.                         23.1\n",
              "==============================================================================\n",
              "\n",
              "Warnings:\n",
              "[1] Standard Errors assume that the covariance matrix of the errors is correctly specified.\n",
              "\"\"\""
            ]
          },
          "metadata": {},
          "execution_count": 94
        }
      ]
    },
    {
      "cell_type": "code",
      "source": [
        "#Check for outliers using Influence Plot\n",
        "fig, ax = plt.subplots(figsize=(15,6))\n",
        "fig = influence_plot(m, ax=ax)\n",
        "\n",
        "ax.plot([3*2/52, 3*2/52], [-3, 2], '--', color='r')"
      ],
      "metadata": {
        "colab": {
          "base_uri": "https://localhost:8080/",
          "height": 429
        },
        "id": "ROPpoqKoMnr7",
        "outputId": "8dee47cd-3e7d-4949-e8b3-dbf4e1918fdc"
      },
      "execution_count": null,
      "outputs": [
        {
          "output_type": "execute_result",
          "data": {
            "text/plain": [
              "[<matplotlib.lines.Line2D at 0x7f2e771343d0>]"
            ]
          },
          "metadata": {},
          "execution_count": 95
        },
        {
          "output_type": "display_data",
          "data": {
            "image/png": "[encoded data removed]",
            "text/plain": [
              "<Figure size 1080x432 with 1 Axes>"
            ]
          },
          "metadata": {}
        }
      ]
    },
    {
      "cell_type": "code",
      "source": [
        "print(df_1.iloc[39].LocationDesc)\n",
        "df_1.drop(index=[39], inplace=True)"
      ],
      "metadata": {
        "colab": {
          "base_uri": "https://localhost:8080/"
        },
        "id": "T8s9HNJ8MvS6",
        "outputId": "45629285-1f7c-4cde-df70-29731a28351c"
      },
      "execution_count": null,
      "outputs": [
        {
          "output_type": "stream",
          "name": "stdout",
          "text": [
            "Puerto Rico\n"
          ]
        }
      ]
    },
    {
      "cell_type": "code",
      "source": [
        "#Perform another fit for the data\n",
        "m = sm.ols('NoActivity ~ Income', data=df_1)\n",
        "m = m.fit()\n",
        "m.summary()"
      ],
      "metadata": {
        "colab": {
          "base_uri": "https://localhost:8080/",
          "height": 448
        },
        "id": "GagfbpjrMy_9",
        "outputId": "80c3aaad-24d3-44c8-c441-5054e864b6a4"
      },
      "execution_count": null,
      "outputs": [
        {
          "output_type": "execute_result",
          "data": {
            "text/html": [
              "<table class=\"simpletable\">\n",
              "<caption>OLS Regression Results</caption>\n",
              "<tr>\n",
              "  <th>Dep. Variable:</th>       <td>NoActivity</td>    <th>  R-squared:         </th> <td>   0.363</td>\n",
              "</tr>\n",
              "<tr>\n",
              "  <th>Model:</th>                   <td>OLS</td>       <th>  Adj. R-squared:    </th> <td>   0.350</td>\n",
              "</tr>\n",
              "<tr>\n",
              "  <th>Method:</th>             <td>Least Squares</td>  <th>  F-statistic:       </th> <td>   27.97</td>\n",
              "</tr>\n",
              "<tr>\n",
              "  <th>Date:</th>             <td>Mon, 13 Dec 2021</td> <th>  Prob (F-statistic):</th> <td>2.85e-06</td>\n",
              "</tr>\n",
              "<tr>\n",
              "  <th>Time:</th>                 <td>13:46:39</td>     <th>  Log-Likelihood:    </th> <td> -135.53</td>\n",
              "</tr>\n",
              "<tr>\n",
              "  <th>No. Observations:</th>      <td>    51</td>      <th>  AIC:               </th> <td>   275.1</td>\n",
              "</tr>\n",
              "<tr>\n",
              "  <th>Df Residuals:</th>          <td>    49</td>      <th>  BIC:               </th> <td>   278.9</td>\n",
              "</tr>\n",
              "<tr>\n",
              "  <th>Df Model:</th>              <td>     1</td>      <th>                     </th>     <td> </td>   \n",
              "</tr>\n",
              "<tr>\n",
              "  <th>Covariance Type:</th>      <td>nonrobust</td>    <th>                     </th>     <td> </td>   \n",
              "</tr>\n",
              "</table>\n",
              "<table class=\"simpletable\">\n",
              "<tr>\n",
              "      <td></td>         <th>coef</th>     <th>std err</th>      <th>t</th>      <th>P>|t|</th>  <th>[0.025</th>    <th>0.975]</th>  \n",
              "</tr>\n",
              "<tr>\n",
              "  <th>Intercept</th> <td>   17.1921</td> <td>    1.758</td> <td>    9.779</td> <td> 0.000</td> <td>   13.659</td> <td>   20.725</td>\n",
              "</tr>\n",
              "<tr>\n",
              "  <th>Income</th>    <td>    0.9943</td> <td>    0.188</td> <td>    5.289</td> <td> 0.000</td> <td>    0.617</td> <td>    1.372</td>\n",
              "</tr>\n",
              "</table>\n",
              "<table class=\"simpletable\">\n",
              "<tr>\n",
              "  <th>Omnibus:</th>       <td> 2.542</td> <th>  Durbin-Watson:     </th> <td>   1.600</td>\n",
              "</tr>\n",
              "<tr>\n",
              "  <th>Prob(Omnibus):</th> <td> 0.281</td> <th>  Jarque-Bera (JB):  </th> <td>   1.598</td>\n",
              "</tr>\n",
              "<tr>\n",
              "  <th>Skew:</th>          <td>-0.315</td> <th>  Prob(JB):          </th> <td>   0.450</td>\n",
              "</tr>\n",
              "<tr>\n",
              "  <th>Kurtosis:</th>      <td> 3.596</td> <th>  Cond. No.          </th> <td>    33.7</td>\n",
              "</tr>\n",
              "</table><br/><br/>Warnings:<br/>[1] Standard Errors assume that the covariance matrix of the errors is correctly specified."
            ],
            "text/plain": [
              "<class 'statsmodels.iolib.summary.Summary'>\n",
              "\"\"\"\n",
              "                            OLS Regression Results                            \n",
              "==============================================================================\n",
              "Dep. Variable:             NoActivity   R-squared:                       0.363\n",
              "Model:                            OLS   Adj. R-squared:                  0.350\n",
              "Method:                 Least Squares   F-statistic:                     27.97\n",
              "Date:                Mon, 13 Dec 2021   Prob (F-statistic):           2.85e-06\n",
              "Time:                        13:46:39   Log-Likelihood:                -135.53\n",
              "No. Observations:                  51   AIC:                             275.1\n",
              "Df Residuals:                      49   BIC:                             278.9\n",
              "Df Model:                           1                                         \n",
              "Covariance Type:            nonrobust                                         \n",
              "==============================================================================\n",
              "                 coef    std err          t      P>|t|      [0.025      0.975]\n",
              "------------------------------------------------------------------------------\n",
              "Intercept     17.1921      1.758      9.779      0.000      13.659      20.725\n",
              "Income         0.9943      0.188      5.289      0.000       0.617       1.372\n",
              "==============================================================================\n",
              "Omnibus:                        2.542   Durbin-Watson:                   1.600\n",
              "Prob(Omnibus):                  0.281   Jarque-Bera (JB):                1.598\n",
              "Skew:                          -0.315   Prob(JB):                        0.450\n",
              "Kurtosis:                       3.596   Cond. No.                         33.7\n",
              "==============================================================================\n",
              "\n",
              "Warnings:\n",
              "[1] Standard Errors assume that the covariance matrix of the errors is correctly specified.\n",
              "\"\"\""
            ]
          },
          "metadata": {},
          "execution_count": 97
        }
      ]
    },
    {
      "cell_type": "code",
      "source": [
        "#Check for outliers using Influence Plot\n",
        "fig, ax = plt.subplots(figsize=(15,6))\n",
        "fig = influence_plot(m, ax=ax)\n",
        "\n",
        "ax.plot([3*2/51, 3*2/51], [-3, 2], '--', color='r')"
      ],
      "metadata": {
        "colab": {
          "base_uri": "https://localhost:8080/",
          "height": 429
        },
        "id": "KwWVZiadM9Tu",
        "outputId": "8ca07ab5-4905-441e-cc50-55526a2bf17a"
      },
      "execution_count": null,
      "outputs": [
        {
          "output_type": "execute_result",
          "data": {
            "text/plain": [
              "[<matplotlib.lines.Line2D at 0x7f2e770c04d0>]"
            ]
          },
          "metadata": {},
          "execution_count": 98
        },
        {
          "output_type": "display_data",
          "data": {
            "image/png": "[encoded data removed]",
            "text/plain": [
              "<Figure size 1080x432 with 1 Axes>"
            ]
          },
          "metadata": {}
        }
      ]
    },
    {
      "cell_type": "markdown",
      "source": [
        "Based on the above revised Influence plot we can see that point with index 4 is also to be considered as an outlier as it lies outside the +/-3 Studentized Residuals"
      ],
      "metadata": {
        "id": "AHrlXxZDNVsH"
      }
    },
    {
      "cell_type": "code",
      "source": [
        "df_1.drop(index=[4], inplace=True)"
      ],
      "metadata": {
        "id": "SJjeFMyiNcEv"
      },
      "execution_count": null,
      "outputs": []
    },
    {
      "cell_type": "markdown",
      "source": [
        "#### Final"
      ],
      "metadata": {
        "id": "0jDDEckdNYgh"
      }
    },
    {
      "cell_type": "code",
      "source": [
        "#Perform final fit for the data\n",
        "m = sm.ols('NoActivity ~ Income', data=df_1)\n",
        "m = m.fit()\n",
        "m.summary()"
      ],
      "metadata": {
        "colab": {
          "base_uri": "https://localhost:8080/",
          "height": 448
        },
        "id": "Yiuv0NmtNJM_",
        "outputId": "1d6b4871-938f-484c-fcec-0634207c2a59"
      },
      "execution_count": null,
      "outputs": [
        {
          "output_type": "execute_result",
          "data": {
            "text/html": [
              "<table class=\"simpletable\">\n",
              "<caption>OLS Regression Results</caption>\n",
              "<tr>\n",
              "  <th>Dep. Variable:</th>       <td>NoActivity</td>    <th>  R-squared:         </th> <td>   0.484</td>\n",
              "</tr>\n",
              "<tr>\n",
              "  <th>Model:</th>                   <td>OLS</td>       <th>  Adj. R-squared:    </th> <td>   0.473</td>\n",
              "</tr>\n",
              "<tr>\n",
              "  <th>Method:</th>             <td>Least Squares</td>  <th>  F-statistic:       </th> <td>   45.02</td>\n",
              "</tr>\n",
              "<tr>\n",
              "  <th>Date:</th>             <td>Mon, 13 Dec 2021</td> <th>  Prob (F-statistic):</th> <td>2.05e-08</td>\n",
              "</tr>\n",
              "<tr>\n",
              "  <th>Time:</th>                 <td>13:46:39</td>     <th>  Log-Likelihood:    </th> <td> -127.70</td>\n",
              "</tr>\n",
              "<tr>\n",
              "  <th>No. Observations:</th>      <td>    50</td>      <th>  AIC:               </th> <td>   259.4</td>\n",
              "</tr>\n",
              "<tr>\n",
              "  <th>Df Residuals:</th>          <td>    48</td>      <th>  BIC:               </th> <td>   263.2</td>\n",
              "</tr>\n",
              "<tr>\n",
              "  <th>Df Model:</th>              <td>     1</td>      <th>                     </th>     <td> </td>   \n",
              "</tr>\n",
              "<tr>\n",
              "  <th>Covariance Type:</th>      <td>nonrobust</td>    <th>                     </th>     <td> </td>   \n",
              "</tr>\n",
              "</table>\n",
              "<table class=\"simpletable\">\n",
              "<tr>\n",
              "      <td></td>         <th>coef</th>     <th>std err</th>      <th>t</th>      <th>P>|t|</th>  <th>[0.025</th>    <th>0.975]</th>  \n",
              "</tr>\n",
              "<tr>\n",
              "  <th>Intercept</th> <td>   15.4616</td> <td>    1.662</td> <td>    9.305</td> <td> 0.000</td> <td>   12.121</td> <td>   18.802</td>\n",
              "</tr>\n",
              "<tr>\n",
              "  <th>Income</th>    <td>    1.2132</td> <td>    0.181</td> <td>    6.710</td> <td> 0.000</td> <td>    0.850</td> <td>    1.577</td>\n",
              "</tr>\n",
              "</table>\n",
              "<table class=\"simpletable\">\n",
              "<tr>\n",
              "  <th>Omnibus:</th>       <td> 0.426</td> <th>  Durbin-Watson:     </th> <td>   1.818</td>\n",
              "</tr>\n",
              "<tr>\n",
              "  <th>Prob(Omnibus):</th> <td> 0.808</td> <th>  Jarque-Bera (JB):  </th> <td>   0.139</td>\n",
              "</tr>\n",
              "<tr>\n",
              "  <th>Skew:</th>          <td> 0.126</td> <th>  Prob(JB):          </th> <td>   0.933</td>\n",
              "</tr>\n",
              "<tr>\n",
              "  <th>Kurtosis:</th>      <td> 3.056</td> <th>  Cond. No.          </th> <td>    34.4</td>\n",
              "</tr>\n",
              "</table><br/><br/>Warnings:<br/>[1] Standard Errors assume that the covariance matrix of the errors is correctly specified."
            ],
            "text/plain": [
              "<class 'statsmodels.iolib.summary.Summary'>\n",
              "\"\"\"\n",
              "                            OLS Regression Results                            \n",
              "==============================================================================\n",
              "Dep. Variable:             NoActivity   R-squared:                       0.484\n",
              "Model:                            OLS   Adj. R-squared:                  0.473\n",
              "Method:                 Least Squares   F-statistic:                     45.02\n",
              "Date:                Mon, 13 Dec 2021   Prob (F-statistic):           2.05e-08\n",
              "Time:                        13:46:39   Log-Likelihood:                -127.70\n",
              "No. Observations:                  50   AIC:                             259.4\n",
              "Df Residuals:                      48   BIC:                             263.2\n",
              "Df Model:                           1                                         \n",
              "Covariance Type:            nonrobust                                         \n",
              "==============================================================================\n",
              "                 coef    std err          t      P>|t|      [0.025      0.975]\n",
              "------------------------------------------------------------------------------\n",
              "Intercept     15.4616      1.662      9.305      0.000      12.121      18.802\n",
              "Income         1.2132      0.181      6.710      0.000       0.850       1.577\n",
              "==============================================================================\n",
              "Omnibus:                        0.426   Durbin-Watson:                   1.818\n",
              "Prob(Omnibus):                  0.808   Jarque-Bera (JB):                0.139\n",
              "Skew:                           0.126   Prob(JB):                        0.933\n",
              "Kurtosis:                       3.056   Cond. No.                         34.4\n",
              "==============================================================================\n",
              "\n",
              "Warnings:\n",
              "[1] Standard Errors assume that the covariance matrix of the errors is correctly specified.\n",
              "\"\"\""
            ]
          },
          "metadata": {},
          "execution_count": 100
        }
      ]
    },
    {
      "cell_type": "code",
      "source": [
        "rcParams['figure.figsize'] = 12,8\n",
        "\n",
        "x = df_1.Income\n",
        "y = df_1.NoActivity\n",
        "\n",
        "t = np.linspace(4, 16, 100)\n",
        "\n",
        "plt.plot(x, y, \"x\")\n",
        "plt.plot(t, m.params[0] + m.params[1]*t, 'r--')\n",
        "plt.xlabel(\"% of respondents with \" + inc_cat, fontsize=14)\n",
        "plt.ylabel(\"% with no activity\", fontsize=14)\n",
        "\n",
        "plt.text(14, 31.5, \"NA ~ 15 + 1.2 * INC\", color=\"red\")\n",
        "plt.text(14, 18, \"Adj. R^2 = 0.473\")\n",
        "\n",
        "plt.title(\"Percent of people with obesity vs no exercise per state\")"
      ],
      "metadata": {
        "colab": {
          "base_uri": "https://localhost:8080/",
          "height": 536
        },
        "id": "DT54kJ0jNjro",
        "outputId": "794a9788-6052-44a6-d8c7-d41e50c95fe2"
      },
      "execution_count": null,
      "outputs": [
        {
          "output_type": "execute_result",
          "data": {
            "text/plain": [
              "Text(0.5, 1.0, 'Percent of people with obesity vs no exercise per state')"
            ]
          },
          "metadata": {},
          "execution_count": 101
        },
        {
          "output_type": "display_data",
          "data": {
            "image/png": "[encoded data removed]",
            "text/plain": [
              "<Figure size 864x576 with 1 Axes>"
            ]
          },
          "metadata": {}
        }
      ]
    },
    {
      "cell_type": "markdown",
      "source": [
        "## 6.5 Conclusion\n",
        "---\n",
        "As can be seen from the analysis above the higher the percentage of people with income less thank $15k the higher the percentage of people having no physical activity. This lines up with our hypothesis that income of an individual plays an important role in whether they are able to perform additional physical activity (ie. exercise)\n"
      ],
      "metadata": {
        "id": "3P3zcnA-P7bT"
      }
    }
  ]
}